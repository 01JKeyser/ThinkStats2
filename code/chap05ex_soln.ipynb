{
 "metadata": {
  "name": ""
 },
 "nbformat": 3,
 "nbformat_minor": 0,
 "worksheets": [
  {
   "cells": [
    {
     "cell_type": "markdown",
     "metadata": {},
     "source": [
      "<tt>scipy.stats</tt> contains objects that represent analytic distributions"
     ]
    },
    {
     "cell_type": "code",
     "collapsed": false,
     "input": [
      "import scipy.stats"
     ],
     "language": "python",
     "metadata": {},
     "outputs": [],
     "prompt_number": 2
    },
    {
     "cell_type": "markdown",
     "metadata": {},
     "source": [
      "For example <tt>scipy.stats.norm</tt> represents a normal distribution."
     ]
    },
    {
     "cell_type": "code",
     "collapsed": false,
     "input": [
      "mu = 178\n",
      "sigma = 7.7\n",
      "dist = scipy.stats.norm(loc=mu, scale=sigma)\n",
      "type(dist)"
     ],
     "language": "python",
     "metadata": {},
     "outputs": [
      {
       "metadata": {},
       "output_type": "pyout",
       "prompt_number": 3,
       "text": [
        "scipy.stats.distributions.rv_frozen"
       ]
      }
     ],
     "prompt_number": 3
    },
    {
     "cell_type": "markdown",
     "metadata": {},
     "source": [
      "A \"frozen random variable\" can compute its mean and standard deviation."
     ]
    },
    {
     "cell_type": "code",
     "collapsed": false,
     "input": [
      "dist.mean(), dist.std()"
     ],
     "language": "python",
     "metadata": {},
     "outputs": [
      {
       "metadata": {},
       "output_type": "pyout",
       "prompt_number": 4,
       "text": [
        "(178.0, 7.7000000000000002)"
       ]
      }
     ],
     "prompt_number": 4
    },
    {
     "cell_type": "markdown",
     "metadata": {},
     "source": [
      "It can also evaluate its CDF.  How many people are more than one standard deviation below the mean?  About 16%"
     ]
    },
    {
     "cell_type": "code",
     "collapsed": false,
     "input": [
      "dist.cdf(mu-sigma)"
     ],
     "language": "python",
     "metadata": {},
     "outputs": [
      {
       "metadata": {},
       "output_type": "pyout",
       "prompt_number": 5,
       "text": [
        "0.15865525393145741"
       ]
      }
     ],
     "prompt_number": 5
    },
    {
     "cell_type": "markdown",
     "metadata": {},
     "source": [
      "How many people are between 5'10\" and 6'10\"?"
     ]
    },
    {
     "cell_type": "code",
     "collapsed": false,
     "input": [
      "low = dist.cdf(177.8)    # 5'10\"\n",
      "high = dist.cdf(185.4)   # 6'1\"\n",
      "low, high, high-low"
     ],
     "language": "python",
     "metadata": {},
     "outputs": [
      {
       "metadata": {},
       "output_type": "pyout",
       "prompt_number": 6,
       "text": [
        "(0.48963902786483265, 0.83173371081078573, 0.34209468294595308)"
       ]
      }
     ],
     "prompt_number": 6
    },
    {
     "cell_type": "markdown",
     "metadata": {},
     "source": [
      "<tt>scipy.stats.pareto</tt> represents a pareto distribution.  In Pareto world, the distribution of human heights has parameters alpha=1.7 and xmin=1 meter.  So the shortest person is 100 cm and the median is 150."
     ]
    },
    {
     "cell_type": "code",
     "collapsed": false,
     "input": [
      "alpha = 1.7\n",
      "xmin = 1\n",
      "dist = scipy.stats.pareto(b=alpha, scale=xmin)\n",
      "dist.median()"
     ],
     "language": "python",
     "metadata": {},
     "outputs": [
      {
       "metadata": {},
       "output_type": "pyout",
       "prompt_number": 7,
       "text": [
        "1.5034066538560549"
       ]
      }
     ],
     "prompt_number": 7
    },
    {
     "cell_type": "markdown",
     "metadata": {},
     "source": [
      "What is the mean height in Pareto world?"
     ]
    },
    {
     "cell_type": "code",
     "collapsed": false,
     "input": [
      "dist.mean()"
     ],
     "language": "python",
     "metadata": {},
     "outputs": [
      {
       "metadata": {},
       "output_type": "pyout",
       "prompt_number": 8,
       "text": [
        "2.4285714285714288"
       ]
      }
     ],
     "prompt_number": 8
    },
    {
     "cell_type": "markdown",
     "metadata": {},
     "source": [
      "What fraction of people are shorter than the mean?"
     ]
    },
    {
     "cell_type": "code",
     "collapsed": false,
     "input": [
      "dist.cdf(dist.mean())"
     ],
     "language": "python",
     "metadata": {},
     "outputs": [
      {
       "metadata": {},
       "output_type": "pyout",
       "prompt_number": 9,
       "text": [
        "0.77873969756528805"
       ]
      }
     ],
     "prompt_number": 9
    },
    {
     "cell_type": "markdown",
     "metadata": {},
     "source": [
      "Out of 7 billion people, how many do we expect to be taller than 1 km?  You could use <tt>dist.cdf</tt> or <tt>dist.sf</tt>."
     ]
    },
    {
     "cell_type": "code",
     "collapsed": false,
     "input": [
      "(1 - dist.cdf(1000)) * 7e9\n",
      "dist.sf(1000) * 7e9"
     ],
     "language": "python",
     "metadata": {},
     "outputs": [
      {
       "metadata": {},
       "output_type": "pyout",
       "prompt_number": 10,
       "text": [
        "55602.976430479954"
       ]
      }
     ],
     "prompt_number": 10
    },
    {
     "cell_type": "markdown",
     "metadata": {},
     "source": [
      "How tall do we expect the tallest person to be?"
     ]
    },
    {
     "cell_type": "code",
     "collapsed": false,
     "input": [
      "dist.sf(600000) * 7e9            # find the height that yields about 1 person"
     ],
     "language": "python",
     "metadata": {},
     "outputs": [
      {
       "metadata": {},
       "output_type": "pyout",
       "prompt_number": 12,
       "text": [
        "1.0525452731613427"
       ]
      }
     ],
     "prompt_number": 12
    },
    {
     "cell_type": "markdown",
     "metadata": {},
     "source": [
      "Generate a sample from a Weibull distribution and plot it using a transform that makes a Weibull distribution look like a straight line."
     ]
    },
    {
     "cell_type": "code",
     "collapsed": false,
     "input": [
      "import random\n",
      "import thinkstats2\n",
      "import thinkplot"
     ],
     "language": "python",
     "metadata": {},
     "outputs": [],
     "prompt_number": 13
    },
    {
     "cell_type": "code",
     "collapsed": false,
     "input": [
      "sample = [random.weibullvariate(2, 1) for _ in range(1000)]\n",
      "cdf = thinkstats2.Cdf(sample)\n",
      "thinkplot.Cdf(cdf, transform='weibull')\n",
      "thinkplot.Show(legend=False)"
     ],
     "language": "python",
     "metadata": {},
     "outputs": [
      {
       "metadata": {},
       "output_type": "display_data",
       "png": "[encoded data removed]",
       "text": [
        "<matplotlib.figure.Figure at 0x2e16d10>"
       ]
      },
      {
       "metadata": {},
       "output_type": "display_data",
       "text": [
        "<matplotlib.figure.Figure at 0x3a2bc90>"
       ]
      }
     ],
     "prompt_number": 18
    },
    {
     "cell_type": "markdown",
     "metadata": {},
     "source": [
      "Make a random selection from <tt>cdf</tt>."
     ]
    },
    {
     "cell_type": "code",
     "collapsed": false,
     "input": [
      "cdf.Random()"
     ],
     "language": "python",
     "metadata": {},
     "outputs": [
      {
       "metadata": {},
       "output_type": "pyout",
       "prompt_number": 19,
       "text": [
        "1.6693009396774592"
       ]
      }
     ],
     "prompt_number": 19
    },
    {
     "cell_type": "markdown",
     "metadata": {},
     "source": [
      "Draw a random sample from <tt>cdf</tt>."
     ]
    },
    {
     "cell_type": "code",
     "collapsed": false,
     "input": [
      "cdf.Sample(10)"
     ],
     "language": "python",
     "metadata": {},
     "outputs": [
      {
       "metadata": {},
       "output_type": "pyout",
       "prompt_number": 20,
       "text": [
        "[2.3767963690340963,\n",
        " 0.9229571587296144,\n",
        " 0.46670768157640363,\n",
        " 1.5343427542768855,\n",
        " 3.6859360476940077,\n",
        " 0.2588997776528041,\n",
        " 1.2697697294165142,\n",
        " 1.7099717373731906,\n",
        " 1.5640563728495396,\n",
        " 0.3896711057470067]"
       ]
      }
     ],
     "prompt_number": 20
    },
    {
     "cell_type": "markdown",
     "metadata": {},
     "source": [
      "Draw a random sample from <tt>cdf</tt>, then compute the percentile rank for each value, and plot the distribution of the percentile ranks."
     ]
    },
    {
     "cell_type": "code",
     "collapsed": false,
     "input": [
      "prs = [cdf.PercentileRank(x) for x in cdf.Sample(1000)]\n",
      "pr_cdf = thinkstats2.Cdf(prs)\n",
      "thinkplot.Cdf(pr_cdf)"
     ],
     "language": "python",
     "metadata": {},
     "outputs": [
      {
       "metadata": {},
       "output_type": "pyout",
       "prompt_number": 23,
       "text": [
        "{'xscale': 'linear', 'yscale': 'linear'}"
       ]
      },
      {
       "metadata": {},
       "output_type": "display_data",
       "png": "[encoded data removed]",
       "text": [
        "<matplotlib.figure.Figure at 0x3ab8d50>"
       ]
      }
     ],
     "prompt_number": 23
    },
    {
     "cell_type": "markdown",
     "metadata": {},
     "source": [
      "Generate 1000 random values using <tt>random.random()</tt> and plot their PMF."
     ]
    },
    {
     "cell_type": "code",
     "collapsed": false,
     "input": [
      "values = [random.random() for _ in range(1000)]\n",
      "pmf = thinkstats2.Pmf(values)\n",
      "thinkplot.Pmf(pmf, linewidth=0.1)"
     ],
     "language": "python",
     "metadata": {},
     "outputs": [
      {
       "output_type": "stream",
       "stream": "stderr",
       "text": [
        "WARNING:root:Pmf: width is very small; Pmf may not be visible.\n"
       ]
      },
      {
       "metadata": {},
       "output_type": "display_data",
       "png": "[encoded data removed]",
       "text": [
        "<matplotlib.figure.Figure at 0x3a436d0>"
       ]
      }
     ],
     "prompt_number": 27
    },
    {
     "cell_type": "markdown",
     "metadata": {},
     "source": [
      "Assuming that the PMF doesn't work very well, try plotting the CDF instead."
     ]
    },
    {
     "cell_type": "code",
     "collapsed": false,
     "input": [
      "cdf = thinkstats2.Cdf(values)\n",
      "thinkplot.Cdf(cdf)\n",
      "thinkplot.Show()"
     ],
     "language": "python",
     "metadata": {},
     "outputs": [
      {
       "metadata": {},
       "output_type": "display_data",
       "png": "[encoded data removed]",
       "text": [
        "<matplotlib.figure.Figure at 0x396b1d0>"
       ]
      },
      {
       "metadata": {},
       "output_type": "display_data",
       "text": [
        "<matplotlib.figure.Figure at 0x3adc0d0>"
       ]
      }
     ],
     "prompt_number": 28
    },
    {
     "cell_type": "code",
     "collapsed": false,
     "input": [
      "import analytic\n",
      "\n",
      "df = analytic.ReadBabyBoom()\n",
      "diffs = df.minutes.diff()\n",
      "cdf = thinkstats2.Cdf(diffs, label='actual')\n",
      "\n",
      "n = len(diffs)\n",
      "lam = 44.0 / 24 / 60\n",
      "sample = [random.expovariate(lam) for _ in range(n)]\n",
      "model = thinkstats2.Cdf(sample, label='model')\n",
      "    \n",
      "thinkplot.PrePlot(2)\n",
      "thinkplot.Cdfs([cdf, model], complement=True)\n",
      "thinkplot.Show(title='Time between births',\n",
      "                xlabel='minutes',\n",
      "                ylabel='CCDF',\n",
      "                yscale='log')\n",
      "\n",
      "lam, mean(sample)"
     ],
     "language": "python",
     "metadata": {},
     "outputs": [
      {
       "metadata": {},
       "output_type": "display_data",
       "png": "[encoded data removed]",
       "text": [
        "<matplotlib.figure.Figure at 0x3e22910>"
       ]
      },
      {
       "metadata": {},
       "output_type": "pyout",
       "prompt_number": 45,
       "text": [
        "(0.030555555555555555, 27.755656890788394)"
       ]
      },
      {
       "metadata": {},
       "output_type": "display_data",
       "text": [
        "<matplotlib.figure.Figure at 0x3a3d790>"
       ]
      }
     ],
     "prompt_number": 45
    },
    {
     "cell_type": "code",
     "collapsed": false,
     "input": [],
     "language": "python",
     "metadata": {},
     "outputs": [],
     "prompt_number": 30
    },
    {
     "cell_type": "code",
     "collapsed": false,
     "input": [],
     "language": "python",
     "metadata": {},
     "outputs": []
    }
   ],
   "metadata": {}
  }
 ]
}