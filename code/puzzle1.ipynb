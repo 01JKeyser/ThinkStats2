{
 "metadata": {
  "name": ""
 },
 "nbformat": 3,
 "nbformat_minor": 0,
 "worksheets": [
  {
   "cells": [
    {
     "cell_type": "markdown",
     "metadata": {},
     "source": [
      "This notebook contains my solution to [this puzzle](http://puzzles.bostonpython.com/puzzle1.html), written by John Bohannon for the Boston Python User Group.\n",
      "\n",
      "This solution is copyright 2014 Allen B. Downey\n",
      "\n",
      "License: GNU GPLv3 http://www.gnu.org/licenses/gpl.html"
     ]
    },
    {
     "cell_type": "code",
     "collapsed": false,
     "input": [
      "from itertools import *\n",
      "import numpy\n",
      "\n",
      "OPERATORS = '+-'\n",
      "DIGITS = numpy.array(list('123456789'))\n",
      "NUM_DIGITS = len(DIGITS)\n",
      "\n",
      "def index_iter(n):\n",
      "    \"\"\"Iterates all the places we could put n operators.\"\"\"\n",
      "    return combinations(range(1, NUM_DIGITS), n)\n",
      "\n",
      "list(index_iter(2))"
     ],
     "language": "python",
     "metadata": {},
     "outputs": [
      {
       "metadata": {},
       "output_type": "pyout",
       "prompt_number": 51,
       "text": [
        "[(1, 2),\n",
        " (1, 3),\n",
        " (1, 4),\n",
        " (1, 5),\n",
        " (1, 6),\n",
        " (1, 7),\n",
        " (1, 8),\n",
        " (2, 3),\n",
        " (2, 4),\n",
        " (2, 5),\n",
        " (2, 6),\n",
        " (2, 7),\n",
        " (2, 8),\n",
        " (3, 4),\n",
        " (3, 5),\n",
        " (3, 6),\n",
        " (3, 7),\n",
        " (3, 8),\n",
        " (4, 5),\n",
        " (4, 6),\n",
        " (4, 7),\n",
        " (4, 8),\n",
        " (5, 6),\n",
        " (5, 7),\n",
        " (5, 8),\n",
        " (6, 7),\n",
        " (6, 8),\n",
        " (7, 8)]"
       ]
      }
     ],
     "prompt_number": 51
    },
    {
     "cell_type": "code",
     "collapsed": false,
     "input": [
      "def operator_iter(n):\n",
      "    \"\"\"Iterates all sequences of n operators.\"\"\"\n",
      "    return product(OPERATORS, repeat=n)\n",
      "\n",
      "list(operator_iter(2))"
     ],
     "language": "python",
     "metadata": {},
     "outputs": [
      {
       "metadata": {},
       "output_type": "pyout",
       "prompt_number": 52,
       "text": [
        "[('+', '+'), ('+', '-'), ('-', '+'), ('-', '-')]"
       ]
      }
     ],
     "prompt_number": 52
    },
    {
     "cell_type": "code",
     "collapsed": false,
     "input": [
      "def make_expr(index, operator):\n",
      "    \"\"\"Inserts the operators at the given locations and make a string.\"\"\"\n",
      "    return ''.join(numpy.insert(DIGITS, index, operator))\n",
      "\n",
      "make_expr((2, 4), ('+', '-'))"
     ],
     "language": "python",
     "metadata": {},
     "outputs": [
      {
       "metadata": {},
       "output_type": "pyout",
       "prompt_number": 53,
       "text": [
        "'12+34-56789'"
       ]
      }
     ],
     "prompt_number": 53
    },
    {
     "cell_type": "code",
     "collapsed": false,
     "input": [
      "def expression_iter(n):\n",
      "    \"\"\"Iterates expressions with n operators.\"\"\"\n",
      "    return starmap(make_expr, product(index_iter(n), operator_iter(n)))\n",
      "\n",
      "list(expression_iter(1))"
     ],
     "language": "python",
     "metadata": {},
     "outputs": [
      {
       "metadata": {},
       "output_type": "pyout",
       "prompt_number": 54,
       "text": [
        "['1+23456789',\n",
        " '1-23456789',\n",
        " '12+3456789',\n",
        " '12-3456789',\n",
        " '123+456789',\n",
        " '123-456789',\n",
        " '1234+56789',\n",
        " '1234-56789',\n",
        " '12345+6789',\n",
        " '12345-6789',\n",
        " '123456+789',\n",
        " '123456-789',\n",
        " '1234567+89',\n",
        " '1234567-89',\n",
        " '12345678+9',\n",
        " '12345678-9']"
       ]
      }
     ],
     "prompt_number": 54
    },
    {
     "cell_type": "code",
     "collapsed": false,
     "input": [
      "def all_expression_iter():\n",
      "    \"\"\"Iterates all expressions.\"\"\"\n",
      "    return chain(*imap(expression_iter, range(NUM_DIGITS)))\n",
      "\n",
      "list(islice(all_expression_iter(), 10))"
     ],
     "language": "python",
     "metadata": {},
     "outputs": [
      {
       "metadata": {},
       "output_type": "pyout",
       "prompt_number": 55,
       "text": [
        "['123456789',\n",
        " '1+23456789',\n",
        " '1-23456789',\n",
        " '12+3456789',\n",
        " '12-3456789',\n",
        " '123+456789',\n",
        " '123-456789',\n",
        " '1234+56789',\n",
        " '1234-56789',\n",
        " '12345+6789']"
       ]
      }
     ],
     "prompt_number": 55
    },
    {
     "cell_type": "markdown",
     "metadata": {},
     "source": [
      "`forward` maps from each string expression to its numerical value."
     ]
    },
    {
     "cell_type": "code",
     "collapsed": false,
     "input": [
      "forward = dict(imap(lambda s: (s, eval(s)), all_expression_iter()))\n",
      "min(forward.itervalues())"
     ],
     "language": "python",
     "metadata": {},
     "outputs": [
      {
       "metadata": {},
       "output_type": "pyout",
       "prompt_number": 56,
       "text": [
        "-23456788"
       ]
      }
     ],
     "prompt_number": 56
    },
    {
     "cell_type": "markdown",
     "metadata": {},
     "source": [
      "`counter` maps from each numerical value to the number of times it appears."
     ]
    },
    {
     "cell_type": "code",
     "collapsed": false,
     "input": [
      "from collections import Counter\n",
      "counter = Counter(forward.itervalues())\n",
      "counter[100]"
     ],
     "language": "python",
     "metadata": {},
     "outputs": [
      {
       "metadata": {},
       "output_type": "pyout",
       "prompt_number": 57,
       "text": [
        "11"
       ]
      }
     ],
     "prompt_number": 57
    },
    {
     "cell_type": "markdown",
     "metadata": {},
     "source": [
      "`most_frequent` is a list of values, frequency pairs in descending order of frequency"
     ]
    },
    {
     "cell_type": "code",
     "collapsed": false,
     "input": [
      "from operator import itemgetter\n",
      "\n",
      "most_frequent = sorted(counter.iteritems(), key=itemgetter(1), reverse=True)\n",
      "\n",
      "for value, freq in most_frequent[:10]:\n",
      "    print value, freq"
     ],
     "language": "python",
     "metadata": {},
     "outputs": [
      {
       "output_type": "stream",
       "stream": "stdout",
       "text": [
        "-21 27\n",
        "1 26\n",
        "45 26\n",
        "-43 24\n",
        "-9 24\n",
        "23 23\n",
        "-27 23\n",
        "-25 23\n",
        "-15 23\n",
        "-3 23\n"
       ]
      }
     ],
     "prompt_number": 59
    },
    {
     "cell_type": "markdown",
     "metadata": {},
     "source": [
      "Here's the best way I could find to invert the dictionary using iterator idioms."
     ]
    },
    {
     "cell_type": "code",
     "collapsed": false,
     "input": [
      "from collections import deque\n",
      "\n",
      "def invert_dict(forward):\n",
      "    \"\"\"Inverts a dictionary using only iterators.\"\"\"\n",
      "    reverse = {}\n",
      "    func = lambda key, value: reverse.setdefault(value, []).append(key)\n",
      "    iterator = starmap(func, forward.iteritems())\n",
      "    deque(iterator, maxlen=0)\n",
      "    return reverse"
     ],
     "language": "python",
     "metadata": {},
     "outputs": [],
     "prompt_number": 20
    },
    {
     "cell_type": "markdown",
     "metadata": {},
     "source": [
      "Here's a more concise way using a set comprehension."
     ]
    },
    {
     "cell_type": "code",
     "collapsed": false,
     "input": [
      "def invert_dict(forward):\n",
      "    \"\"\"Inverts a dictionary using a set comprehension.\"\"\"\n",
      "    reverse = {}\n",
      "    set(reverse.setdefault(v, []).append(k) for k, v in forward.iteritems())\n",
      "    return reverse"
     ],
     "language": "python",
     "metadata": {},
     "outputs": [],
     "prompt_number": 32
    },
    {
     "cell_type": "markdown",
     "metadata": {},
     "source": [
      "`reverse` maps from each numerical value to a list of expressions."
     ]
    },
    {
     "cell_type": "code",
     "collapsed": false,
     "input": [
      "reverse = invert_dict(forward)\n",
      "reverse[100]"
     ],
     "language": "python",
     "metadata": {},
     "outputs": [
      {
       "metadata": {},
       "output_type": "pyout",
       "prompt_number": 60,
       "text": [
        "['123-45-67+89',\n",
        " '1+23-4+5+6+78-9',\n",
        " '1+2+3-4+5+6+78+9',\n",
        " '123+45-67+8-9',\n",
        " '1+23-4+56+7+8+9',\n",
        " '12-3-4+5-6+7+89',\n",
        " '1+2+34-5+67-8+9',\n",
        " '12+3-4+5+67+8+9',\n",
        " '123+4-5+67-89',\n",
        " '123-4-5-6-7+8-9',\n",
        " '12+3+4+5-6-7+89']"
       ]
      }
     ],
     "prompt_number": 60
    },
    {
     "cell_type": "markdown",
     "metadata": {},
     "source": [
      "A cumulative distribution function (CDF) is represented by a sorted list of values and a list of the corresponding cumulative probabilities."
     ]
    },
    {
     "cell_type": "code",
     "collapsed": false,
     "input": [
      "def make_cdf(counter):\n",
      "    \"\"\"Makes a cumulative distribution function.\"\"\"\n",
      "    vals, freqs = zip(*sorted(counter.iteritems()))\n",
      "    probs = numpy.cumsum(freqs, dtype=numpy.float)\n",
      "    probs /= probs[-1]\n",
      "    return vals, probs"
     ],
     "language": "python",
     "metadata": {},
     "outputs": [],
     "prompt_number": 61
    },
    {
     "cell_type": "markdown",
     "metadata": {},
     "source": [
      "`abs_counter` is a map from the magnitude of the values (abs) to frequence.  `cdf` is the distribution of the absolute values."
     ]
    },
    {
     "cell_type": "code",
     "collapsed": false,
     "input": [
      "abs_counter = Counter(imap(abs, forward.itervalues()))\n",
      "cdf = make_cdf(abs_counter)\n",
      "zip(*cdf)[:10]"
     ],
     "language": "python",
     "metadata": {},
     "outputs": [
      {
       "metadata": {},
       "output_type": "pyout",
       "prompt_number": 83,
       "text": [
        "[(0, 0.0016765736930345985),\n",
        " (1, 0.00823045267489712),\n",
        " (2, 0.010973936899862825),\n",
        " (3, 0.0172229843011736),\n",
        " (4, 0.019966468526139307),\n",
        " (5, 0.026063100137174212),\n",
        " (6, 0.029721079103795154),\n",
        " (7, 0.035665294924554183),\n",
        " (8, 0.038408779149519894),\n",
        " (9, 0.045419905502210027)]"
       ]
      }
     ],
     "prompt_number": 83
    },
    {
     "cell_type": "markdown",
     "metadata": {},
     "source": [
      "You can evaluate a CDF forward or backward in log time using `bisect`."
     ]
    },
    {
     "cell_type": "code",
     "collapsed": false,
     "input": [
      "from bisect import bisect\n",
      "\n",
      "def eval_cdf(cdf, x):\n",
      "    \"\"\"Evaluates a cumulative distribution function.\"\"\"\n",
      "    vals, probs = cdf\n",
      "    return probs[bisect(vals, x)]\n",
      "\n",
      "print 'x    CDF(x)'\n",
      "for x in [10, 100, 1000, 10000, 100000]:\n",
      "    print x, eval_cdf(cdf, x) * 100"
     ],
     "language": "python",
     "metadata": {},
     "outputs": [
      {
       "output_type": "stream",
       "stream": "stdout",
       "text": [
        "x    CDF(x)\n",
        "10 5.38027739674\n",
        "100 42.9812528578\n",
        "1000 83.6610272824\n",
        "10000 95.5037341869\n",
        "100000 98.7806736778\n"
       ]
      }
     ],
     "prompt_number": 63
    },
    {
     "cell_type": "markdown",
     "metadata": {},
     "source": [
      "You can get a sense of the shape of the CDF by plotting on a log scale."
     ]
    },
    {
     "cell_type": "code",
     "collapsed": false,
     "input": [
      "import matplotlib.pyplot as pyplot\n",
      "\n",
      "def plot_cdf(cdf):\n",
      "    pyplot.plot(*cdf, linewidth=4, alpha=0.5)\n",
      "    pyplot.xlabel('abs(value)')\n",
      "    pyplot.ylabel('CDF')\n",
      "    pyplot.xscale('log')\n",
      "    pyplot.show()\n",
      "    \n",
      "plot_cdf(cdf)"
     ],
     "language": "python",
     "metadata": {},
     "outputs": [
      {
       "metadata": {},
       "output_type": "display_data",
       "png": "[encoded data removed]",
       "text": [
        "<matplotlib.figure.Figure at 0x3ebc8d0>"
       ]
      }
     ],
     "prompt_number": 64
    },
    {
     "cell_type": "markdown",
     "metadata": {},
     "source": [
      "That looks like a long-tailed distribution.  To see if it has a power-law tail, we can plot the complementary CDF (CCDF) on a log-log scale."
     ]
    },
    {
     "cell_type": "code",
     "collapsed": false,
     "input": [
      "def plot_ccdf(cdf):\n",
      "    ccdf = cdf[0], 1-cdf[1]\n",
      "    pyplot.plot(*ccdf, linewidth=4, alpha=0.5)\n",
      "    pyplot.xlabel('abs(value)')\n",
      "    pyplot.ylabel('CCDF')\n",
      "    pyplot.xscale('log')\n",
      "    pyplot.yscale('log')\n",
      "    pyplot.show()\n",
      "    \n",
      "plot_ccdf(cdf)"
     ],
     "language": "python",
     "metadata": {},
     "outputs": [
      {
       "metadata": {},
       "output_type": "display_data",
       "png": "[encoded data removed]",
       "text": [
        "<matplotlib.figure.Figure at 0x3d2a1d0>"
       ]
      }
     ],
     "prompt_number": 65
    },
    {
     "cell_type": "markdown",
     "metadata": {},
     "source": [
      "A straight line in this plot indicates a power-law tail.  In this example is spans about 6 orders of magnitude.\n",
      "\n",
      "So you might wonder whether this patter persists.  Let's try it with hexadecimal numbers."
     ]
    },
    {
     "cell_type": "code",
     "collapsed": false,
     "input": [
      "DIGITS = numpy.array(list('123456789abcdef'))\n",
      "NUM_DIGITS = len(DIGITS)\n",
      "\n",
      "def hex_eval(expr):\n",
      "    \"\"\"Evaluates an expression with hexadecimal numbers.\"\"\"\n",
      "    expr = '0x' + expr.replace('+', '+0x').replace('-', '-0x')\n",
      "    return eval(expr)\n",
      "\n",
      "forward2 = dict(imap(lambda s: (s, hex_eval(s)), all_expression_iter()))"
     ],
     "language": "python",
     "metadata": {},
     "outputs": [],
     "prompt_number": 40
    },
    {
     "cell_type": "code",
     "collapsed": false,
     "input": [
      "def big_number(n):\n",
      "    \"\"\"Returns a number and its number of digits (actually log base 10).\"\"\"\n",
      "    return n, numpy.log10(abs(n))\n",
      "\n",
      "big_number(len(forward2))"
     ],
     "language": "python",
     "metadata": {},
     "outputs": [
      {
       "metadata": {},
       "output_type": "pyout",
       "prompt_number": 77,
       "text": [
        "(4782969, 6.6796975660752738)"
       ]
      }
     ],
     "prompt_number": 77
    },
    {
     "cell_type": "code",
     "collapsed": false,
     "input": [
      "big_number(min(forward2.itervalues()))"
     ],
     "language": "python",
     "metadata": {},
     "outputs": [
      {
       "metadata": {},
       "output_type": "pyout",
       "prompt_number": 78,
       "text": [
        "(-9927935178558958, 15.996858932905857)"
       ]
      }
     ],
     "prompt_number": 78
    },
    {
     "cell_type": "code",
     "collapsed": false,
     "input": [
      "big_number(max(forward2.itervalues()))"
     ],
     "language": "python",
     "metadata": {},
     "outputs": [
      {
       "metadata": {},
       "output_type": "pyout",
       "prompt_number": 79,
       "text": [
        "(81985529216486895, 16.913737204383434)"
       ]
      }
     ],
     "prompt_number": 79
    },
    {
     "cell_type": "code",
     "collapsed": false,
     "input": [
      "abs_counter2 = Counter(imap(abs, forward2.itervalues()))\n",
      "cdf2 = make_cdf(abs_counter2)\n",
      "plot_ccdf(cdf2)"
     ],
     "language": "python",
     "metadata": {},
     "outputs": [
      {
       "metadata": {},
       "output_type": "display_data",
       "png": "[encoded data removed]",
       "text": [
        "<matplotlib.figure.Figure at 0x4077e10>"
       ]
      }
     ],
     "prompt_number": 76
    },
    {
     "cell_type": "markdown",
     "metadata": {},
     "source": [
      "Yup, that looks like a power tail over about 14 orders of magnitude!  The ripple pattern suggests that the tail is a mixture of distributions with geometrically increasing central tendency and decreasing probability.  And it looks like the width of each ripple is a factor of 16 (there are 12 ripples; if each is a hexadecade, they should span 14.4 decades)."
     ]
    },
    {
     "cell_type": "code",
     "collapsed": false,
     "input": [
      "12 * numpy.log10(16)"
     ],
     "language": "python",
     "metadata": {},
     "outputs": [
      {
       "metadata": {},
       "output_type": "pyout",
       "prompt_number": 82,
       "text": [
        "14.449439791871097"
       ]
      }
     ],
     "prompt_number": 82
    },
    {
     "cell_type": "code",
     "collapsed": false,
     "input": [],
     "language": "python",
     "metadata": {},
     "outputs": []
    }
   ],
   "metadata": {}
  }
 ]
}