{
 "metadata": {
  "name": ""
 },
 "nbformat": 3,
 "nbformat_minor": 0,
 "worksheets": [
  {
   "cells": [
    {
     "cell_type": "code",
     "collapsed": false,
     "input": [
      "import numpy as np\n",
      "import chap01ex_soln\n",
      "import pandas\n",
      "import thinkstats2\n",
      "import thinkplot"
     ],
     "language": "python",
     "metadata": {},
     "outputs": [],
     "prompt_number": 17
    },
    {
     "cell_type": "code",
     "collapsed": false,
     "input": [
      "np.asarray([])"
     ],
     "language": "python",
     "metadata": {},
     "outputs": [
      {
       "metadata": {},
       "output_type": "pyout",
       "prompt_number": 10,
       "text": [
        "array([], dtype=float64)"
       ]
      }
     ],
     "prompt_number": 10
    },
    {
     "cell_type": "code",
     "collapsed": false,
     "input": [
      "resp = chap01ex_soln.ReadFemResp()"
     ],
     "language": "python",
     "metadata": {},
     "outputs": [
      {
       "ename": "AttributeError",
       "evalue": "'module' object has no attribute 'isnull'",
       "output_type": "pyerr",
       "traceback": [
        "\u001b[1;31m---------------------------------------------------------------------------\u001b[0m\n\u001b[1;31mAttributeError\u001b[0m                            Traceback (most recent call last)",
        "\u001b[1;32m<ipython-input-6-95e751963061>\u001b[0m in \u001b[0;36m<module>\u001b[1;34m()\u001b[0m\n\u001b[0;32m      1\u001b[0m \u001b[1;32mimport\u001b[0m \u001b[0mchap01ex_soln\u001b[0m\u001b[1;33m\u001b[0m\u001b[0m\n\u001b[0;32m      2\u001b[0m \u001b[0mresp\u001b[0m \u001b[1;33m=\u001b[0m \u001b[0mchap01ex_soln\u001b[0m\u001b[1;33m.\u001b[0m\u001b[0mReadFemResp\u001b[0m\u001b[1;33m(\u001b[0m\u001b[1;33m)\u001b[0m\u001b[1;33m\u001b[0m\u001b[0m\n\u001b[1;32m----> 3\u001b[1;33m \u001b[0msum\u001b[0m\u001b[1;33m(\u001b[0m\u001b[0mnp\u001b[0m\u001b[1;33m.\u001b[0m\u001b[0misnull\u001b[0m\u001b[1;33m(\u001b[0m\u001b[0mresp\u001b[0m\u001b[1;33m.\u001b[0m\u001b[0mcmmarrhx\u001b[0m\u001b[1;33m)\u001b[0m\u001b[1;33m)\u001b[0m\u001b[1;33m\u001b[0m\u001b[0m\n\u001b[0m",
        "\u001b[1;31mAttributeError\u001b[0m: 'module' object has no attribute 'isnull'"
       ]
      }
     ],
     "prompt_number": 6
    },
    {
     "cell_type": "code",
     "collapsed": false,
     "input": [
      "sum(pandas.isnull(resp.cmmarrhx))"
     ],
     "language": "python",
     "metadata": {},
     "outputs": [
      {
       "metadata": {},
       "output_type": "pyout",
       "prompt_number": 11,
       "text": [
        "3525"
       ]
      }
     ],
     "prompt_number": 11
    },
    {
     "cell_type": "code",
     "collapsed": false,
     "input": [
      "resp.cmmarrhx.replace([9997, 9998, 9999], np.nan, inplace=True)\n",
      "sum(pandas.isnull(resp.cmmarrhx))"
     ],
     "language": "python",
     "metadata": {},
     "outputs": [
      {
       "metadata": {},
       "output_type": "pyout",
       "prompt_number": 13,
       "text": [
        "3554"
       ]
      }
     ],
     "prompt_number": 13
    },
    {
     "cell_type": "code",
     "collapsed": false,
     "input": [
      "sum(pandas.isnull(resp.cmbirth))"
     ],
     "language": "python",
     "metadata": {},
     "outputs": [
      {
       "metadata": {},
       "output_type": "pyout",
       "prompt_number": 15,
       "text": [
        "0"
       ]
      }
     ],
     "prompt_number": 15
    },
    {
     "cell_type": "code",
     "collapsed": false,
     "input": [
      "resp['agemarr'] = (resp.cmmarrhx - resp.cmbirth) / 12.0\n",
      "# resp.agemarr.fillna(45, inplace=True)"
     ],
     "language": "python",
     "metadata": {},
     "outputs": [],
     "prompt_number": 37
    },
    {
     "cell_type": "code",
     "collapsed": false,
     "input": [
      "cdf = thinkstats2.Cdf(resp.agemarr)\n",
      "thinkplot.Cdf(cdf)"
     ],
     "language": "python",
     "metadata": {},
     "outputs": [
      {
       "metadata": {},
       "output_type": "pyout",
       "prompt_number": 38,
       "text": [
        "{'xscale': 'linear', 'yscale': 'linear'}"
       ]
      },
      {
       "metadata": {},
       "output_type": "display_data",
       "png": "[encoded data removed]",
       "text": [
        "<matplotlib.figure.Figure at 0x10075ed0>"
       ]
      }
     ],
     "prompt_number": 38
    },
    {
     "cell_type": "code",
     "collapsed": false,
     "input": [
      "cdf = thinkstats2.Cdf(resp.ager)\n",
      "thinkplot.Cdf(cdf)"
     ],
     "language": "python",
     "metadata": {},
     "outputs": [
      {
       "metadata": {},
       "output_type": "pyout",
       "prompt_number": 39,
       "text": [
        "{'xscale': 'linear', 'yscale': 'linear'}"
       ]
      },
      {
       "metadata": {},
       "output_type": "display_data",
       "png": "[encoded data removed]",
       "text": [
        "<matplotlib.figure.Figure at 0x4229ad0>"
       ]
      }
     ],
     "prompt_number": 39
    },
    {
     "cell_type": "code",
     "collapsed": false,
     "input": [
      "resp['age'] = (resp.cmintvw - resp.cmbirth) / 12.0\n",
      "sum(pandas.isnull(resp.age))"
     ],
     "language": "python",
     "metadata": {},
     "outputs": [
      {
       "metadata": {},
       "output_type": "pyout",
       "prompt_number": 40,
       "text": [
        "0"
       ]
      }
     ],
     "prompt_number": 40
    },
    {
     "cell_type": "code",
     "collapsed": false,
     "input": [
      "cdf = thinkstats2.Cdf(resp.age)\n",
      "thinkplot.Cdf(cdf)"
     ],
     "language": "python",
     "metadata": {},
     "outputs": [
      {
       "metadata": {},
       "output_type": "pyout",
       "prompt_number": 41,
       "text": [
        "{'xscale': 'linear', 'yscale': 'linear'}"
       ]
      },
      {
       "metadata": {},
       "output_type": "display_data",
       "png": "[encoded data removed]",
       "text": [
        "<matplotlib.figure.Figure at 0xa966e10>"
       ]
      }
     ],
     "prompt_number": 41
    },
    {
     "cell_type": "code",
     "collapsed": false,
     "input": [
      "past = resp[resp.evrmarry==1].agemarr\n",
      "current = resp[resp.evrmarry==0].age\n",
      "sum(pandas.isnull(past))"
     ],
     "language": "python",
     "metadata": {},
     "outputs": [
      {
       "metadata": {},
       "output_type": "pyout",
       "prompt_number": 45,
       "text": [
        "37"
       ]
      }
     ],
     "prompt_number": 45
    },
    {
     "cell_type": "code",
     "collapsed": false,
     "input": [
      "cdf1 = thinkstats2.Cdf(past, label='past')\n",
      "cdf2 = thinkstats2.Cdf(current, label='current')\n",
      "thinkplot.Cdfs([cdf1, cdf2])\n",
      "thinkplot.Show()"
     ],
     "language": "python",
     "metadata": {},
     "outputs": [
      {
       "metadata": {},
       "output_type": "display_data",
       "png": "[encoded data removed]",
       "text": [
        "<matplotlib.figure.Figure at 0x119ca250>"
       ]
      },
      {
       "metadata": {},
       "output_type": "display_data",
       "text": [
        "<matplotlib.figure.Figure at 0xa977250>"
       ]
      }
     ],
     "prompt_number": 47
    },
    {
     "cell_type": "code",
     "collapsed": false,
     "input": [
      "import survival\n",
      "reload(survival)\n",
      "hf = survival.EstimateHazardFunction(past, current)\n",
      "sf = hf.MakeSurvival()\n",
      "thinkplot.Plot(hf)\n",
      "thinkplot.Plot(sf)\n",
      "thinkplot.Show()"
     ],
     "language": "python",
     "metadata": {},
     "outputs": [
      {
       "output_type": "stream",
       "stream": "stdout",
       "text": [
        "11.5 1.00904866716 7641.99095133\n",
        "11.75 1.00904866716 7640.98190267\n",
        "12.5 1.00904866716 7639.972854\n",
        "13.1666666667 1.00904866716 7638.96380533\n",
        "13.5 1.00904866716 7637.95475666\n",
        "13.9166666667 1.00904866716 7636.945708\n",
        "14.0 3.02714600147 7633.918562\n",
        "14.25 2.01809733431 7631.90046466\n",
        "14.4166666667 1.00904866716 7630.89141599\n",
        "14.5 3.02714600147 7627.86426999\n",
        "14.5833333333 1.00904866716 7626.85522133\n",
        "14.75 3.02714600147 7623.82807532\n",
        "14.8333333333 3.02714600147 7620.80092932\n",
        "14.9166666667 2.01809733431 7618.78283199\n",
        "15.0 3.02714600147 7610.75568599\n",
        "15.0833333333 5.04524333578 7593.71044265\n",
        "15.1666666667 4.03619466862 7575.67424798\n",
        "15.25 3.02714600147 7558.64710198\n",
        "15.3333333333 4.03619466862 7530.61090731\n",
        "15.4166666667 2.01809733431 7507.59280998\n",
        "15.5 4.03619466862 7491.55661531\n",
        "15.5833333333 2.01809733431 7478.53851798\n",
        "15.6666666667 5.04524333578 7447.49327464\n",
        "15.75 7.06334067009 7416.42993397\n",
        "15.8333333333 7.06334067009 7389.3665933\n",
        "15.9166666667 3.02714600147 7367.3394473\n",
        "16.0 4.03619466862 7338.30325263\n",
        "16.0833333333 8.07238933725 7317.23086329\n",
        "16.1666666667 13.117632673 7291.11323062\n",
        "16.25 7.06334067009 7263.04988995\n",
        "16.3333333333 7.06334067009 7234.98654928\n",
        "16.4166666667 15.1357300073 7199.85081927\n",
        "16.5 8.07238933725 7165.77842993\n",
        "16.5833333333 9.0814380044 7138.69699193\n",
        "16.6666666667 10.0904866716 7113.60650526\n",
        "16.75 9.0814380044 7086.52506725\n",
        "16.8333333333 14.1266813402 7046.39838591\n",
        "16.9166666667 11.0995353387 7020.29885057\n",
        "17.0 18.1628760088 6984.13597457\n",
        "17.0833333333 6.05429200293 6954.08168256\n",
        "17.1666666667 20.1809733431 6911.90070922\n",
        "17.25 12.1085840059 6878.79212521\n",
        "17.3333333333 15.1357300073 6841.65639521\n",
        "17.4166666667 15.1357300073 6807.5206652\n",
        "17.5 7.06334067009 6783.45732453\n",
        "17.5833333333 14.1266813402 6746.33064319\n",
        "17.6666666667 11.0995353387 6718.23110785\n",
        "17.75 13.117632673 6689.11347518\n",
        "17.8333333333 17.1538273416 6655.95964784\n",
        "17.9166666667 24.2171680117 6615.74247982\n",
        "18.0 45.407190022 6545.3352898\n",
        "18.0833333333 34.3076546833 6488.02763512\n",
        "18.1666666667 27.2443140132 6442.78332111\n",
        "18.25 28.2533626804 6402.52995843\n",
        "18.3333333333 29.2624113475 6361.26754708\n",
        "18.4166666667 30.2714600147 6311.99608706\n",
        "18.5 20.1809733431 6274.81511372\n",
        "18.5833333333 35.3167033505 6228.49841037\n",
        "18.6666666667 21.1900220103 6187.30838836\n",
        "18.75 22.1990706774 6144.10931768\n",
        "18.8333333333 27.2443140132 6089.86500367\n",
        "18.9166666667 23.2081193446 6048.65688432\n",
        "19.0 26.2352653461 6003.42161898\n",
        "19.0833333333 28.2533626804 5957.1682563\n",
        "19.1666666667 20.1809733431 5918.98728295\n",
        "19.25 20.1809733431 5876.80630961\n",
        "19.3333333333 29.2624113475 5826.54389826\n",
        "19.4166666667 24.2171680117 5780.32673025\n",
        "19.5 23.2081193446 5740.11861091\n",
        "19.5833333333 32.289557349 5681.82905356\n",
        "19.6666666667 39.3528980191 5625.47615554\n",
        "19.75 26.2352653461 5587.24089019\n",
        "19.8333333333 29.2624113475 5537.97847885\n",
        "19.9166666667 32.289557349 5490.6889215\n",
        "20.0 31.2805086818 5440.40841281\n",
        "20.0833333333 28.2533626804 5398.15505013\n",
        "20.1666666667 22.1990706774 5356.95597946\n",
        "20.25 28.2533626804 5315.70261678\n",
        "20.3333333333 28.2533626804 5271.4492541\n",
        "20.4166666667 27.2443140132 5224.20494008\n",
        "20.5 35.3167033505 5161.88823673\n",
        "20.5833333333 44.3981413549 5105.49009538\n",
        "20.6666666667 31.2805086818 5058.2095867\n",
        "20.75 27.2443140132 5014.96527268\n",
        "20.8333333333 23.2081193446 4971.75715334\n",
        "20.9166666667 27.2443140132 4921.51283933\n",
        "21.0 30.2714600147 4864.24137931\n",
        "21.0833333333 24.2171680117 4825.0242113\n",
        "21.1666666667 27.2443140132 4776.77989729\n",
        "21.25 30.2714600147 4733.50843727\n",
        "21.3333333333 37.3348006848 4682.17363659\n",
        "21.4166666667 26.2352653461 4633.93837124\n",
        "21.5 27.2443140132 4591.69405723\n",
        "21.5833333333 43.3890926877 4531.30496454\n",
        "21.6666666667 22.1990706774 4491.10589386\n",
        "21.75 39.3528980191 4435.75299584\n",
        "21.8333333333 30.2714600147 4388.48153583\n",
        "21.9166666667 27.2443140132 4334.23722181\n",
        "22.0 36.3257520176 4284.9114698\n",
        "22.0833333333 42.3800440205 4227.53142578\n",
        "22.1666666667 17.1538273416 4192.37759843\n",
        "22.25 32.289557349 4136.08804109\n",
        "22.3333333333 28.2533626804 4085.83467841\n",
        "22.4166666667 24.2171680117 4046.61751039\n",
        "22.5 36.3257520176 3993.29175838\n",
        "22.5833333333 38.3438493519 3943.94790902\n",
        "22.6666666667 16.1447786745 3904.80313035\n",
        "22.75 34.3076546833 3848.49547567\n",
        "22.8333333333 41.3709953534 3785.12448031\n",
        "22.9166666667 35.3167033505 3734.80777696\n",
        "23.0 33.2986060161 3682.50917095\n",
        "23.0833333333 28.2533626804 3644.25580827\n",
        "23.1666666667 24.2171680117 3606.03864025\n",
        "23.25 25.2262166789 3558.81242358\n",
        "23.3333333333 27.2443140132 3511.56810956\n",
        "23.4166666667 34.3076546833 3469.26045488\n",
        "23.5 42.3800440205 3418.88041086\n",
        "23.5833333333 28.2533626804 3369.62704818\n",
        "23.6666666667 20.1809733431 3333.44607483\n",
        "23.75 34.3076546833 3287.13842015\n",
        "23.8333333333 30.2714600147 3242.86696014\n",
        "23.9166666667 34.3076546833 3202.55930545\n",
        "24.0 30.2714600147 3161.28784544\n",
        "24.0833333333 31.2805086818 3119.00733676\n",
        "24.1666666667 18.1628760088 3092.84446075\n",
        "24.25 20.1809733431 3059.66348741\n",
        "24.3333333333 28.2533626804 3013.41012472\n",
        "24.4166666667 21.1900220103 2975.22010271\n",
        "24.5 28.2533626804 2936.96674003\n",
        "24.5833333333 23.2081193446 2901.75862069\n",
        "24.6666666667 25.2262166789 2861.53240401\n",
        "24.75 15.1357300073 2835.396674\n",
        "24.8333333333 22.1990706774 2801.19760333\n",
        "24.9166666667 21.1900220103 2766.00758132\n",
        "25.0 33.2986060161 2723.7089753\n",
        "25.0833333333 20.1809733431 2696.52800196\n",
        "25.1666666667 29.2624113475 2656.26559061\n",
        "25.25 21.1900220103 2624.0755686\n",
        "25.3333333333 16.1447786745 2595.93078992\n",
        "25.4166666667 21.1900220103 2560.74076791\n",
        "25.5 14.1266813402 2531.61408657\n",
        "25.5833333333 20.1809733431 2500.43311323\n",
        "25.6666666667 13.117632673 2471.31548056\n",
        "25.75 21.1900220103 2436.12545855\n",
        "25.8333333333 24.2171680117 2394.90829054\n",
        "25.9166666667 27.2443140132 2356.66397652\n",
        "26.0 33.2986060161 2304.36537051\n",
        "26.0833333333 17.1538273416 2277.21154316\n",
        "26.1666666667 20.1809733431 2248.03056982\n",
        "26.25 13.117632673 2223.91293715\n",
        "26.3333333333 16.1447786745 2196.76815847\n",
        "26.4166666667 22.1990706774 2155.5690878\n",
        "26.5 21.1900220103 2126.37906579\n",
        "26.5833333333 21.1900220103 2095.18904378\n",
        "26.6666666667 14.1266813402 2074.06236244\n",
        "26.75 23.2081193446 2037.85424309\n",
        "26.8333333333 14.1266813402 2010.72756175\n",
        "26.9166666667 16.1447786745 1984.58278308\n",
        "27.0 14.1266813402 1958.45610174\n",
        "27.0833333333 21.1900220103 1926.26607973\n",
        "27.1666666667 10.0904866716 1908.17559305\n",
        "27.25 8.07238933725 1894.10320372\n",
        "27.3333333333 16.1447786745 1872.95842504\n",
        "27.4166666667 15.1357300073 1844.82269504\n",
        "27.5 16.1447786745 1819.67791636\n",
        "27.5833333333 13.117632673 1796.56028369\n",
        "27.6666666667 19.171924676 1764.38835901\n",
        "27.75 14.1266813402 1739.26167767\n",
        "27.8333333333 15.1357300073 1721.12594766\n",
        "27.9166666667 14.1266813402 1698.99926632\n",
        "28.0 10.0904866716 1679.90877965\n",
        "28.0833333333 19.171924676 1656.73685498\n",
        "28.1666666667 11.0995353387 1640.63731964\n",
        "28.25 18.1628760088 1610.47444363\n",
        "28.3333333333 17.1538273416 1585.32061629\n",
        "28.4166666667 14.1266813402 1558.19393495\n",
        "28.5 7.06334067009 1540.13059428\n",
        "28.5833333333 10.0904866716 1522.04010761\n",
        "28.6666666667 16.1447786745 1499.89532893\n",
        "28.75 10.0904866716 1479.80484226\n",
        "28.8333333333 11.0995353387 1463.70530692\n",
        "28.9166666667 5.04524333578 1447.66006359\n",
        "29.0 17.1538273416 1418.50623624\n",
        "29.0833333333 12.1085840059 1398.39765224\n",
        "29.1666666667 16.1447786745 1374.25287356\n",
        "29.25 8.07238933725 1357.18048423\n",
        "29.3333333333 14.1266813402 1336.05380289\n",
        "29.4166666667 7.06334067009 1324.99046222\n",
        "29.5 10.0904866716 1310.89997554\n",
        "29.5833333333 10.0904866716 1297.80948887\n",
        "29.6666666667 6.05429200293 1283.75519687\n",
        "29.75 11.0995353387 1266.65566153\n",
        "29.8333333333 7.06334067009 1251.59232086\n",
        "29.9166666667 9.0814380044 1234.51088286\n",
        "30.0 13.117632673 1209.39325018\n",
        "30.0833333333 9.0814380044 1193.31181218\n",
        "30.1666666667 7.06334067009 1177.24847151\n",
        "30.25 9.0814380044 1161.1670335\n",
        "30.3333333333 10.0904866716 1138.07654683\n",
        "30.4166666667 9.0814380044 1119.99510883\n",
        "30.5 6.05429200293 1101.94081683\n",
        "30.5833333333 12.1085840059 1079.83223282\n",
        "30.6666666667 7.06334067009 1069.76889215\n",
        "30.75 3.02714600147 1056.74174615\n",
        "30.8333333333 6.05429200293 1041.68745415\n",
        "30.9166666667 5.04524333578 1028.64221081\n",
        "31.0 8.07238933725 1008.56982147\n",
        "31.0833333333 4.03619466862 996.533626804\n",
        "31.1666666667 6.05429200293 982.479334801\n",
        "31.25 7.06334067009 968.415994131\n",
        "31.3333333333 5.04524333578 958.370750795\n",
        "31.4166666667 6.05429200293 946.316458792\n",
        "31.5 5.04524333578 931.271215456\n",
        "31.5833333333 5.04524333578 922.22597212\n",
        "31.6666666667 6.05429200293 910.171680117\n",
        "31.75 5.04524333578 901.126436782\n",
        "31.8333333333 7.06334067009 891.063096112\n",
        "31.9166666667 4.03619466862 875.026901443\n",
        "32.0 4.03619466862 861.990706774\n",
        "32.0833333333 6.05429200293 848.936414771\n",
        "32.1666666667 7.06334067009 837.873074101\n",
        "32.25 4.03619466862 829.836879433\n",
        "32.3333333333 2.01809733431 821.818782098\n",
        "32.4166666667 4.03619466862 814.78258743\n",
        "32.5 2.01809733431 806.764490095\n",
        "32.5833333333 2.01809733431 798.746392761\n",
        "32.6666666667 6.05429200293 786.692100758\n",
        "32.75 5.04524333578 776.646857422\n",
        "32.8333333333 1.00904866716 771.637808755\n",
        "32.9166666667 5.04524333578 766.592565419\n",
        "33.0 4.03619466862 754.556370751\n",
        "33.0833333333 6.05429200293 745.502078748\n",
        "33.1666666667 5.04524333578 730.456835412\n",
        "33.25 2.01809733431 725.438738078\n",
        "33.3333333333 5.04524333578 716.393494742\n",
        "33.4166666667 3.02714600147 708.366348741\n",
        "33.5 3.02714600147 701.339202739\n",
        "33.5833333333 6.05429200293 689.284910736\n",
        "33.6666666667 4.03619466862 678.248716067\n",
        "33.75 6.05429200293 671.194424065\n",
        "33.8333333333 2.01809733431 664.17632673\n",
        "33.9166666667 2.01809733431 656.158229396\n",
        "34.0 5.04524333578 650.11298606\n",
        "34.1666666667 7.06334067009 634.04964539\n",
        "34.25 3.02714600147 626.022499389\n",
        "34.3333333333 6.05429200293 611.968207386\n",
        "34.5 4.03619466862 598.932012717\n",
        "34.75 1.00904866716 573.92296405\n",
        "34.8333333333 3.02714600147 569.895818048\n",
        "35.0 1.00904866716 560.886769381\n",
        "35.0833333333 2.01809733431 555.868672047\n",
        "35.1666666667 1.00904866716 543.85962338\n",
        "35.25 4.03619466862 533.823428711\n",
        "35.3333333333 7.06334067009 518.760088041\n",
        "35.4166666667 2.01809733431 514.741990707\n",
        "35.5 5.04524333578 502.696747371\n",
        "35.5833333333 4.03619466862 492.660552702\n",
        "35.6666666667 2.01809733431 487.642455368\n",
        "35.75 5.04524333578 479.597212032\n",
        "35.8333333333 1.00904866716 473.588163365\n",
        "36.0 1.00904866716 461.579114698\n",
        "36.0833333333 2.01809733431 458.561017364\n",
        "36.25 3.02714600147 448.533871362\n",
        "36.4166666667 1.00904866716 436.524822695\n",
        "36.5 1.00904866716 430.515774028\n",
        "36.5833333333 2.01809733431 425.497676694\n",
        "36.6666666667 1.00904866716 418.488628026\n",
        "36.75 1.00904866716 411.479579359\n",
        "36.8333333333 1.00904866716 406.470530692\n",
        "36.9166666667 1.00904866716 399.461482025\n",
        "37.0 1.00904866716 396.452433358\n",
        "37.0833333333 2.01809733431 389.434336023\n",
        "37.1666666667 1.00904866716 382.425287356\n",
        "37.3333333333 2.01809733431 369.407190022\n",
        "37.4166666667 2.01809733431 364.389092688\n",
        "37.5 1.00904866716 357.380044021\n",
        "37.5833333333 1.00904866716 350.370995353\n",
        "37.75 2.01809733431 341.352898019\n",
        "37.8333333333 2.01809733431 336.334800685\n",
        "38.0 1.00904866716 330.325752018\n",
        "38.0833333333 1.00904866716 323.31670335\n",
        "38.1666666667 1.00904866716 317.307654683\n",
        "38.25 1.00904866716 310.298606016\n",
        "38.3333333333 2.01809733431 303.280508682\n",
        "38.4166666667 1.00904866716 292.271460015\n",
        "38.5 1.00904866716 286.262411348\n",
        "38.6666666667 1.00904866716 274.25336268\n",
        "38.75 1.00904866716 269.244314013\n",
        "39.0 1.00904866716 257.235265346\n",
        "39.0833333333 2.01809733431 253.217168012\n",
        "39.25 1.00904866716 246.208119345\n",
        "39.6666666667 2.01809733431 229.19002201\n",
        "39.75 2.01809733431 222.171924676\n",
        "39.8333333333 1.00904866716 219.162876009\n",
        "39.9166666667 1.00904866716 216.153827342\n",
        "40.0 2.01809733431 210.135730007\n",
        "40.0833333333 1.00904866716 204.12668134\n",
        "40.5 1.00904866716 188.117632673\n",
        "40.5833333333 1.00904866716 183.108584006\n",
        "40.75 1.00904866716 173.099535339\n",
        "40.9166666667 1.00904866716 171.090486672\n",
        "41.0833333333 1.00904866716 162.081438004\n",
        "41.4166666667 1.00904866716 145.072389337\n",
        "41.5833333333 2.01809733431 137.054292003\n",
        "42.0 1.00904866716 120.045243336\n",
        "42.5833333333 1.00904866716 101.036194669\n",
        "42.8333333333 1.00904866716 93.0271460015\n",
        "43.3333333333 1.00904866716 74.0180973343\n",
        "43.6666666667 1.00904866716 56.0090486672\n",
        "43.8333333333 1.00904866716 37.0\n"
       ]
      },
      {
       "metadata": {},
       "output_type": "display_data",
       "png": "[encoded data removed]",
       "text": [
        "<matplotlib.figure.Figure at 0x2d96050>"
       ]
      },
      {
       "metadata": {},
       "output_type": "display_data",
       "text": [
        "<matplotlib.figure.Figure at 0xaf66c90>"
       ]
      }
     ],
     "prompt_number": 48
    },
    {
     "cell_type": "code",
     "collapsed": false,
     "input": [],
     "language": "python",
     "metadata": {},
     "outputs": []
    }
   ],
   "metadata": {}
  }
 ]
}