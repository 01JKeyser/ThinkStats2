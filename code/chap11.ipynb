{
 "metadata": {
  "name": ""
 },
 "nbformat": 3,
 "nbformat_minor": 0,
 "worksheets": [
  {
   "cells": [
    {
     "cell_type": "code",
     "collapsed": false,
     "input": [
      "import nsfg\n",
      "df = nsfg.ReadFemPreg()"
     ],
     "language": "python",
     "metadata": {},
     "outputs": [],
     "prompt_number": 1
    },
    {
     "cell_type": "markdown",
     "metadata": {},
     "source": [
      "Print value counts for <tt>birthord</tt> and compare to results published in the [codebook](http://www.icpsr.umich.edu/nsfg6/Controller?displayPage=labelDetails&fileCode=PREG&section=A&subSec=8016&srtLabel=611933)"
     ]
    },
    {
     "cell_type": "code",
     "collapsed": false,
     "input": [
      "live = df[df.outcome == 1]\n",
      "live['first'] = (live.birthord == 1)\n",
      "live.first"
     ],
     "language": "python",
     "metadata": {},
     "outputs": [
      {
       "metadata": {},
       "output_type": "pyout",
       "prompt_number": 8,
       "text": [
        "<bound method DataFrame.first of     caseid  pregordr  howpreg_n  howpreg_p  moscurrp  nowprgdk  pregend1  \\\n",
        "0        1         1        NaN        NaN       NaN       NaN         6   \n",
        "1        1         2        NaN        NaN       NaN       NaN         6   \n",
        "2        2         1        NaN        NaN       NaN       NaN         5   \n",
        "3        2         2        NaN        NaN       NaN       NaN         6   \n",
        "4        2         3        NaN        NaN       NaN       NaN         6   \n",
        "5        6         1        NaN        NaN       NaN       NaN         6   \n",
        "6        6         2        NaN        NaN       NaN       NaN         6   \n",
        "7        6         3        NaN        NaN       NaN       NaN         6   \n",
        "8        7         1        NaN        NaN       NaN       NaN         5   \n",
        "9        7         2        NaN        NaN       NaN       NaN         5   \n",
        "10      12         1        NaN        NaN       NaN       NaN         5   \n",
        "11      14         1        NaN        NaN       NaN       NaN         6   \n",
        "12      14         2        NaN        NaN       NaN       NaN         6   \n",
        "15      15         2        NaN        NaN       NaN       NaN         6   \n",
        "16      15         3        NaN        NaN       NaN       NaN         6   \n",
        "17      18         1        NaN        NaN       NaN       NaN         5   \n",
        "19      21         1        NaN        NaN       NaN       NaN         6   \n",
        "20      21         2        NaN        NaN       NaN       NaN         6   \n",
        "21      23         1        NaN        NaN       NaN       NaN         6   \n",
        "23      24         1        NaN        NaN       NaN       NaN         6   \n",
        "24      24         2        NaN        NaN       NaN       NaN         6   \n",
        "25      24         3        NaN        NaN       NaN       NaN         6   \n",
        "26      28         1        NaN        NaN       NaN       NaN         6   \n",
        "27      31         1        NaN        NaN       NaN       NaN         6   \n",
        "28      31         2        NaN        NaN       NaN       NaN         6   \n",
        "29      31         3        NaN        NaN       NaN       NaN         6   \n",
        "31      36         2        NaN        NaN       NaN       NaN         6   \n",
        "32      38         1        NaN        NaN       NaN       NaN         5   \n",
        "33      38         2        NaN        NaN       NaN       NaN         6   \n",
        "34      38         3        NaN        NaN       NaN       NaN         6   \n",
        "35      39         1        NaN        NaN       NaN       NaN         5   \n",
        "39      44         3        NaN        NaN       NaN       NaN         6   \n",
        "40      44         4        NaN        NaN       NaN       NaN         6   \n",
        "42      46         1        NaN        NaN       NaN       NaN         5   \n",
        "43      46         2        NaN        NaN       NaN       NaN         5   \n",
        "44      49         1        NaN        NaN       NaN       NaN         6   \n",
        "47      49         4        NaN        NaN       NaN       NaN         6   \n",
        "48      51         1        NaN        NaN       NaN       NaN         6   \n",
        "49      51         2        NaN        NaN       NaN       NaN         6   \n",
        "52      57         1        NaN        NaN       NaN       NaN         5   \n",
        "53      57         2        NaN        NaN       NaN       NaN         5   \n",
        "54      57         3        NaN        NaN       NaN       NaN         5   \n",
        "55      60         1        NaN        NaN       NaN       NaN         6   \n",
        "56      60         2        NaN        NaN       NaN       NaN         6   \n",
        "58      63         2        NaN        NaN       NaN       NaN         6   \n",
        "59      63         3        NaN        NaN       NaN       NaN         6   \n",
        "60      69         1        NaN        NaN       NaN       NaN         6   \n",
        "62      70         2        NaN        NaN       NaN       NaN         6   \n",
        "64      70         4        NaN        NaN       NaN       NaN         6   \n",
        "65      71         1        NaN        NaN       NaN       NaN         6   \n",
        "67      72         2        NaN        NaN       NaN       NaN         6   \n",
        "68      73         1        NaN        NaN       NaN       NaN         6   \n",
        "69      73         2        NaN        NaN       NaN       NaN         6   \n",
        "70      77         1        NaN        NaN       NaN       NaN         6   \n",
        "71      77         2        NaN        NaN       NaN       NaN         5   \n",
        "72      80         1        NaN        NaN       NaN       NaN         6   \n",
        "74      80         3        NaN        NaN       NaN       NaN         6   \n",
        "75      80         4        NaN        NaN       NaN       NaN         6   \n",
        "76      80         5        NaN        NaN       NaN       NaN         6   \n",
        "77      81         1        NaN        NaN       NaN       NaN         6   \n",
        "       ...       ...        ...        ...       ...       ...       ...   \n",
        "\n",
        "    pregend2  nbrnaliv  multbrth  cmotpreg  prgoutcome  cmprgend  flgdkmo1  \\\n",
        "0        NaN         1       NaN       NaN           1      1093       NaN   \n",
        "1        NaN         1       NaN       NaN           1      1166       NaN   \n",
        "2        NaN         3         5       NaN           1      1156       NaN   \n",
        "3        NaN         1       NaN       NaN           1      1198       NaN   \n",
        "4        NaN         1       NaN       NaN           1      1204       NaN   \n",
        "5        NaN         1       NaN       NaN           1      1074       NaN   \n",
        "6        NaN         1       NaN       NaN           1      1096       NaN   \n",
        "7        NaN         1       NaN       NaN           1      1112       NaN   \n",
        "8        NaN         1       NaN       NaN           1      1095       NaN   \n",
        "9        NaN         1       NaN       NaN           1      1146       NaN   \n",
        "10       NaN         1       NaN       NaN           1      1060       NaN   \n",
        "11       NaN         1       NaN       NaN           1      1065       NaN   \n",
        "12       NaN         1       NaN       NaN           1      1084       NaN   \n",
        "15       NaN         1       NaN       NaN           1      1184       NaN   \n",
        "16       NaN         1       NaN       NaN           1      1208       NaN   \n",
        "17       NaN         1       NaN       NaN           1       943       NaN   \n",
        "19       NaN         1       NaN       NaN           1      1137       NaN   \n",
        "20       NaN         1       NaN       NaN           1      1169       NaN   \n",
        "21       NaN         1       NaN       NaN           1       953       NaN   \n",
        "23       NaN         1       NaN       NaN           1      1077       NaN   \n",
        "24       NaN         1       NaN       NaN           1      1119       NaN   \n",
        "25       NaN         1       NaN       NaN           1      1163       NaN   \n",
        "26       NaN         1       NaN       NaN           1      1148       NaN   \n",
        "27       NaN         1       NaN       NaN           1       931       NaN   \n",
        "28       NaN         1       NaN       NaN           1       955       NaN   \n",
        "29       NaN         1       NaN       NaN           1       965       NaN   \n",
        "31       NaN         1       NaN       NaN           1      1178       NaN   \n",
        "32       NaN         1       NaN       NaN           1      1101       NaN   \n",
        "33       NaN         1       NaN       NaN           1      1121       NaN   \n",
        "34       NaN         1       NaN       NaN           1      1233       NaN   \n",
        "35       NaN         2         1       NaN           1      1152       NaN   \n",
        "39       NaN         1       NaN       NaN           1      1165       NaN   \n",
        "40       NaN         1       NaN       NaN           1      1222       NaN   \n",
        "42       NaN         1       NaN       NaN           1      1009       NaN   \n",
        "43       NaN         1       NaN       NaN           1      1051       NaN   \n",
        "44       NaN         1       NaN       NaN           1      1091       NaN   \n",
        "47       NaN         1       NaN       NaN           1      1163       NaN   \n",
        "48       NaN         1       NaN       NaN           1      1104       NaN   \n",
        "49       NaN         1       NaN       NaN           1      1177       NaN   \n",
        "52       NaN         1       NaN       NaN           1      1064       NaN   \n",
        "53       NaN         1       NaN       NaN           1      1098       NaN   \n",
        "54       NaN         1       NaN       NaN           1      1109       NaN   \n",
        "55       NaN         1       NaN       NaN           1      1092       NaN   \n",
        "56       NaN         1       NaN       NaN           1      1146       NaN   \n",
        "58       NaN         1       NaN       NaN           1      1101       NaN   \n",
        "59       NaN         1       NaN       NaN           1      1134       NaN   \n",
        "60       NaN         1       NaN       NaN           1      1213       NaN   \n",
        "62       NaN         1       NaN       NaN           1      1164       NaN   \n",
        "64       NaN         1       NaN       NaN           1      1231       NaN   \n",
        "65       NaN         1       NaN       NaN           1      1167       NaN   \n",
        "67       NaN         1       NaN       NaN           1      1211       NaN   \n",
        "68       NaN         1       NaN       NaN           1      1046       NaN   \n",
        "69       NaN         1       NaN       NaN           1      1145       NaN   \n",
        "70       NaN         1       NaN       NaN           1      1134       NaN   \n",
        "71       NaN         1       NaN       NaN           1      1172       NaN   \n",
        "72       NaN         1       NaN       NaN           1      1076       NaN   \n",
        "74       NaN         1       NaN       NaN           1      1111       NaN   \n",
        "75       NaN         1       NaN       NaN           1      1135       NaN   \n",
        "76       NaN         1       NaN       NaN           1      1151       NaN   \n",
        "77       NaN         1       NaN       NaN           1      1225       NaN   \n",
        "         ...       ...       ...       ...         ...       ...       ...   \n",
        "\n",
        "    cmprgbeg  ageatend  hpageend  gestasun_m  gestasun_w  wksgest      \n",
        "0       1084       NaN       NaN           9           0       39 ...  \n",
        "1       1157       NaN       NaN           9           0       39 ...  \n",
        "2       1147       NaN       NaN           0          39       39 ...  \n",
        "3       1189       NaN       NaN           0          39       39 ...  \n",
        "4       1195       NaN       NaN           0          39       39 ...  \n",
        "5       1065       NaN       NaN           0          38       38 ...  \n",
        "6       1087       NaN       NaN           0          40       40 ...  \n",
        "7       1102       NaN       NaN           0          42       42 ...  \n",
        "8       1086       NaN       NaN           9           0       39 ...  \n",
        "9       1138       NaN       NaN           8           0       35 ...  \n",
        "10      1051       NaN       NaN           9           0       39 ...  \n",
        "11      1056       NaN       NaN           9           0       39 ...  \n",
        "12      1076       NaN       NaN           8           2       37 ...  \n",
        "15      1176       NaN       NaN           0          33       33 ...  \n",
        "16      1200       NaN       NaN           0          33       33 ...  \n",
        "17       934       NaN       NaN           9           0       39 ...  \n",
        "19      1128       NaN       NaN           9           2       41 ...  \n",
        "20      1160       NaN       NaN           9           0       39 ...  \n",
        "21       944       NaN       NaN           9           0       39 ...  \n",
        "23      1068       NaN       NaN           9           0       39 ...  \n",
        "24      1110       NaN       NaN           9           0       39 ...  \n",
        "25      1154       NaN       NaN           9           0       39 ...  \n",
        "26      1139       NaN       NaN           9           0       39 ...  \n",
        "27       921       NaN       NaN           9           3       42 ...  \n",
        "28       947       NaN       NaN           8           2       37 ...  \n",
        "29       956       NaN       NaN           9           1       40 ...  \n",
        "31      1169       NaN       NaN           9           2       41 ...  \n",
        "32      1092       NaN       NaN           8           3       38 ...  \n",
        "33      1112       NaN       NaN           9           0       39 ...  \n",
        "34      1224       NaN       NaN           9           0       39 ...  \n",
        "35      1143       NaN       NaN           9           0       39 ...  \n",
        "39      1156       NaN       NaN           0          39       39 ...  \n",
        "40      1214       NaN       NaN           0          36       36 ...  \n",
        "42      1001       NaN       NaN           0          36       36 ...  \n",
        "43      1042       NaN       NaN           0          40       40 ...  \n",
        "44      1082       NaN       NaN           9           0       39 ...  \n",
        "47      1154       NaN       NaN           9           0       39 ...  \n",
        "48      1095       NaN       NaN           9           0       39 ...  \n",
        "49      1168       NaN       NaN           9           0       39 ...  \n",
        "52      1055       NaN       NaN           9           0       39 ...  \n",
        "53      1090       NaN       NaN           8           2       37 ...  \n",
        "54      1100       NaN       NaN           9           0       39 ...  \n",
        "55      1083       NaN       NaN           9           1       40 ...  \n",
        "56      1137       NaN       NaN           9           1       40 ...  \n",
        "58      1092       NaN       NaN           0          41       41 ...  \n",
        "59      1125       NaN       NaN           0          37       37 ...  \n",
        "60      1205       NaN       NaN           8           2       37 ...  \n",
        "62      1155       NaN       NaN           0          39       39 ...  \n",
        "64      1222       NaN       NaN           0          38       38 ...  \n",
        "65      1158       NaN       NaN           9           0       39 ...  \n",
        "67      1202       NaN       NaN           9           0       39 ...  \n",
        "68      1037       NaN       NaN           0          40       40 ...  \n",
        "69      1137       NaN       NaN           0          36       36 ...  \n",
        "70      1125       NaN       NaN           9           0       39 ...  \n",
        "71      1163       NaN       NaN           9           0       39 ...  \n",
        "72      1067       NaN       NaN           9           0       39 ...  \n",
        "74      1102       NaN       NaN           9           0       39 ...  \n",
        "75      1126       NaN       NaN           9           0       39 ...  \n",
        "76      1142       NaN       NaN           9           0       39 ...  \n",
        "77      1216       NaN       NaN           9           0       39 ...  \n",
        "         ...       ...       ...         ...         ...      ...      \n",
        "\n",
        "[9148 rows x 245 columns]>"
       ]
      }
     ],
     "prompt_number": 8
    },
    {
     "cell_type": "markdown",
     "metadata": {},
     "source": [
      "Print value counts for <tt>prglngth</tt> and compare to results published in the [codebook](http://www.icpsr.umich.edu/nsfg6/Controller?displayPage=labelDetails&fileCode=PREG&section=A&subSec=8016&srtLabel=611931)"
     ]
    },
    {
     "cell_type": "code",
     "collapsed": false,
     "input": [
      "import pandas\n",
      "pandas.pivot_table(df, rows='birthord', cols=['agepreg', 'totalwgt_lb'])"
     ],
     "language": "python",
     "metadata": {},
     "outputs": [],
     "prompt_number": "*"
    },
    {
     "cell_type": "markdown",
     "metadata": {},
     "source": [
      "Print value counts for <tt>agepreg</tt> and compare to results published in the [codebook](http://www.icpsr.umich.edu/nsfg6/Controller?displayPage=labelDetails&fileCode=PREG&section=A&subSec=8016&srtLabel=611935).\n",
      "\n",
      "Looking at this data, please remember my comments in the book about the obligation to approach data with consideration for the context and respect for the respondents."
     ]
    },
    {
     "cell_type": "code",
     "collapsed": false,
     "input": [],
     "language": "python",
     "metadata": {},
     "outputs": [],
     "prompt_number": 36
    },
    {
     "cell_type": "markdown",
     "metadata": {},
     "source": [
      "Compute the mean birthweight."
     ]
    },
    {
     "cell_type": "code",
     "collapsed": false,
     "input": [
      "df.totalwgt_lb.mean()"
     ],
     "language": "python",
     "metadata": {},
     "outputs": [
      {
       "metadata": {},
       "output_type": "pyout",
       "prompt_number": 37,
       "text": [
        "7.2656284576233681"
       ]
      }
     ],
     "prompt_number": 37
    },
    {
     "cell_type": "markdown",
     "metadata": {},
     "source": [
      "Create a new column named <tt>totalwgt_kg</tt> that contains birth weight in kilograms.  Compute its mean.  Remember that when you create a new column, you have to use dictionary syntax, not dot notation."
     ]
    },
    {
     "cell_type": "code",
     "collapsed": false,
     "input": [],
     "language": "python",
     "metadata": {},
     "outputs": [],
     "prompt_number": 37
    },
    {
     "cell_type": "markdown",
     "metadata": {},
     "source": [
      "Look through the codebook and find a variable, other than the ones mentioned in the book, that you find interesting.  Compute values counts, means, or other statistics."
     ]
    },
    {
     "cell_type": "code",
     "collapsed": false,
     "input": [],
     "language": "python",
     "metadata": {},
     "outputs": [],
     "prompt_number": 37
    },
    {
     "cell_type": "markdown",
     "metadata": {},
     "source": [
      "Create a boolean Series."
     ]
    },
    {
     "cell_type": "code",
     "collapsed": false,
     "input": [
      "df.outcome == 1"
     ],
     "language": "python",
     "metadata": {},
     "outputs": [
      {
       "metadata": {},
       "output_type": "pyout",
       "prompt_number": 38,
       "text": [
        "0      True\n",
        "1      True\n",
        "2      True\n",
        "3      True\n",
        "4      True\n",
        "5      True\n",
        "6      True\n",
        "7      True\n",
        "8      True\n",
        "9      True\n",
        "10     True\n",
        "11     True\n",
        "12     True\n",
        "13    False\n",
        "14    False\n",
        "...\n",
        "13578     True\n",
        "13579     True\n",
        "13580    False\n",
        "13581     True\n",
        "13582    False\n",
        "13583    False\n",
        "13584     True\n",
        "13585    False\n",
        "13586    False\n",
        "13587    False\n",
        "13588     True\n",
        "13589    False\n",
        "13590    False\n",
        "13591     True\n",
        "13592     True\n",
        "Name: outcome, Length: 13593, dtype: bool"
       ]
      }
     ],
     "prompt_number": 38
    },
    {
     "cell_type": "markdown",
     "metadata": {},
     "source": [
      "Use a boolean Series to select the records for the pregnancies that ended in live birth."
     ]
    },
    {
     "cell_type": "code",
     "collapsed": false,
     "input": [
      "live = df[df.outcome == 1]\n",
      "len(live)"
     ],
     "language": "python",
     "metadata": {},
     "outputs": [
      {
       "metadata": {},
       "output_type": "pyout",
       "prompt_number": 39,
       "text": [
        "9148"
       ]
      }
     ],
     "prompt_number": 39
    },
    {
     "cell_type": "markdown",
     "metadata": {},
     "source": [
      "Count the number of live births with <tt>birthwgt_lb</tt> between 0 and 5 pounds (including both).  The result should be 1125."
     ]
    },
    {
     "cell_type": "code",
     "collapsed": false,
     "input": [
      "len(live[(live.birthwgt_lb >= 0) & (live.birthwgt_lb <= 5)])"
     ],
     "language": "python",
     "metadata": {},
     "outputs": [
      {
       "metadata": {},
       "output_type": "pyout",
       "prompt_number": 40,
       "text": [
        "1125"
       ]
      }
     ],
     "prompt_number": 40
    },
    {
     "cell_type": "markdown",
     "metadata": {},
     "source": [
      "Count the number of live births with <tt>birthwgt_lb</tt> between 9 and 95 pounds (including both).  The result should be 798 "
     ]
    },
    {
     "cell_type": "code",
     "collapsed": false,
     "input": [],
     "language": "python",
     "metadata": {},
     "outputs": [],
     "prompt_number": 40
    },
    {
     "cell_type": "markdown",
     "metadata": {},
     "source": [
      "Use <tt>birthord</tt> to select the records for first babies and others.  How many are there of each?"
     ]
    },
    {
     "cell_type": "code",
     "collapsed": false,
     "input": [
      "firsts = df[df.birthord==1]\n",
      "others = df[df.birthord>1]\n",
      "len(firsts), len(others)"
     ],
     "language": "python",
     "metadata": {},
     "outputs": [
      {
       "metadata": {},
       "output_type": "pyout",
       "prompt_number": 41,
       "text": [
        "(4413, 4735)"
       ]
      }
     ],
     "prompt_number": 41
    },
    {
     "cell_type": "markdown",
     "metadata": {},
     "source": [
      "Compute the mean weight for first babies and others."
     ]
    },
    {
     "cell_type": "code",
     "collapsed": false,
     "input": [
      "firsts.totalwgt_lb.mean()"
     ],
     "language": "python",
     "metadata": {},
     "outputs": [
      {
       "metadata": {},
       "output_type": "pyout",
       "prompt_number": 42,
       "text": [
        "7.201094430437772"
       ]
      }
     ],
     "prompt_number": 42
    },
    {
     "cell_type": "code",
     "collapsed": false,
     "input": [
      "others.totalwgt_lb.mean()"
     ],
     "language": "python",
     "metadata": {},
     "outputs": [
      {
       "metadata": {},
       "output_type": "pyout",
       "prompt_number": 43,
       "text": [
        "7.3258556149732623"
       ]
      }
     ],
     "prompt_number": 43
    },
    {
     "cell_type": "markdown",
     "metadata": {},
     "source": [
      "Compute the mean <tt>prglngth</tt> for first babies and others.  Compute the difference in means, expressed in hours."
     ]
    },
    {
     "cell_type": "code",
     "collapsed": false,
     "input": [],
     "language": "python",
     "metadata": {},
     "outputs": [],
     "prompt_number": 43
    }
   ],
   "metadata": {}
  }
 ]
}