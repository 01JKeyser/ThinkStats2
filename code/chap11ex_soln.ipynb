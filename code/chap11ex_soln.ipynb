{
 "metadata": {
  "name": ""
 },
 "nbformat": 3,
 "nbformat_minor": 0,
 "worksheets": [
  {
   "cells": [
    {
     "cell_type": "code",
     "collapsed": false,
     "input": [
      "import first\n",
      "live, firsts, others = first.MakeFrames()\n",
      "df = live[live.prglngth>30]"
     ],
     "language": "python",
     "metadata": {},
     "outputs": [],
     "prompt_number": 1
    },
    {
     "cell_type": "markdown",
     "metadata": {},
     "source": [
      "The following are the only variables I found that have a statistically significant effect on pregnancy length."
     ]
    },
    {
     "cell_type": "code",
     "collapsed": false,
     "input": [
      "import statsmodels.formula.api as smf\n",
      "model = smf.ols('prglngth ~ birthord==1 + race==2 + nbrnaliv>1', data=df)\n",
      "results = model.fit()\n",
      "results.summary()"
     ],
     "language": "python",
     "metadata": {},
     "outputs": [
      {
       "html": [
        "<table class=\"simpletable\">\n",
        "<caption>OLS Regression Results</caption>\n",
        "<tr>\n",
        "  <th>Dep. Variable:</th>        <td>prglngth</td>     <th>  R-squared:         </th> <td>   0.019</td> \n",
        "</tr>\n",
        "<tr>\n",
        "  <th>Model:</th>                   <td>OLS</td>       <th>  Adj. R-squared:    </th> <td>   0.018</td> \n",
        "</tr>\n",
        "<tr>\n",
        "  <th>Method:</th>             <td>Least Squares</td>  <th>  F-statistic:       </th> <td>   15.05</td> \n",
        "</tr>\n",
        "<tr>\n",
        "  <th>Date:</th>             <td>Thu, 26 Jun 2014</td> <th>  Prob (F-statistic):</th> <td>3.48e-12</td> \n",
        "</tr>\n",
        "<tr>\n",
        "  <th>Time:</th>                 <td>16:04:17</td>     <th>  Log-Likelihood:    </th> <td> -6501.2</td> \n",
        "</tr>\n",
        "<tr>\n",
        "  <th>No. Observations:</th>      <td>  3109</td>      <th>  AIC:               </th> <td>1.301e+04</td>\n",
        "</tr>\n",
        "<tr>\n",
        "  <th>Df Residuals:</th>          <td>  3104</td>      <th>  BIC:               </th> <td>1.304e+04</td>\n",
        "</tr>\n",
        "<tr>\n",
        "  <th>Df Model:</th>              <td>     4</td>      <th>                     </th>     <td> </td>    \n",
        "</tr>\n",
        "</table>\n",
        "<table class=\"simpletable\">\n",
        "<tr>\n",
        "            <td></td>               <th>coef</th>     <th>std err</th>      <th>t</th>      <th>P>|t|</th> <th>[95.0% Conf. Int.]</th> \n",
        "</tr>\n",
        "<tr>\n",
        "  <th>Intercept</th>             <td>   38.7087</td> <td>    0.087</td> <td>  446.225</td> <td> 0.000</td> <td>   38.539    38.879</td>\n",
        "</tr>\n",
        "<tr>\n",
        "  <th>birthord == 1[T.True]</th> <td>    0.1329</td> <td>    0.073</td> <td>    1.832</td> <td> 0.067</td> <td>   -0.009     0.275</td>\n",
        "</tr>\n",
        "<tr>\n",
        "  <th>race == 2[T.True]</th>     <td>    0.1691</td> <td>    0.076</td> <td>    2.236</td> <td> 0.025</td> <td>    0.021     0.317</td>\n",
        "</tr>\n",
        "<tr>\n",
        "  <th>nbrnaliv > 1[T.True]</th>  <td>   -2.0538</td> <td>    0.292</td> <td>   -7.043</td> <td> 0.000</td> <td>   -2.626    -1.482</td>\n",
        "</tr>\n",
        "<tr>\n",
        "  <th>workpreg</th>              <td>   -0.0079</td> <td>    0.018</td> <td>   -0.441</td> <td> 0.659</td> <td>   -0.043     0.027</td>\n",
        "</tr>\n",
        "</table>\n",
        "<table class=\"simpletable\">\n",
        "<tr>\n",
        "  <th>Omnibus:</th>       <td>452.571</td> <th>  Durbin-Watson:     </th> <td>   1.784</td>\n",
        "</tr>\n",
        "<tr>\n",
        "  <th>Prob(Omnibus):</th> <td> 0.000</td>  <th>  Jarque-Bera (JB):  </th> <td>1520.144</td>\n",
        "</tr>\n",
        "<tr>\n",
        "  <th>Skew:</th>          <td>-0.722</td>  <th>  Prob(JB):          </th> <td>    0.00</td>\n",
        "</tr>\n",
        "<tr>\n",
        "  <th>Kurtosis:</th>      <td> 6.106</td>  <th>  Cond. No.          </th> <td>    29.1</td>\n",
        "</tr>\n",
        "</table>"
       ],
       "metadata": {},
       "output_type": "pyout",
       "prompt_number": 21,
       "text": [
        "<class 'statsmodels.iolib.summary.Summary'>\n",
        "\"\"\"\n",
        "                            OLS Regression Results                            \n",
        "==============================================================================\n",
        "Dep. Variable:               prglngth   R-squared:                       0.019\n",
        "Model:                            OLS   Adj. R-squared:                  0.018\n",
        "Method:                 Least Squares   F-statistic:                     15.05\n",
        "Date:                Thu, 26 Jun 2014   Prob (F-statistic):           3.48e-12\n",
        "Time:                        16:04:17   Log-Likelihood:                -6501.2\n",
        "No. Observations:                3109   AIC:                         1.301e+04\n",
        "Df Residuals:                    3104   BIC:                         1.304e+04\n",
        "Df Model:                           4                                         \n",
        "=========================================================================================\n",
        "                            coef    std err          t      P>|t|      [95.0% Conf. Int.]\n",
        "-----------------------------------------------------------------------------------------\n",
        "Intercept                38.7087      0.087    446.225      0.000        38.539    38.879\n",
        "birthord == 1[T.True]     0.1329      0.073      1.832      0.067        -0.009     0.275\n",
        "race == 2[T.True]         0.1691      0.076      2.236      0.025         0.021     0.317\n",
        "nbrnaliv > 1[T.True]     -2.0538      0.292     -7.043      0.000        -2.626    -1.482\n",
        "workpreg                 -0.0079      0.018     -0.441      0.659        -0.043     0.027\n",
        "==============================================================================\n",
        "Omnibus:                      452.571   Durbin-Watson:                   1.784\n",
        "Prob(Omnibus):                  0.000   Jarque-Bera (JB):             1520.144\n",
        "Skew:                          -0.722   Prob(JB):                         0.00\n",
        "Kurtosis:                       6.106   Cond. No.                         29.1\n",
        "==============================================================================\n",
        "\"\"\""
       ]
      }
     ],
     "prompt_number": 21
    },
    {
     "cell_type": "markdown",
     "metadata": {},
     "source": [
      "Let's go mining for variables that predict sex ratio."
     ]
    },
    {
     "cell_type": "code",
     "collapsed": false,
     "input": [
      "import regression\n",
      "join = regression.JoinFemResp(live)"
     ],
     "language": "python",
     "metadata": {},
     "outputs": [],
     "prompt_number": 22
    },
    {
     "cell_type": "code",
     "collapsed": false,
     "input": [
      "def GoMining(df):\n",
      "    \"\"\"Searches for variables that predict birth weight.\n",
      "\n",
      "    df: DataFrame of pregnancy records\n",
      "\n",
      "    returns: list of (rsquared, variable name) pairs\n",
      "    \"\"\"\n",
      "    df['boy'] = (df.babysex==1).astype(int)\n",
      "    variables = []\n",
      "    for name in df.columns:\n",
      "        try:\n",
      "            if df[name].var() < 1e-7:\n",
      "                continue\n",
      "\n",
      "            formula='boy ~ agepreg + ' + name\n",
      "            model = smf.logit(formula, data=df)\n",
      "            nobs = len(model.endog)\n",
      "            if nobs < len(df)/2:\n",
      "                continue\n",
      "\n",
      "            results = model.fit()\n",
      "        except:\n",
      "            continue\n",
      "\n",
      "        variables.append((results.prsquared, name))\n",
      "\n",
      "    return variables\n",
      "\n",
      "variables = GoMining(join)"
     ],
     "language": "python",
     "metadata": {},
     "outputs": [
      {
       "output_type": "stream",
       "stream": "stdout",
       "text": [
        "Optimization terminated successfully.\n",
        "         Current function value: 0.693023\n",
        "         Iterations 3\n",
        "Optimization terminated successfully.\n",
        "         Current function value: 0.692956\n",
        "         Iterations 3\n",
        "Optimization terminated successfully."
       ]
      },
      {
       "output_type": "stream",
       "stream": "stdout",
       "text": [
        "\n",
        "         Current function value: 0.692848\n",
        "         Iterations 3\n",
        "Optimization terminated successfully.\n",
        "         Current function value: 0.693006\n",
        "         Iterations 3\n",
        "Optimization terminated successfully."
       ]
      },
      {
       "output_type": "stream",
       "stream": "stdout",
       "text": [
        "\n",
        "         Current function value: 0.692949\n",
        "         Iterations 4\n",
        "Optimization terminated successfully.\n",
        "         Current function value: 0.692731\n",
        "         Iterations 6\n",
        "Optimization terminated successfully."
       ]
      },
      {
       "output_type": "stream",
       "stream": "stdout",
       "text": [
        "\n",
        "         Current function value: 0.693028\n",
        "         Iterations 3\n",
        "Optimization terminated successfully.\n",
        "         Current function value: 0.693006\n",
        "         Iterations 3\n",
        "Optimization terminated successfully.\n",
        "         Current function value: 0.692984\n",
        "         Iterations 4\n",
        "Optimization terminated successfully."
       ]
      },
      {
       "output_type": "stream",
       "stream": "stdout",
       "text": [
        "\n",
        "         Current function value: 0.693021\n",
        "         Iterations 4\n",
        "Optimization terminated successfully.\n",
        "         Current function value: 0.692769\n",
        "         Iterations 5\n",
        "Optimization terminated successfully."
       ]
      },
      {
       "output_type": "stream",
       "stream": "stdout",
       "text": [
        "\n",
        "         Current function value: 0.687615\n",
        "         Iterations 4\n",
        "Optimization terminated successfully.\n",
        "         Current function value: 0.693032\n",
        "         Iterations 3\n",
        "Optimization terminated successfully."
       ]
      },
      {
       "output_type": "stream",
       "stream": "stdout",
       "text": [
        "\n",
        "         Current function value: 0.692949\n",
        "         Iterations 4\n",
        "Optimization terminated successfully.\n",
        "         Current function value: 0.693046\n",
        "         Iterations 3\n",
        "Optimization terminated successfully.\n",
        "         Current function value: 0.692955\n",
        "         Iterations 3\n",
        "Optimization terminated successfully."
       ]
      },
      {
       "output_type": "stream",
       "stream": "stdout",
       "text": [
        "\n",
        "         Current function value: 0.692978\n",
        "         Iterations 3\n",
        "Optimization terminated successfully.\n",
        "         Current function value: 0.692904\n",
        "         Iterations 3\n",
        "Optimization terminated successfully."
       ]
      },
      {
       "output_type": "stream",
       "stream": "stdout",
       "text": [
        "\n",
        "         Current function value: 0.693076\n",
        "         Iterations 3\n",
        "Optimization terminated successfully.\n",
        "         Current function value: 0.693096\n",
        "         Iterations 3\n",
        "Optimization terminated successfully.\n",
        "         Current function value: 0.692561\n",
        "         Iterations 6\n",
        "Optimization terminated successfully."
       ]
      },
      {
       "output_type": "stream",
       "stream": "stdout",
       "text": [
        "\n",
        "         Current function value: 0.693021\n",
        "         Iterations 3\n",
        "Optimization terminated successfully.\n",
        "         Current function value: 0.693027\n",
        "         Iterations 3\n",
        "Optimization terminated successfully.\n",
        "         Current function value: 0.693030\n",
        "         Iterations 3\n",
        "Optimization terminated successfully."
       ]
      },
      {
       "output_type": "stream",
       "stream": "stdout",
       "text": [
        "\n",
        "         Current function value: 0.692822\n",
        "         Iterations 4\n",
        "Optimization terminated successfully.\n",
        "         Current function value: 0.692908\n",
        "         Iterations 4\n",
        "Optimization terminated successfully.\n",
        "         Current function value: 0.692553\n",
        "         Iterations 3\n",
        "Optimization terminated successfully."
       ]
      },
      {
       "output_type": "stream",
       "stream": "stdout",
       "text": [
        "\n",
        "         Current function value: 0.692954\n",
        "         Iterations 3\n",
        "Optimization terminated successfully.\n",
        "         Current function value: 0.692961\n",
        "         Iterations 3\n",
        "Optimization terminated successfully."
       ]
      },
      {
       "output_type": "stream",
       "stream": "stdout",
       "text": [
        "\n",
        "         Current function value: 0.693003\n",
        "         Iterations 3\n",
        "Optimization terminated successfully.\n",
        "         Current function value: 0.693044\n",
        "         Iterations 3\n",
        "Optimization terminated successfully.\n",
        "         Current function value: 0.692998\n",
        "         Iterations 3\n",
        "Optimization terminated successfully."
       ]
      },
      {
       "output_type": "stream",
       "stream": "stdout",
       "text": [
        "\n",
        "         Current function value: 0.693043\n",
        "         Iterations 3\n",
        "Optimization terminated successfully.\n",
        "         Current function value: 0.692684\n",
        "         Iterations 3\n",
        "Optimization terminated successfully.\n",
        "         Current function value: 0.692572\n",
        "         Iterations 3\n",
        "Optimization terminated successfully.\n",
        "         Current function value: 0.693021\n",
        "         Iterations 3\n",
        "Optimization terminated successfully.\n",
        "         Current function value: 0.693061\n",
        "         Iterations 3\n",
        "Optimization terminated successfully."
       ]
      },
      {
       "output_type": "stream",
       "stream": "stdout",
       "text": [
        "\n",
        "         Current function value: 0.692921\n",
        "         Iterations 3\n",
        "Optimization terminated successfully.\n",
        "         Current function value: 0.692903\n",
        "         Iterations 3\n",
        "Optimization terminated successfully.\n",
        "         Current function value: 0.693019\n",
        "         Iterations 3\n",
        "Optimization terminated successfully."
       ]
      },
      {
       "output_type": "stream",
       "stream": "stdout",
       "text": [
        "\n",
        "         Current function value: 0.692863\n",
        "         Iterations 3\n",
        "Optimization terminated successfully.\n",
        "         Current function value: 0.693030\n",
        "         Iterations 3\n",
        "Optimization terminated successfully.\n",
        "         Current function value: 0.692860\n",
        "         Iterations 3\n",
        "Optimization terminated successfully."
       ]
      },
      {
       "output_type": "stream",
       "stream": "stdout",
       "text": [
        "\n",
        "         Current function value: 0.692854\n",
        "         Iterations 4\n",
        "Optimization terminated successfully.\n",
        "         Current function value: 0.692455\n",
        "         Iterations 3\n",
        "Optimization terminated successfully.\n",
        "         Current function value: 0.692582\n",
        "         Iterations 3\n",
        "Optimization terminated successfully."
       ]
      },
      {
       "output_type": "stream",
       "stream": "stdout",
       "text": [
        "\n",
        "         Current function value: 0.692490\n",
        "         Iterations 3\n",
        "Optimization terminated successfully.\n",
        "         Current function value: 0.692760\n",
        "         Iterations 3\n",
        "Optimization terminated successfully.\n",
        "         Current function value: 0.692274\n",
        "         Iterations 4\n",
        "Optimization terminated successfully."
       ]
      },
      {
       "output_type": "stream",
       "stream": "stdout",
       "text": [
        "\n",
        "         Current function value: 0.692925\n",
        "         Iterations 3\n",
        "Optimization terminated successfully.\n",
        "         Current function value: 0.693026\n",
        "         Iterations 3\n",
        "Optimization terminated successfully.\n",
        "         Current function value: 0.692966\n",
        "         Iterations 3\n",
        "Optimization terminated successfully."
       ]
      },
      {
       "output_type": "stream",
       "stream": "stdout",
       "text": [
        "\n",
        "         Current function value: 0.693027\n",
        "         Iterations 3\n",
        "Optimization terminated successfully.\n",
        "         Current function value: 0.692969\n",
        "         Iterations 3\n",
        "Optimization terminated successfully.\n",
        "         Current function value: 0.692863\n",
        "         Iterations 3\n",
        "Optimization terminated successfully."
       ]
      },
      {
       "output_type": "stream",
       "stream": "stdout",
       "text": [
        "\n",
        "         Current function value: 0.692870\n",
        "         Iterations 3\n",
        "Optimization terminated successfully.\n",
        "         Current function value: 0.692870\n",
        "         Iterations 3\n",
        "Optimization terminated successfully.\n",
        "         Current function value: 0.692833\n",
        "         Iterations 3\n",
        "Optimization terminated successfully."
       ]
      },
      {
       "output_type": "stream",
       "stream": "stdout",
       "text": [
        "\n",
        "         Current function value: 0.692938\n",
        "         Iterations 3\n",
        "Optimization terminated successfully.\n",
        "         Current function value: 0.693011\n",
        "         Iterations 3\n",
        "Optimization terminated successfully.\n",
        "         Current function value: 0.692995\n",
        "         Iterations 3\n",
        "Optimization terminated successfully."
       ]
      },
      {
       "output_type": "stream",
       "stream": "stdout",
       "text": [
        "\n",
        "         Current function value: 0.693020\n",
        "         Iterations 3\n",
        "Optimization terminated successfully.\n",
        "         Current function value: 0.692998\n",
        "         Iterations 3\n",
        "Optimization terminated successfully.\n",
        "         Current function value: 0.693030\n",
        "         Iterations 3\n",
        "Optimization terminated successfully.\n",
        "         Current function value: 0.693017\n",
        "         Iterations 3\n",
        "Optimization terminated successfully."
       ]
      },
      {
       "output_type": "stream",
       "stream": "stdout",
       "text": [
        "\n",
        "         Current function value: 0.692890\n",
        "         Iterations 3\n",
        "Optimization terminated successfully.\n",
        "         Current function value: 0.693018\n",
        "         Iterations 3\n",
        "Optimization terminated successfully.\n",
        "         Current function value: 0.693012\n",
        "         Iterations 3\n",
        "Optimization terminated successfully."
       ]
      },
      {
       "output_type": "stream",
       "stream": "stdout",
       "text": [
        "\n",
        "         Current function value: 0.693013\n",
        "         Iterations 3\n",
        "Optimization terminated successfully.\n",
        "         Current function value: 0.692972\n",
        "         Iterations 3\n",
        "Optimization terminated successfully.\n",
        "         Current function value: 0.693028\n",
        "         Iterations 3\n",
        "Optimization terminated successfully."
       ]
      },
      {
       "output_type": "stream",
       "stream": "stdout",
       "text": [
        "\n",
        "         Current function value: 0.692907\n",
        "         Iterations 3\n",
        "Optimization terminated successfully.\n",
        "         Current function value: 0.693006\n",
        "         Iterations 3\n",
        "Optimization terminated successfully.\n",
        "         Current function value: 0.692609\n",
        "         Iterations 3\n",
        "Optimization terminated successfully."
       ]
      },
      {
       "output_type": "stream",
       "stream": "stdout",
       "text": [
        "\n",
        "         Current function value: 0.693015\n",
        "         Iterations 3\n",
        "Optimization terminated successfully.\n",
        "         Current function value: 0.692859\n",
        "         Iterations 5\n",
        "Optimization terminated successfully.\n",
        "         Current function value: 0.692660\n",
        "         Iterations 5\n",
        "Optimization terminated successfully."
       ]
      },
      {
       "output_type": "stream",
       "stream": "stdout",
       "text": [
        "\n",
        "         Current function value: 0.692904\n",
        "         Iterations 5\n",
        "Optimization terminated successfully.\n",
        "         Current function value: 0.692714\n",
        "         Iterations 5\n",
        "Optimization terminated successfully.\n",
        "         Current function value: 0.693014\n",
        "         Iterations 3\n",
        "Optimization terminated successfully."
       ]
      },
      {
       "output_type": "stream",
       "stream": "stdout",
       "text": [
        "\n",
        "         Current function value: 0.692923\n",
        "         Iterations 4\n",
        "Optimization terminated successfully.\n",
        "         Current function value: 0.693011\n",
        "         Iterations 3\n",
        "Optimization terminated successfully.\n",
        "         Current function value: 0.692965\n",
        "         Iterations 3\n",
        "Optimization terminated successfully.\n",
        "         Current function value: 0.693023\n",
        "         Iterations 3\n",
        "Optimization terminated successfully."
       ]
      },
      {
       "output_type": "stream",
       "stream": "stdout",
       "text": [
        "\n",
        "         Current function value: 0.692934\n",
        "         Iterations 4\n",
        "Warning: Maximum number of iterations has been exceeded."
       ]
      },
      {
       "output_type": "stream",
       "stream": "stdout",
       "text": [
        "\n",
        "         Current function value: 0.692798\n",
        "         Iterations: 35\n",
        "Optimization terminated successfully.\n",
        "         Current function value: 0.692665\n",
        "         Iterations 6\n",
        "Optimization terminated successfully.\n",
        "         Current function value: 0.693030\n",
        "         Iterations 3\n",
        "Optimization terminated successfully."
       ]
      },
      {
       "output_type": "stream",
       "stream": "stdout",
       "text": [
        "\n",
        "         Current function value: 0.692930\n",
        "         Iterations 4\n",
        "Optimization terminated successfully.\n",
        "         Current function value: 0.692999\n",
        "         Iterations 3\n",
        "Optimization terminated successfully.\n",
        "         Current function value: 0.693017\n",
        "         Iterations 4\n",
        "Optimization terminated successfully.\n",
        "         Current function value: 0.692999\n",
        "         Iterations 3\n",
        "Optimization terminated successfully."
       ]
      },
      {
       "output_type": "stream",
       "stream": "stdout",
       "text": [
        "\n",
        "         Current function value: 0.693027\n",
        "         Iterations 3\n",
        "Optimization terminated successfully.\n",
        "         Current function value: 0.693013\n",
        "         Iterations 4\n",
        "Optimization terminated successfully.\n",
        "         Current function value: 0.693030\n",
        "         Iterations 3\n",
        "Optimization terminated successfully."
       ]
      },
      {
       "output_type": "stream",
       "stream": "stdout",
       "text": [
        "\n",
        "         Current function value: 0.692956\n",
        "         Iterations 4\n",
        "Optimization terminated successfully.\n",
        "         Current function value: 0.693016\n",
        "         Iterations 4\n",
        "Optimization terminated successfully.\n",
        "         Current function value: 0.692816\n",
        "         Iterations 4\n",
        "Optimization terminated successfully."
       ]
      },
      {
       "output_type": "stream",
       "stream": "stdout",
       "text": [
        "\n",
        "         Current function value: 0.693030\n",
        "         Iterations 3\n",
        "Optimization terminated successfully.\n",
        "         Current function value: 0.693030\n",
        "         Iterations 3\n",
        "Optimization terminated successfully.\n",
        "         Current function value: 0.693026\n",
        "         Iterations 3\n",
        "Optimization terminated successfully."
       ]
      },
      {
       "output_type": "stream",
       "stream": "stdout",
       "text": [
        "\n",
        "         Current function value: 0.693021\n",
        "         Iterations 3\n",
        "Optimization terminated successfully.\n",
        "         Current function value: 0.693015\n",
        "         Iterations 3\n",
        "Optimization terminated successfully.\n",
        "         Current function value: 0.693000\n",
        "         Iterations 3\n",
        "Optimization terminated successfully."
       ]
      },
      {
       "output_type": "stream",
       "stream": "stdout",
       "text": [
        "\n",
        "         Current function value: 0.693025\n",
        "         Iterations 3\n",
        "Optimization terminated successfully.\n",
        "         Current function value: 0.693019\n",
        "         Iterations 3\n",
        "Optimization terminated successfully.\n",
        "         Current function value: 0.687464\n",
        "         Iterations 4\n",
        "Optimization terminated successfully."
       ]
      },
      {
       "output_type": "stream",
       "stream": "stdout",
       "text": [
        "\n",
        "         Current function value: 0.693023\n",
        "         Iterations 3\n",
        "Optimization terminated successfully.\n",
        "         Current function value: 0.693009\n",
        "         Iterations 3\n",
        "Optimization terminated successfully.\n",
        "         Current function value: 0.692945\n",
        "         Iterations 5\n",
        "Optimization terminated successfully."
       ]
      },
      {
       "output_type": "stream",
       "stream": "stdout",
       "text": [
        "\n",
        "         Current function value: 0.692913\n",
        "         Iterations 3\n",
        "Optimization terminated successfully.\n",
        "         Current function value: 0.693023\n",
        "         Iterations 3\n",
        "Optimization terminated successfully.\n",
        "         Current function value: 0.693028\n",
        "         Iterations 3\n",
        "Optimization terminated successfully."
       ]
      },
      {
       "output_type": "stream",
       "stream": "stdout",
       "text": [
        "\n",
        "         Current function value: 0.692885\n",
        "         Iterations 3\n",
        "Optimization terminated successfully.\n",
        "         Current function value: 0.692870\n",
        "         Iterations 3\n",
        "Optimization terminated successfully.\n",
        "         Current function value: 0.692863\n",
        "         Iterations 3\n",
        "Optimization terminated successfully."
       ]
      },
      {
       "output_type": "stream",
       "stream": "stdout",
       "text": [
        "\n",
        "         Current function value: 0.692870\n",
        "         Iterations 3\n",
        "Optimization terminated successfully.\n",
        "         Current function value: 0.692938\n",
        "         Iterations 3\n",
        "Optimization terminated successfully.\n",
        "         Current function value: 0.692833\n",
        "         Iterations 3\n",
        "Optimization terminated successfully."
       ]
      },
      {
       "output_type": "stream",
       "stream": "stdout",
       "text": [
        "\n",
        "         Current function value: 0.692831\n",
        "         Iterations 3\n",
        "Optimization terminated successfully.\n",
        "         Current function value: 0.692999\n",
        "         Iterations 3\n",
        "Optimization terminated successfully.\n",
        "         Current function value: 0.693022\n",
        "         Iterations 3\n",
        "Optimization terminated successfully."
       ]
      },
      {
       "output_type": "stream",
       "stream": "stdout",
       "text": [
        "\n",
        "         Current function value: 0.692999\n",
        "         Iterations 3\n",
        "Optimization terminated successfully.\n",
        "         Current function value: 0.693011\n",
        "         Iterations 4\n",
        "Optimization terminated successfully.\n",
        "         Current function value: 0.692988\n",
        "         Iterations 3\n",
        "Optimization terminated successfully.\n",
        "         Current function value: 0.692957\n",
        "         Iterations 3\n",
        "Optimization terminated successfully."
       ]
      },
      {
       "output_type": "stream",
       "stream": "stdout",
       "text": [
        "\n",
        "         Current function value: 0.692933\n",
        "         Iterations 4\n",
        "Optimization terminated successfully.\n",
        "         Current function value: 0.692987\n",
        "         Iterations 3\n",
        "Optimization terminated successfully.\n",
        "         Current function value: 0.693023\n",
        "         Iterations 3\n",
        "Optimization terminated successfully."
       ]
      },
      {
       "output_type": "stream",
       "stream": "stdout",
       "text": [
        "\n",
        "         Current function value: 0.692975\n",
        "         Iterations 3\n",
        "Optimization terminated successfully.\n",
        "         Current function value: 0.693011\n",
        "         Iterations 3\n",
        "Optimization terminated successfully.\n",
        "         Current function value: 0.692912\n",
        "         Iterations 3\n",
        "Optimization terminated successfully.\n",
        "         Current function value: 0.692554\n",
        "         Iterations 3\n",
        "Optimization terminated successfully."
       ]
      },
      {
       "output_type": "stream",
       "stream": "stdout",
       "text": [
        "\n",
        "         Current function value: 0.692939\n",
        "         Iterations 4\n",
        "Optimization terminated successfully.\n",
        "         Current function value: 0.692994\n",
        "         Iterations 3\n",
        "Optimization terminated successfully.\n",
        "         Current function value: 0.693033\n",
        "         Iterations 3\n",
        "Optimization terminated successfully."
       ]
      },
      {
       "output_type": "stream",
       "stream": "stdout",
       "text": [
        "\n",
        "         Current function value: 0.692954\n",
        "         Iterations 3\n",
        "Optimization terminated successfully.\n",
        "         Current function value: 0.693051\n",
        "         Iterations 3\n",
        "Optimization terminated successfully.\n",
        "         Current function value: 0.693026\n",
        "         Iterations 3\n",
        "Optimization terminated successfully."
       ]
      },
      {
       "output_type": "stream",
       "stream": "stdout",
       "text": [
        "\n",
        "         Current function value: 0.693031\n",
        "         Iterations 3\n",
        "Optimization terminated successfully.\n",
        "         Current function value: 0.692869\n",
        "         Iterations 3\n",
        "Optimization terminated successfully.\n",
        "         Current function value: 0.693049\n",
        "         Iterations 3\n",
        "Optimization terminated successfully."
       ]
      },
      {
       "output_type": "stream",
       "stream": "stdout",
       "text": [
        "\n",
        "         Current function value: 0.692910\n",
        "         Iterations 4\n",
        "Optimization terminated successfully.\n",
        "         Current function value: 0.693030\n",
        "         Iterations 3\n",
        "Optimization terminated successfully.\n",
        "         Current function value: 0.693003\n",
        "         Iterations 3\n",
        "Optimization terminated successfully."
       ]
      },
      {
       "output_type": "stream",
       "stream": "stdout",
       "text": [
        "\n",
        "         Current function value: 0.693018\n",
        "         Iterations 3\n",
        "Optimization terminated successfully.\n",
        "         Current function value: 0.692973\n",
        "         Iterations 4\n",
        "Optimization terminated successfully.\n",
        "         Current function value: 0.692297\n",
        "         Iterations 6\n",
        "Optimization terminated successfully."
       ]
      },
      {
       "output_type": "stream",
       "stream": "stdout",
       "text": [
        "\n",
        "         Current function value: 0.692978\n",
        "         Iterations 5\n",
        "Optimization terminated successfully.\n",
        "         Current function value: 0.692854\n",
        "         Iterations 4\n",
        "Optimization terminated successfully.\n",
        "         Current function value: 0.693021\n",
        "         Iterations 3\n",
        "Optimization terminated successfully."
       ]
      },
      {
       "output_type": "stream",
       "stream": "stdout",
       "text": [
        "\n",
        "         Current function value: 0.693027\n",
        "         Iterations 3\n",
        "Optimization terminated successfully.\n",
        "         Current function value: 0.693030\n",
        "         Iterations 3\n",
        "Optimization terminated successfully.\n",
        "         Current function value: 0.692924\n",
        "         Iterations 4\n",
        "Optimization terminated successfully."
       ]
      },
      {
       "output_type": "stream",
       "stream": "stdout",
       "text": [
        "\n",
        "         Current function value: 0.693027\n",
        "         Iterations 3\n",
        "Optimization terminated successfully.\n",
        "         Current function value: 0.692890\n",
        "         Iterations 3\n",
        "Optimization terminated successfully.\n",
        "         Current function value: 0.693017\n",
        "         Iterations 3\n",
        "Optimization terminated successfully."
       ]
      },
      {
       "output_type": "stream",
       "stream": "stdout",
       "text": [
        "\n",
        "         Current function value: 0.693006\n",
        "         Iterations 4\n",
        "Optimization terminated successfully.\n",
        "         Current function value: 0.693025\n",
        "         Iterations 3\n",
        "Optimization terminated successfully."
       ]
      },
      {
       "output_type": "stream",
       "stream": "stdout",
       "text": [
        "\n",
        "         Current function value: 0.692962\n",
        "         Iterations 3\n",
        "Optimization terminated successfully.\n",
        "         Current function value: 0.693027\n",
        "         Iterations 3\n",
        "Optimization terminated successfully."
       ]
      },
      {
       "output_type": "stream",
       "stream": "stdout",
       "text": [
        "\n",
        "         Current function value: 0.692780\n",
        "         Iterations 3\n",
        "Optimization terminated successfully.\n",
        "         Current function value: 0.693030\n",
        "         Iterations 4\n",
        "Optimization terminated successfully."
       ]
      },
      {
       "output_type": "stream",
       "stream": "stdout",
       "text": [
        "\n",
        "         Current function value: 0.693100\n",
        "         Iterations 4\n",
        "Optimization terminated successfully.\n",
        "         Current function value: 0.692985\n",
        "         Iterations 4\n",
        "Optimization terminated successfully.\n",
        "         Current function value: 0.693053\n",
        "         Iterations 3\n",
        "Optimization terminated successfully.\n",
        "         Current function value: 0.693040\n",
        "         Iterations 3\n",
        "Optimization terminated successfully."
       ]
      },
      {
       "output_type": "stream",
       "stream": "stdout",
       "text": [
        "\n",
        "         Current function value: 0.692913\n",
        "         Iterations 3\n",
        "Optimization terminated successfully.\n",
        "         Current function value: 0.693015\n",
        "         Iterations 3\n",
        "Optimization terminated successfully.\n",
        "         Current function value: 0.693036\n",
        "         Iterations 3\n",
        "Optimization terminated successfully."
       ]
      },
      {
       "output_type": "stream",
       "stream": "stdout",
       "text": [
        "\n",
        "         Current function value: 0.693037\n",
        "         Iterations 3\n",
        "Optimization terminated successfully.\n",
        "         Current function value: 0.693057\n",
        "         Iterations 3\n",
        "Optimization terminated successfully.\n",
        "         Current function value: 0.693056\n",
        "         Iterations 3\n",
        "Optimization terminated successfully."
       ]
      },
      {
       "output_type": "stream",
       "stream": "stdout",
       "text": [
        "\n",
        "         Current function value: 0.692973\n",
        "         Iterations 4\n",
        "Optimization terminated successfully.\n",
        "         Current function value: 0.692816\n",
        "         Iterations 4\n",
        "Optimization terminated successfully.\n",
        "         Current function value: 0.693072\n",
        "         Iterations 3\n",
        "Optimization terminated successfully."
       ]
      },
      {
       "output_type": "stream",
       "stream": "stdout",
       "text": [
        "\n",
        "         Current function value: 0.693052\n",
        "         Iterations 4\n",
        "Optimization terminated successfully.\n",
        "         Current function value: 0.693017\n",
        "         Iterations 3\n",
        "Optimization terminated successfully.\n",
        "         Current function value: 0.693022\n",
        "         Iterations 3\n",
        "Optimization terminated successfully."
       ]
      },
      {
       "output_type": "stream",
       "stream": "stdout",
       "text": [
        "\n",
        "         Current function value: 0.693001\n",
        "         Iterations 3\n",
        "Optimization terminated successfully."
       ]
      },
      {
       "output_type": "stream",
       "stream": "stdout",
       "text": [
        "\n",
        "         Current function value: 0.692921\n",
        "         Iterations 3\n",
        "Optimization terminated successfully.\n",
        "         Current function value: 0.693029\n",
        "         Iterations 3\n",
        "Optimization terminated successfully.\n",
        "         Current function value: 0.692892\n",
        "         Iterations 3\n",
        "Optimization terminated successfully."
       ]
      },
      {
       "output_type": "stream",
       "stream": "stdout",
       "text": [
        "\n",
        "         Current function value: 0.693034\n",
        "         Iterations 3\n",
        "Optimization terminated successfully.\n",
        "         Current function value: 0.692853\n",
        "         Iterations 3\n",
        "Optimization terminated successfully.\n",
        "         Current function value: 0.692988\n",
        "         Iterations 4\n",
        "Optimization terminated successfully."
       ]
      },
      {
       "output_type": "stream",
       "stream": "stdout",
       "text": [
        "\n",
        "         Current function value: 0.692994\n",
        "         Iterations 3\n",
        "Optimization terminated successfully.\n",
        "         Current function value: 0.693030\n",
        "         Iterations 3\n",
        "Optimization terminated successfully."
       ]
      },
      {
       "output_type": "stream",
       "stream": "stdout",
       "text": [
        "\n",
        "         Current function value: 0.693022\n",
        "         Iterations 3\n",
        "Optimization terminated successfully.\n",
        "         Current function value: 0.693030\n",
        "         Iterations 3\n",
        "Optimization terminated successfully.\n",
        "         Current function value: 0.693029\n",
        "         Iterations 3\n",
        "Optimization terminated successfully."
       ]
      },
      {
       "output_type": "stream",
       "stream": "stdout",
       "text": [
        "\n",
        "         Current function value: 0.693028\n",
        "         Iterations 3\n",
        "Optimization terminated successfully.\n",
        "         Current function value: 0.692954\n",
        "         Iterations 3\n",
        "Optimization terminated successfully.\n",
        "         Current function value: 0.692747\n",
        "         Iterations 4\n",
        "Optimization terminated successfully."
       ]
      },
      {
       "output_type": "stream",
       "stream": "stdout",
       "text": [
        "\n",
        "         Current function value: 0.692850\n",
        "         Iterations 5\n",
        "Optimization terminated successfully.\n",
        "         Current function value: 0.693004\n",
        "         Iterations 3\n",
        "Optimization terminated successfully.\n",
        "         Current function value: 0.693085\n",
        "         Iterations 3\n",
        "Optimization terminated successfully."
       ]
      },
      {
       "output_type": "stream",
       "stream": "stdout",
       "text": [
        "\n",
        "         Current function value: 0.693019\n",
        "         Iterations 3\n",
        "Optimization terminated successfully.\n",
        "         Current function value: 0.692994\n",
        "         Iterations 3\n",
        "Optimization terminated successfully."
       ]
      },
      {
       "output_type": "stream",
       "stream": "stdout",
       "text": [
        "\n",
        "         Current function value: 0.692962\n",
        "         Iterations 4\n",
        "Optimization terminated successfully.\n",
        "         Current function value: 0.693029\n",
        "         Iterations 3\n",
        "Optimization terminated successfully.\n",
        "         Current function value: 0.693028\n",
        "         Iterations 3\n",
        "Optimization terminated successfully."
       ]
      },
      {
       "output_type": "stream",
       "stream": "stdout",
       "text": [
        "\n",
        "         Current function value: 0.693017\n",
        "         Iterations 3\n",
        "Optimization terminated successfully.\n",
        "         Current function value: 0.692943\n",
        "         Iterations 3\n",
        "Optimization terminated successfully.\n",
        "         Current function value: 0.693074\n",
        "         Iterations 4\n",
        "Optimization terminated successfully."
       ]
      },
      {
       "output_type": "stream",
       "stream": "stdout",
       "text": [
        "\n",
        "         Current function value: 0.692942\n",
        "         Iterations 3\n",
        "Optimization terminated successfully.\n",
        "         Current function value: 0.692952\n",
        "         Iterations 3\n",
        "Optimization terminated successfully.\n",
        "         Current function value: 0.693001\n",
        "         Iterations 3\n",
        "Optimization terminated successfully."
       ]
      },
      {
       "output_type": "stream",
       "stream": "stdout",
       "text": [
        "\n",
        "         Current function value: 0.692887\n",
        "         Iterations 4\n",
        "Optimization terminated successfully.\n",
        "         Current function value: 0.692876\n",
        "         Iterations 3\n",
        "Optimization terminated successfully.\n",
        "         Current function value: 0.693027\n",
        "         Iterations 3\n",
        "Optimization terminated successfully."
       ]
      },
      {
       "output_type": "stream",
       "stream": "stdout",
       "text": [
        "\n",
        "         Current function value: 0.692770\n",
        "         Iterations 3\n",
        "Optimization terminated successfully.\n",
        "         Current function value: 0.692786\n",
        "         Iterations 3\n",
        "Optimization terminated successfully."
       ]
      },
      {
       "output_type": "stream",
       "stream": "stdout",
       "text": [
        "\n",
        "         Current function value: 0.692890\n",
        "         Iterations 3\n",
        "Optimization terminated successfully.\n",
        "         Current function value: 0.692827\n",
        "         Iterations 3\n",
        "Optimization terminated successfully.\n",
        "         Current function value: 0.693030\n",
        "         Iterations 3\n",
        "Optimization terminated successfully."
       ]
      },
      {
       "output_type": "stream",
       "stream": "stdout",
       "text": [
        "\n",
        "         Current function value: 0.692997\n",
        "         Iterations 3\n",
        "Optimization terminated successfully.\n",
        "         Current function value: 0.693134\n",
        "         Iterations 3\n",
        "Optimization terminated successfully."
       ]
      },
      {
       "output_type": "stream",
       "stream": "stdout",
       "text": [
        "\n",
        "         Current function value: 0.693131\n",
        "         Iterations 3\n",
        "Optimization terminated successfully.\n",
        "         Current function value: 0.692976\n",
        "         Iterations 3\n",
        "Optimization terminated successfully.\n",
        "         Current function value: 0.692915\n",
        "         Iterations 3\n",
        "Optimization terminated successfully."
       ]
      },
      {
       "output_type": "stream",
       "stream": "stdout",
       "text": [
        "\n",
        "         Current function value: 0.693025\n",
        "         Iterations 3\n",
        "Optimization terminated successfully.\n",
        "         Current function value: 0.693014\n",
        "         Iterations 3\n",
        "Optimization terminated successfully.\n",
        "         Current function value: 0.692846\n",
        "         Iterations 3\n",
        "Optimization terminated successfully."
       ]
      },
      {
       "output_type": "stream",
       "stream": "stdout",
       "text": [
        "\n",
        "         Current function value: 0.693023\n",
        "         Iterations 3\n",
        "Optimization terminated successfully.\n",
        "         Current function value: 0.693003\n",
        "         Iterations 3\n",
        "Optimization terminated successfully.\n",
        "         Current function value: 0.692928\n",
        "         Iterations 3\n",
        "Optimization terminated successfully.\n",
        "         Current function value: 0.692956\n",
        "         Iterations 3\n",
        "Optimization terminated successfully."
       ]
      },
      {
       "output_type": "stream",
       "stream": "stdout",
       "text": [
        "\n",
        "         Current function value: 0.692874\n",
        "         Iterations 3\n",
        "Optimization terminated successfully.\n",
        "         Current function value: 0.692877\n",
        "         Iterations 4\n",
        "Optimization terminated successfully.\n",
        "         Current function value: 0.693004\n",
        "         Iterations 3\n",
        "Optimization terminated successfully."
       ]
      },
      {
       "output_type": "stream",
       "stream": "stdout",
       "text": [
        "\n",
        "         Current function value: 0.693016\n",
        "         Iterations 3\n",
        "Optimization terminated successfully.\n",
        "         Current function value: 0.693028\n",
        "         Iterations 3\n",
        "Optimization terminated successfully.\n",
        "         Current function value: 0.693029\n",
        "         Iterations 3\n",
        "Optimization terminated successfully.\n",
        "         Current function value: 0.693029\n",
        "         Iterations 3\n",
        "Optimization terminated successfully."
       ]
      },
      {
       "output_type": "stream",
       "stream": "stdout",
       "text": [
        "\n",
        "         Current function value: 0.693022\n",
        "         Iterations 3\n",
        "Optimization terminated successfully.\n",
        "         Current function value: 0.693022\n",
        "         Iterations 3\n",
        "Optimization terminated successfully.\n",
        "         Current function value: 0.693029\n",
        "         Iterations 3\n",
        "Optimization terminated successfully.\n",
        "         Current function value: 0.693009\n",
        "         Iterations 3\n",
        "Optimization terminated successfully."
       ]
      },
      {
       "output_type": "stream",
       "stream": "stdout",
       "text": [
        "\n",
        "         Current function value: 0.693017\n",
        "         Iterations 3\n",
        "Optimization terminated successfully.\n",
        "         Current function value: 0.692993\n",
        "         Iterations 3\n",
        "Optimization terminated successfully.\n",
        "         Current function value: 0.693023\n",
        "         Iterations 3\n",
        "Optimization terminated successfully."
       ]
      },
      {
       "output_type": "stream",
       "stream": "stdout",
       "text": [
        "\n",
        "         Current function value: 0.693035\n",
        "         Iterations 3\n",
        "Optimization terminated successfully.\n",
        "         Current function value: 0.693015\n",
        "         Iterations 3\n",
        "Optimization terminated successfully."
       ]
      },
      {
       "output_type": "stream",
       "stream": "stdout",
       "text": [
        "\n",
        "         Current function value: 0.693027\n",
        "         Iterations 3\n",
        "Optimization terminated successfully.\n",
        "         Current function value: 0.692713\n",
        "         Iterations 4\n",
        "Optimization terminated successfully.\n",
        "         Current function value: 0.692650\n",
        "         Iterations 3\n",
        "Optimization terminated successfully."
       ]
      },
      {
       "output_type": "stream",
       "stream": "stdout",
       "text": [
        "\n",
        "         Current function value: 0.693038\n",
        "         Iterations 3\n",
        "Optimization terminated successfully.\n",
        "         Current function value: 0.692868\n",
        "         Iterations 3\n",
        "Optimization terminated successfully.\n",
        "         Current function value: 0.692862\n",
        "         Iterations 3\n",
        "Optimization terminated successfully."
       ]
      },
      {
       "output_type": "stream",
       "stream": "stdout",
       "text": [
        "\n",
        "         Current function value: 0.692957\n",
        "         Iterations 3\n",
        "Optimization terminated successfully.\n",
        "         Current function value: 0.693018\n",
        "         Iterations 3\n",
        "Optimization terminated successfully.\n",
        "         Current function value: 0.692677\n",
        "         Iterations 4\n",
        "Optimization terminated successfully."
       ]
      },
      {
       "output_type": "stream",
       "stream": "stdout",
       "text": [
        "\n",
        "         Current function value: 0.693072\n",
        "         Iterations 3\n",
        "Optimization terminated successfully.\n",
        "         Current function value: 0.692725\n",
        "         Iterations 3\n",
        "Optimization terminated successfully."
       ]
      },
      {
       "output_type": "stream",
       "stream": "stdout",
       "text": [
        "\n",
        "         Current function value: 0.693027\n",
        "         Iterations 3\n",
        "Optimization terminated successfully.\n",
        "         Current function value: 0.693019\n",
        "         Iterations 3\n",
        "Optimization terminated successfully.\n",
        "         Current function value: 0.693029\n",
        "         Iterations 3\n",
        "Optimization terminated successfully."
       ]
      },
      {
       "output_type": "stream",
       "stream": "stdout",
       "text": [
        "\n",
        "         Current function value: 0.692964\n",
        "         Iterations 3\n",
        "Optimization terminated successfully.\n",
        "         Current function value: 0.692961\n",
        "         Iterations 3\n",
        "Optimization terminated successfully.\n",
        "         Current function value: 0.692833\n",
        "         Iterations 3\n",
        "Optimization terminated successfully.\n",
        "         Current function value: 0.692929\n",
        "         Iterations 3\n",
        "Optimization terminated successfully."
       ]
      },
      {
       "output_type": "stream",
       "stream": "stdout",
       "text": [
        "\n",
        "         Current function value: 0.692942\n",
        "         Iterations 3\n",
        "Optimization terminated successfully.\n",
        "         Current function value: 0.692895\n",
        "         Iterations 3\n",
        "Optimization terminated successfully.\n",
        "         Current function value: 0.692910\n",
        "         Iterations 3\n",
        "Optimization terminated successfully.\n",
        "         Current function value: 0.692972\n",
        "         Iterations 3\n",
        "Optimization terminated successfully."
       ]
      },
      {
       "output_type": "stream",
       "stream": "stdout",
       "text": [
        "\n",
        "         Current function value: 0.692963\n",
        "         Iterations 3\n",
        "Optimization terminated successfully.\n",
        "         Current function value: 0.693009\n",
        "         Iterations 3\n",
        "Optimization terminated successfully.\n",
        "         Current function value: 0.693021\n",
        "         Iterations 3\n",
        "Optimization terminated successfully."
       ]
      },
      {
       "output_type": "stream",
       "stream": "stdout",
       "text": [
        "\n",
        "         Current function value: 0.693027\n",
        "         Iterations 3\n",
        "Optimization terminated successfully.\n",
        "         Current function value: 0.693011\n",
        "         Iterations 3\n",
        "Optimization terminated successfully.\n",
        "         Current function value: 0.693021\n",
        "         Iterations 3\n",
        "Optimization terminated successfully.\n",
        "         Current function value: 0.693027\n",
        "         Iterations 3\n",
        "Optimization terminated successfully."
       ]
      },
      {
       "output_type": "stream",
       "stream": "stdout",
       "text": [
        "\n",
        "         Current function value: 0.693026\n",
        "         Iterations 3\n",
        "Optimization terminated successfully.\n",
        "         Current function value: 0.693029\n",
        "         Iterations 3\n",
        "Optimization terminated successfully.\n",
        "         Current function value: 0.693027\n",
        "         Iterations 3\n",
        "Optimization terminated successfully."
       ]
      },
      {
       "output_type": "stream",
       "stream": "stdout",
       "text": [
        "\n",
        "         Current function value: 0.693029\n",
        "         Iterations 3\n",
        "Optimization terminated successfully.\n",
        "         Current function value: 0.693023\n",
        "         Iterations 3\n",
        "Optimization terminated successfully.\n",
        "         Current function value: 0.693022\n",
        "         Iterations 3\n",
        "Optimization terminated successfully."
       ]
      },
      {
       "output_type": "stream",
       "stream": "stdout",
       "text": [
        "\n",
        "         Current function value: 0.693005\n",
        "         Iterations 3\n",
        "Optimization terminated successfully.\n",
        "         Current function value: 0.693024\n",
        "         Iterations 3\n",
        "Optimization terminated successfully.\n",
        "         Current function value: 0.693006\n",
        "         Iterations 3\n",
        "Optimization terminated successfully.\n",
        "         Current function value: 0.693004\n",
        "         Iterations 3\n",
        "Optimization terminated successfully."
       ]
      },
      {
       "output_type": "stream",
       "stream": "stdout",
       "text": [
        "\n",
        "         Current function value: 0.692967\n",
        "         Iterations 3\n",
        "Optimization terminated successfully.\n",
        "         Current function value: 0.692897\n",
        "         Iterations 3\n",
        "Optimization terminated successfully.\n",
        "         Current function value: 0.693025\n",
        "         Iterations 3\n",
        "Optimization terminated successfully.\n",
        "         Current function value: 0.693026\n",
        "         Iterations 3\n",
        "Optimization terminated successfully."
       ]
      },
      {
       "output_type": "stream",
       "stream": "stdout",
       "text": [
        "\n",
        "         Current function value: 0.693017\n",
        "         Iterations 3\n",
        "Optimization terminated successfully.\n",
        "         Current function value: 0.693006\n",
        "         Iterations 3\n",
        "Optimization terminated successfully.\n",
        "         Current function value: 0.693029\n",
        "         Iterations 3\n",
        "Optimization terminated successfully.\n",
        "         Current function value: 0.693016\n",
        "         Iterations 3\n",
        "Optimization terminated successfully."
       ]
      },
      {
       "output_type": "stream",
       "stream": "stdout",
       "text": [
        "\n",
        "         Current function value: 0.693028\n",
        "         Iterations 3\n",
        "Optimization terminated successfully.\n",
        "         Current function value: 0.693029\n",
        "         Iterations 3\n",
        "Optimization terminated successfully.\n",
        "         Current function value: 0.693017\n",
        "         Iterations 3\n",
        "Optimization terminated successfully.\n",
        "         Current function value: 0.693029\n",
        "         Iterations 3\n",
        "Optimization terminated successfully."
       ]
      },
      {
       "output_type": "stream",
       "stream": "stdout",
       "text": [
        "\n",
        "         Current function value: 0.693030\n",
        "         Iterations 3\n",
        "Optimization terminated successfully.\n",
        "         Current function value: 0.692983\n",
        "         Iterations 3\n",
        "Optimization terminated successfully.\n",
        "         Current function value: 0.692967\n",
        "         Iterations 3\n",
        "Optimization terminated successfully."
       ]
      },
      {
       "output_type": "stream",
       "stream": "stdout",
       "text": [
        "\n",
        "         Current function value: 0.693011\n",
        "         Iterations 3\n",
        "Optimization terminated successfully.\n",
        "         Current function value: 0.693027\n",
        "         Iterations 3\n",
        "Optimization terminated successfully.\n",
        "         Current function value: 0.693022\n",
        "         Iterations 3\n",
        "Optimization terminated successfully."
       ]
      },
      {
       "output_type": "stream",
       "stream": "stdout",
       "text": [
        "\n",
        "         Current function value: 0.693006\n",
        "         Iterations 3\n",
        "Optimization terminated successfully.\n",
        "         Current function value: 0.693025\n",
        "         Iterations 3\n",
        "Optimization terminated successfully.\n",
        "         Current function value: 0.693029\n",
        "         Iterations 3\n",
        "Optimization terminated successfully."
       ]
      },
      {
       "output_type": "stream",
       "stream": "stdout",
       "text": [
        "\n",
        "         Current function value: 0.693027\n",
        "         Iterations 3\n",
        "Optimization terminated successfully.\n",
        "         Current function value: 0.693028\n",
        "         Iterations 3\n",
        "Optimization terminated successfully.\n",
        "         Current function value: 0.692981\n",
        "         Iterations 3\n",
        "Optimization terminated successfully.\n",
        "         Current function value: 0.693044\n",
        "         Iterations 3\n",
        "Optimization terminated successfully."
       ]
      },
      {
       "output_type": "stream",
       "stream": "stdout",
       "text": [
        "\n",
        "         Current function value: 0.693045\n",
        "         Iterations 3\n",
        "Optimization terminated successfully.\n",
        "         Current function value: 0.693082\n",
        "         Iterations 3\n",
        "Optimization terminated successfully.\n",
        "         Current function value: 0.693051\n",
        "         Iterations 3\n",
        "Optimization terminated successfully.\n",
        "         Current function value: 0.693003\n",
        "         Iterations 3\n",
        "Optimization terminated successfully."
       ]
      },
      {
       "output_type": "stream",
       "stream": "stdout",
       "text": [
        "\n",
        "         Current function value: 0.693008\n",
        "         Iterations 4\n",
        "Optimization terminated successfully.\n",
        "         Current function value: 0.693006\n",
        "         Iterations 3\n",
        "Optimization terminated successfully.\n",
        "         Current function value: 0.693023\n",
        "         Iterations 3\n",
        "Optimization terminated successfully."
       ]
      },
      {
       "output_type": "stream",
       "stream": "stdout",
       "text": [
        "\n",
        "         Current function value: 0.692867\n",
        "         Iterations 3\n",
        "Optimization terminated successfully."
       ]
      },
      {
       "output_type": "stream",
       "stream": "stdout",
       "text": [
        "\n",
        "         Current function value: 0.693024\n",
        "         Iterations 3\n",
        "Optimization terminated successfully.\n",
        "         Current function value: 0.693025\n",
        "         Iterations 3\n",
        "Optimization terminated successfully."
       ]
      },
      {
       "output_type": "stream",
       "stream": "stdout",
       "text": [
        "\n",
        "         Current function value: 0.692980\n",
        "         Iterations 3\n",
        "Optimization terminated successfully.\n",
        "         Current function value: 0.693023\n",
        "         Iterations 3\n",
        "Optimization terminated successfully."
       ]
      },
      {
       "output_type": "stream",
       "stream": "stdout",
       "text": [
        "\n",
        "         Current function value: 0.693000\n",
        "         Iterations 3\n",
        "Optimization terminated successfully.\n",
        "         Current function value: 0.693029\n",
        "         Iterations 3\n",
        "Optimization terminated successfully."
       ]
      },
      {
       "output_type": "stream",
       "stream": "stdout",
       "text": [
        "\n",
        "         Current function value: 0.693027\n",
        "         Iterations 3\n",
        "Optimization terminated successfully.\n",
        "         Current function value: 0.693019\n",
        "         Iterations 3\n",
        "Optimization terminated successfully."
       ]
      },
      {
       "output_type": "stream",
       "stream": "stdout",
       "text": [
        "\n",
        "         Current function value: 0.693024\n",
        "         Iterations 3\n",
        "Optimization terminated successfully.\n",
        "         Current function value: 0.693018\n",
        "         Iterations 3\n",
        "Optimization terminated successfully."
       ]
      },
      {
       "output_type": "stream",
       "stream": "stdout",
       "text": [
        "\n",
        "         Current function value: 0.693028\n",
        "         Iterations 3\n",
        "Optimization terminated successfully.\n",
        "         Current function value: 0.693022\n",
        "         Iterations 3\n",
        "Optimization terminated successfully."
       ]
      },
      {
       "output_type": "stream",
       "stream": "stdout",
       "text": [
        "\n",
        "         Current function value: 0.693026\n",
        "         Iterations 3\n",
        "Optimization terminated successfully.\n",
        "         Current function value: 0.692997\n",
        "         Iterations 3\n",
        "Optimization terminated successfully."
       ]
      },
      {
       "output_type": "stream",
       "stream": "stdout",
       "text": [
        "\n",
        "         Current function value: 0.693009\n",
        "         Iterations 3\n",
        "Optimization terminated successfully.\n",
        "         Current function value: 0.693005\n",
        "         Iterations 3\n",
        "Optimization terminated successfully."
       ]
      },
      {
       "output_type": "stream",
       "stream": "stdout",
       "text": [
        "\n",
        "         Current function value: 0.692988\n",
        "         Iterations 3\n",
        "Optimization terminated successfully.\n",
        "         Current function value: 0.693025\n",
        "         Iterations 3\n",
        "Optimization terminated successfully."
       ]
      },
      {
       "output_type": "stream",
       "stream": "stdout",
       "text": [
        "\n",
        "         Current function value: 0.693023\n",
        "         Iterations 3\n",
        "Optimization terminated successfully.\n",
        "         Current function value: 0.693011\n",
        "         Iterations 3\n",
        "Optimization terminated successfully."
       ]
      },
      {
       "output_type": "stream",
       "stream": "stdout",
       "text": [
        "\n",
        "         Current function value: 0.692998\n",
        "         Iterations 3\n",
        "Optimization terminated successfully.\n",
        "         Current function value: 0.693024\n",
        "         Iterations 3\n",
        "Optimization terminated successfully."
       ]
      },
      {
       "output_type": "stream",
       "stream": "stdout",
       "text": [
        "\n",
        "         Current function value: 0.692992\n",
        "         Iterations 3\n",
        "Optimization terminated successfully.\n",
        "         Current function value: 0.693027\n",
        "         Iterations 3\n",
        "Optimization terminated successfully."
       ]
      },
      {
       "output_type": "stream",
       "stream": "stdout",
       "text": [
        "\n",
        "         Current function value: 0.692995\n",
        "         Iterations 3\n",
        "Optimization terminated successfully.\n",
        "         Current function value: 0.693009\n",
        "         Iterations 3\n",
        "Optimization terminated successfully."
       ]
      },
      {
       "output_type": "stream",
       "stream": "stdout",
       "text": [
        "\n",
        "         Current function value: 0.692956\n",
        "         Iterations 3\n",
        "Optimization terminated successfully.\n",
        "         Current function value: 0.693005\n",
        "         Iterations 3\n",
        "Optimization terminated successfully."
       ]
      },
      {
       "output_type": "stream",
       "stream": "stdout",
       "text": [
        "\n",
        "         Current function value: 0.692779\n",
        "         Iterations 4\n",
        "Optimization terminated successfully.\n",
        "         Current function value: 0.692991\n",
        "         Iterations 3\n",
        "Optimization terminated successfully."
       ]
      },
      {
       "output_type": "stream",
       "stream": "stdout",
       "text": [
        "\n",
        "         Current function value: 0.692644\n",
        "         Iterations 4\n",
        "Optimization terminated successfully.\n",
        "         Current function value: 0.693020\n",
        "         Iterations 3\n",
        "Optimization terminated successfully."
       ]
      },
      {
       "output_type": "stream",
       "stream": "stdout",
       "text": [
        "\n",
        "         Current function value: 0.692625\n",
        "         Iterations 4\n",
        "Optimization terminated successfully.\n",
        "         Current function value: 0.693024\n",
        "         Iterations 3\n",
        "Optimization terminated successfully."
       ]
      },
      {
       "output_type": "stream",
       "stream": "stdout",
       "text": [
        "\n",
        "         Current function value: 0.692858\n",
        "         Iterations 3\n",
        "Optimization terminated successfully.\n",
        "         Current function value: 0.693025\n",
        "         Iterations 3\n",
        "Optimization terminated successfully."
       ]
      },
      {
       "output_type": "stream",
       "stream": "stdout",
       "text": [
        "\n",
        "         Current function value: 0.692820\n",
        "         Iterations 3\n",
        "Optimization terminated successfully.\n",
        "         Current function value: 0.693021\n",
        "         Iterations 3\n",
        "Optimization terminated successfully."
       ]
      },
      {
       "output_type": "stream",
       "stream": "stdout",
       "text": [
        "\n",
        "         Current function value: 0.692864\n",
        "         Iterations 3\n",
        "Optimization terminated successfully.\n",
        "         Current function value: 0.693010\n",
        "         Iterations 3\n",
        "Optimization terminated successfully."
       ]
      },
      {
       "output_type": "stream",
       "stream": "stdout",
       "text": [
        "\n",
        "         Current function value: 0.692903\n",
        "         Iterations 3\n",
        "Optimization terminated successfully.\n",
        "         Current function value: 0.693014\n",
        "         Iterations 3\n",
        "Optimization terminated successfully."
       ]
      },
      {
       "output_type": "stream",
       "stream": "stdout",
       "text": [
        "\n",
        "         Current function value: 0.692912\n",
        "         Iterations 3\n",
        "Optimization terminated successfully.\n",
        "         Current function value: 0.693022\n",
        "         Iterations 3\n",
        "Optimization terminated successfully."
       ]
      },
      {
       "output_type": "stream",
       "stream": "stdout",
       "text": [
        "\n",
        "         Current function value: 0.692889\n",
        "         Iterations 3\n",
        "Optimization terminated successfully.\n",
        "         Current function value: 0.693010\n",
        "         Iterations 3\n",
        "Optimization terminated successfully."
       ]
      },
      {
       "output_type": "stream",
       "stream": "stdout",
       "text": [
        "\n",
        "         Current function value: 0.692978\n",
        "         Iterations 3\n",
        "Optimization terminated successfully.\n",
        "         Current function value: 0.692986\n",
        "         Iterations 3\n",
        "Optimization terminated successfully."
       ]
      },
      {
       "output_type": "stream",
       "stream": "stdout",
       "text": [
        "\n",
        "         Current function value: 0.692828\n",
        "         Iterations 3\n",
        "Optimization terminated successfully.\n",
        "         Current function value: 0.692990\n",
        "         Iterations 3\n",
        "Optimization terminated successfully."
       ]
      },
      {
       "output_type": "stream",
       "stream": "stdout",
       "text": [
        "\n",
        "         Current function value: 0.692838\n",
        "         Iterations 3\n",
        "Optimization terminated successfully.\n",
        "         Current function value: 0.692986\n",
        "         Iterations 3\n",
        "Optimization terminated successfully."
       ]
      },
      {
       "output_type": "stream",
       "stream": "stdout",
       "text": [
        "\n",
        "         Current function value: 0.692987\n",
        "         Iterations 3\n",
        "Optimization terminated successfully.\n",
        "         Current function value: 0.693003\n",
        "         Iterations 3\n",
        "Optimization terminated successfully."
       ]
      },
      {
       "output_type": "stream",
       "stream": "stdout",
       "text": [
        "\n",
        "         Current function value: 0.692940\n",
        "         Iterations 3\n",
        "Optimization terminated successfully.\n",
        "         Current function value: 0.692985\n",
        "         Iterations 3\n",
        "Optimization terminated successfully."
       ]
      },
      {
       "output_type": "stream",
       "stream": "stdout",
       "text": [
        "\n",
        "         Current function value: 0.692955\n",
        "         Iterations 3\n",
        "Optimization terminated successfully.\n",
        "         Current function value: 0.693019\n",
        "         Iterations 3\n",
        "Optimization terminated successfully."
       ]
      },
      {
       "output_type": "stream",
       "stream": "stdout",
       "text": [
        "\n",
        "         Current function value: 0.692862\n",
        "         Iterations 3\n",
        "Optimization terminated successfully.\n",
        "         Current function value: 0.693021\n",
        "         Iterations 3\n",
        "Optimization terminated successfully."
       ]
      },
      {
       "output_type": "stream",
       "stream": "stdout",
       "text": [
        "\n",
        "         Current function value: 0.692913\n",
        "         Iterations 3\n",
        "Optimization terminated successfully.\n",
        "         Current function value: 0.693017\n",
        "         Iterations 3\n",
        "Optimization terminated successfully."
       ]
      },
      {
       "output_type": "stream",
       "stream": "stdout",
       "text": [
        "\n",
        "         Current function value: 0.692825\n",
        "         Iterations 3\n",
        "Optimization terminated successfully.\n",
        "         Current function value: 0.693001\n",
        "         Iterations 3\n",
        "Optimization terminated successfully."
       ]
      },
      {
       "output_type": "stream",
       "stream": "stdout",
       "text": [
        "\n",
        "         Current function value: 0.692742\n",
        "         Iterations 4\n",
        "Optimization terminated successfully.\n",
        "         Current function value: 0.692993\n",
        "         Iterations 3\n",
        "Optimization terminated successfully."
       ]
      },
      {
       "output_type": "stream",
       "stream": "stdout",
       "text": [
        "\n",
        "         Current function value: 0.692570\n",
        "         Iterations 4\n",
        "Optimization terminated successfully.\n",
        "         Current function value: 0.692999\n",
        "         Iterations 3\n",
        "Optimization terminated successfully."
       ]
      },
      {
       "output_type": "stream",
       "stream": "stdout",
       "text": [
        "\n",
        "         Current function value: 0.692668\n",
        "         Iterations 4\n",
        "Optimization terminated successfully.\n",
        "         Current function value: 0.693004\n",
        "         Iterations 3\n",
        "Optimization terminated successfully."
       ]
      },
      {
       "output_type": "stream",
       "stream": "stdout",
       "text": [
        "\n",
        "         Current function value: 0.692766\n",
        "         Iterations 4\n",
        "Optimization terminated successfully.\n",
        "         Current function value: 0.693029\n",
        "         Iterations 3\n",
        "Optimization terminated successfully."
       ]
      },
      {
       "output_type": "stream",
       "stream": "stdout",
       "text": [
        "\n",
        "         Current function value: 0.692791\n",
        "         Iterations 4\n",
        "Optimization terminated successfully.\n",
        "         Current function value: 0.693033\n",
        "         Iterations 3\n",
        "Optimization terminated successfully."
       ]
      },
      {
       "output_type": "stream",
       "stream": "stdout",
       "text": [
        "\n",
        "         Current function value: 0.692730\n",
        "         Iterations 4\n",
        "Optimization terminated successfully.\n",
        "         Current function value: 0.693033\n",
        "         Iterations 3\n",
        "Optimization terminated successfully."
       ]
      },
      {
       "output_type": "stream",
       "stream": "stdout",
       "text": [
        "\n",
        "         Current function value: 0.692658\n",
        "         Iterations 4\n",
        "Optimization terminated successfully.\n",
        "         Current function value: 0.692996\n",
        "         Iterations 3\n",
        "Optimization terminated successfully."
       ]
      },
      {
       "output_type": "stream",
       "stream": "stdout",
       "text": [
        "\n",
        "         Current function value: 0.692704\n",
        "         Iterations 4\n",
        "Optimization terminated successfully.\n",
        "         Current function value: 0.693046\n",
        "         Iterations 3\n",
        "Optimization terminated successfully."
       ]
      },
      {
       "output_type": "stream",
       "stream": "stdout",
       "text": [
        "\n",
        "         Current function value: 0.692603\n",
        "         Iterations 4\n",
        "Optimization terminated successfully.\n",
        "         Current function value: 0.693058\n",
        "         Iterations 3\n",
        "Optimization terminated successfully."
       ]
      },
      {
       "output_type": "stream",
       "stream": "stdout",
       "text": [
        "\n",
        "         Current function value: 0.692822\n",
        "         Iterations 4\n",
        "Optimization terminated successfully.\n",
        "         Current function value: 0.693085\n",
        "         Iterations 3\n",
        "Optimization terminated successfully."
       ]
      },
      {
       "output_type": "stream",
       "stream": "stdout",
       "text": [
        "\n",
        "         Current function value: 0.692743\n",
        "         Iterations 4\n",
        "Optimization terminated successfully.\n",
        "         Current function value: 0.693078\n",
        "         Iterations 3\n",
        "Optimization terminated successfully."
       ]
      },
      {
       "output_type": "stream",
       "stream": "stdout",
       "text": [
        "\n",
        "         Current function value: 0.693027\n",
        "         Iterations 3\n",
        "Optimization terminated successfully.\n",
        "         Current function value: 0.693014\n",
        "         Iterations 3\n",
        "Optimization terminated successfully."
       ]
      },
      {
       "output_type": "stream",
       "stream": "stdout",
       "text": [
        "\n",
        "         Current function value: 0.692815\n",
        "         Iterations 4\n",
        "Optimization terminated successfully."
       ]
      },
      {
       "output_type": "stream",
       "stream": "stdout",
       "text": [
        "\n",
        "         Current function value: 0.693011\n",
        "         Iterations 3\n",
        "Optimization terminated successfully.\n",
        "         Current function value: 0.693025\n",
        "         Iterations 3\n",
        "Optimization terminated successfully."
       ]
      },
      {
       "output_type": "stream",
       "stream": "stdout",
       "text": [
        "\n",
        "         Current function value: 0.692964\n",
        "         Iterations 3\n",
        "Optimization terminated successfully.\n",
        "         Current function value: 0.692889\n",
        "         Iterations 3\n",
        "Optimization terminated successfully.\n",
        "         Current function value: 0.692805\n",
        "         Iterations 3\n",
        "Optimization terminated successfully."
       ]
      },
      {
       "output_type": "stream",
       "stream": "stdout",
       "text": [
        "\n",
        "         Current function value: 0.693029\n",
        "         Iterations 3\n",
        "Optimization terminated successfully.\n",
        "         Current function value: 0.693075\n",
        "         Iterations 3\n",
        "Optimization terminated successfully.\n",
        "         Current function value: 0.692964\n",
        "         Iterations 3\n",
        "Optimization terminated successfully.\n",
        "         Current function value: 0.692980\n",
        "         Iterations 3\n",
        "Optimization terminated successfully."
       ]
      },
      {
       "output_type": "stream",
       "stream": "stdout",
       "text": [
        "\n",
        "         Current function value: 0.693018\n",
        "         Iterations 3\n",
        "Optimization terminated successfully.\n",
        "         Current function value: 0.692984\n",
        "         Iterations 3\n",
        "Optimization terminated successfully.\n",
        "         Current function value: 0.693021\n",
        "         Iterations 3\n",
        "Optimization terminated successfully."
       ]
      },
      {
       "output_type": "stream",
       "stream": "stdout",
       "text": [
        "\n",
        "         Current function value: 0.692994\n",
        "         Iterations 3\n",
        "Optimization terminated successfully.\n",
        "         Current function value: 0.692952\n",
        "         Iterations 3\n",
        "Optimization terminated successfully.\n",
        "         Current function value: 0.692689\n",
        "         Iterations 4\n",
        "Optimization terminated successfully."
       ]
      },
      {
       "output_type": "stream",
       "stream": "stdout",
       "text": [
        "\n",
        "         Current function value: 0.692830\n",
        "         Iterations 3\n",
        "Optimization terminated successfully.\n",
        "         Current function value: 0.692937\n",
        "         Iterations 3\n",
        "Optimization terminated successfully.\n",
        "         Current function value: 0.692766\n",
        "         Iterations 3\n",
        "Optimization terminated successfully."
       ]
      },
      {
       "output_type": "stream",
       "stream": "stdout",
       "text": [
        "\n",
        "         Current function value: 0.692742\n",
        "         Iterations 3\n",
        "Optimization terminated successfully."
       ]
      },
      {
       "output_type": "stream",
       "stream": "stdout",
       "text": [
        "\n",
        "         Current function value: 0.692705\n",
        "         Iterations 3\n",
        "Optimization terminated successfully.\n",
        "         Current function value: 0.692849\n",
        "         Iterations 3\n",
        "Optimization terminated successfully."
       ]
      },
      {
       "output_type": "stream",
       "stream": "stdout",
       "text": [
        "\n",
        "         Current function value: 0.692937\n",
        "         Iterations 3\n",
        "Optimization terminated successfully.\n",
        "         Current function value: 0.692906\n",
        "         Iterations 3\n",
        "Optimization terminated successfully."
       ]
      },
      {
       "output_type": "stream",
       "stream": "stdout",
       "text": [
        "\n",
        "         Current function value: 0.692849\n",
        "         Iterations 3\n",
        "Optimization terminated successfully."
       ]
      },
      {
       "output_type": "stream",
       "stream": "stdout",
       "text": [
        "\n",
        "         Current function value: 0.693027\n",
        "         Iterations 3\n",
        "Optimization terminated successfully.\n",
        "         Current function value: 0.692699\n",
        "         Iterations 4\n",
        "Optimization terminated successfully."
       ]
      },
      {
       "output_type": "stream",
       "stream": "stdout",
       "text": [
        "\n",
        "         Current function value: 0.692958\n",
        "         Iterations 3\n",
        "Optimization terminated successfully.\n",
        "         Current function value: 0.692901\n",
        "         Iterations 3\n",
        "Optimization terminated successfully."
       ]
      },
      {
       "output_type": "stream",
       "stream": "stdout",
       "text": [
        "\n",
        "         Current function value: 0.693023\n",
        "         Iterations 3\n",
        "Optimization terminated successfully.\n",
        "         Current function value: 0.693015\n",
        "         Iterations 3\n",
        "Optimization terminated successfully.\n",
        "         Current function value: 0.693018\n",
        "         Iterations 3\n",
        "Optimization terminated successfully."
       ]
      },
      {
       "output_type": "stream",
       "stream": "stdout",
       "text": [
        "\n",
        "         Current function value: 0.693030\n",
        "         Iterations 3\n",
        "Optimization terminated successfully.\n",
        "         Current function value: 0.693014\n",
        "         Iterations 3\n",
        "Optimization terminated successfully.\n",
        "         Current function value: 0.693002\n",
        "         Iterations 3\n",
        "Optimization terminated successfully."
       ]
      },
      {
       "output_type": "stream",
       "stream": "stdout",
       "text": [
        "\n",
        "         Current function value: 0.692994\n",
        "         Iterations 3\n",
        "Optimization terminated successfully.\n",
        "         Current function value: 0.693021\n",
        "         Iterations 3\n",
        "Optimization terminated successfully.\n",
        "         Current function value: 0.693027\n",
        "         Iterations 3\n",
        "Optimization terminated successfully.\n",
        "         Current function value: 0.693011\n",
        "         Iterations 3\n",
        "Optimization terminated successfully."
       ]
      },
      {
       "output_type": "stream",
       "stream": "stdout",
       "text": [
        "\n",
        "         Current function value: 0.693006\n",
        "         Iterations 3\n",
        "Optimization terminated successfully.\n",
        "         Current function value: 0.692975\n",
        "         Iterations 3\n",
        "Optimization terminated successfully.\n",
        "         Current function value: 0.693019\n",
        "         Iterations 3\n",
        "Optimization terminated successfully."
       ]
      },
      {
       "output_type": "stream",
       "stream": "stdout",
       "text": [
        "\n",
        "         Current function value: 0.692952\n",
        "         Iterations 3\n",
        "Optimization terminated successfully.\n",
        "         Current function value: 0.692885\n",
        "         Iterations 3\n",
        "Optimization terminated successfully.\n",
        "         Current function value: 0.692974\n",
        "         Iterations 4\n",
        "Optimization terminated successfully."
       ]
      },
      {
       "output_type": "stream",
       "stream": "stdout",
       "text": [
        "\n",
        "         Current function value: 0.692828\n",
        "         Iterations 3\n",
        "Optimization terminated successfully.\n",
        "         Current function value: 0.692609\n",
        "         Iterations 3\n",
        "Optimization terminated successfully.\n",
        "         Current function value: 0.693014\n",
        "         Iterations 3\n",
        "Optimization terminated successfully."
       ]
      },
      {
       "output_type": "stream",
       "stream": "stdout",
       "text": [
        "\n",
        "         Current function value: 0.692905\n",
        "         Iterations 4\n",
        "Optimization terminated successfully.\n",
        "         Current function value: 0.693029\n",
        "         Iterations 3\n",
        "Optimization terminated successfully.\n",
        "         Current function value: 0.693070\n",
        "         Iterations 3\n",
        "Optimization terminated successfully."
       ]
      },
      {
       "output_type": "stream",
       "stream": "stdout",
       "text": [
        "\n",
        "         Current function value: 0.692937\n",
        "         Iterations 3\n",
        "Optimization terminated successfully.\n",
        "         Current function value: 0.692866\n",
        "         Iterations 3\n",
        "Optimization terminated successfully.\n",
        "         Current function value: 0.693029\n",
        "         Iterations 3\n",
        "Optimization terminated successfully.\n",
        "         Current function value: 0.693020\n",
        "         Iterations 3\n",
        "Optimization terminated successfully."
       ]
      },
      {
       "output_type": "stream",
       "stream": "stdout",
       "text": [
        "\n",
        "         Current function value: 0.693024\n",
        "         Iterations 3\n",
        "Optimization terminated successfully.\n",
        "         Current function value: 0.693024\n",
        "         Iterations 3\n",
        "Optimization terminated successfully.\n",
        "         Current function value: 0.692937\n",
        "         Iterations 3\n",
        "Optimization terminated successfully.\n",
        "         Current function value: 0.693027\n",
        "         Iterations 3\n",
        "Optimization terminated successfully."
       ]
      },
      {
       "output_type": "stream",
       "stream": "stdout",
       "text": [
        "\n",
        "         Current function value: 0.692986\n",
        "         Iterations 3\n",
        "Optimization terminated successfully.\n",
        "         Current function value: 0.692976\n",
        "         Iterations 3\n",
        "Optimization terminated successfully.\n",
        "         Current function value: 0.693028\n",
        "         Iterations 3\n",
        "Optimization terminated successfully."
       ]
      },
      {
       "output_type": "stream",
       "stream": "stdout",
       "text": [
        "\n",
        "         Current function value: 0.693030\n",
        "         Iterations 3\n",
        "Optimization terminated successfully.\n",
        "         Current function value: 0.693002\n",
        "         Iterations 3\n",
        "Optimization terminated successfully.\n",
        "         Current function value: 0.693025\n",
        "         Iterations 3\n",
        "Optimization terminated successfully."
       ]
      },
      {
       "output_type": "stream",
       "stream": "stdout",
       "text": [
        "\n",
        "         Current function value: 0.693028\n",
        "         Iterations 3\n",
        "Optimization terminated successfully.\n",
        "         Current function value: 0.692603\n",
        "         Iterations 4\n",
        "Optimization terminated successfully.\n",
        "         Current function value: 0.692978\n",
        "         Iterations 3\n",
        "Optimization terminated successfully."
       ]
      },
      {
       "output_type": "stream",
       "stream": "stdout",
       "text": [
        "\n",
        "         Current function value: 0.692847\n",
        "         Iterations 4\n",
        "Optimization terminated successfully.\n",
        "         Current function value: 0.693003\n",
        "         Iterations 4\n",
        "Optimization terminated successfully.\n",
        "         Current function value: 0.693115\n",
        "         Iterations 3\n",
        "Optimization terminated successfully.\n",
        "         Current function value: 0.693046\n",
        "         Iterations 3\n",
        "Optimization terminated successfully."
       ]
      },
      {
       "output_type": "stream",
       "stream": "stdout",
       "text": [
        "\n",
        "         Current function value: 0.692929\n",
        "         Iterations 3\n",
        "Optimization terminated successfully.\n",
        "         Current function value: 0.693030\n",
        "         Iterations 3\n",
        "Optimization terminated successfully.\n",
        "         Current function value: 0.693006\n",
        "         Iterations 3\n",
        "Optimization terminated successfully."
       ]
      },
      {
       "output_type": "stream",
       "stream": "stdout",
       "text": [
        "\n",
        "         Current function value: 0.693023\n",
        "         Iterations 3\n",
        "Optimization terminated successfully.\n",
        "         Current function value: 0.692872\n",
        "         Iterations 3\n",
        "Optimization terminated successfully.\n",
        "         Current function value: 0.692887\n",
        "         Iterations 3\n",
        "Optimization terminated successfully."
       ]
      },
      {
       "output_type": "stream",
       "stream": "stdout",
       "text": [
        "\n",
        "         Current function value: 0.692849\n",
        "         Iterations 4\n",
        "Optimization terminated successfully.\n",
        "         Current function value: 0.693017\n",
        "         Iterations 3\n",
        "Optimization terminated successfully.\n",
        "         Current function value: 0.693001\n",
        "         Iterations 3\n",
        "Optimization terminated successfully.\n",
        "         Current function value: 0.693014\n",
        "         Iterations 3\n",
        "Optimization terminated successfully."
       ]
      },
      {
       "output_type": "stream",
       "stream": "stdout",
       "text": [
        "\n",
        "         Current function value: 0.693019\n",
        "         Iterations 3\n",
        "Optimization terminated successfully.\n",
        "         Current function value: 0.692944\n",
        "         Iterations 3\n",
        "Optimization terminated successfully.\n",
        "         Current function value: 0.692965\n",
        "         Iterations 3\n",
        "Optimization terminated successfully."
       ]
      },
      {
       "output_type": "stream",
       "stream": "stdout",
       "text": [
        "\n",
        "         Current function value: 0.692991\n",
        "         Iterations 3\n",
        "Optimization terminated successfully.\n",
        "         Current function value: 0.693030\n",
        "         Iterations 3\n",
        "Optimization terminated successfully.\n",
        "         Current function value: 0.693029\n",
        "         Iterations 3\n",
        "Optimization terminated successfully.\n",
        "         Current function value: 0.693026\n",
        "         Iterations 3\n",
        "Optimization terminated successfully."
       ]
      },
      {
       "output_type": "stream",
       "stream": "stdout",
       "text": [
        "\n",
        "         Current function value: 0.693004\n",
        "         Iterations 3\n",
        "Optimization terminated successfully.\n",
        "         Current function value: 0.692938\n",
        "         Iterations 3\n",
        "Optimization terminated successfully.\n",
        "         Current function value: 0.693030\n",
        "         Iterations 3\n",
        "Optimization terminated successfully.\n",
        "         Current function value: 0.692946\n",
        "         Iterations 3\n",
        "Optimization terminated successfully."
       ]
      },
      {
       "output_type": "stream",
       "stream": "stdout",
       "text": [
        "\n",
        "         Current function value: 0.693012\n",
        "         Iterations 3\n",
        "Optimization terminated successfully.\n",
        "         Current function value: 0.692990\n",
        "         Iterations 3\n",
        "Optimization terminated successfully.\n",
        "         Current function value: 0.692966\n",
        "         Iterations 3\n",
        "Optimization terminated successfully.\n",
        "         Current function value: 0.692924\n",
        "         Iterations 3\n",
        "Optimization terminated successfully."
       ]
      },
      {
       "output_type": "stream",
       "stream": "stdout",
       "text": [
        "\n",
        "         Current function value: 0.693002\n",
        "         Iterations 3\n",
        "Optimization terminated successfully.\n",
        "         Current function value: 0.693026\n",
        "         Iterations 3\n",
        "Optimization terminated successfully.\n",
        "         Current function value: 0.693020\n",
        "         Iterations 3\n",
        "Optimization terminated successfully."
       ]
      },
      {
       "output_type": "stream",
       "stream": "stdout",
       "text": [
        "\n",
        "         Current function value: 0.693000\n",
        "         Iterations 3\n",
        "Optimization terminated successfully.\n",
        "         Current function value: 0.693011\n",
        "         Iterations 3\n",
        "Optimization terminated successfully.\n",
        "         Current function value: 0.693030\n",
        "         Iterations 3\n",
        "Optimization terminated successfully.\n",
        "         Current function value: 0.693009\n",
        "         Iterations 3\n",
        "Optimization terminated successfully."
       ]
      },
      {
       "output_type": "stream",
       "stream": "stdout",
       "text": [
        "\n",
        "         Current function value: 0.693013\n",
        "         Iterations 3\n",
        "Optimization terminated successfully.\n",
        "         Current function value: 0.692870\n",
        "         Iterations 3\n",
        "Optimization terminated successfully.\n",
        "         Current function value: 0.692833\n",
        "         Iterations 3\n",
        "Optimization terminated successfully.\n",
        "         Current function value: 0.693011\n",
        "         Iterations 3\n",
        "Optimization terminated successfully."
       ]
      },
      {
       "output_type": "stream",
       "stream": "stdout",
       "text": [
        "\n",
        "         Current function value: 0.692995\n",
        "         Iterations 3\n",
        "Optimization terminated successfully.\n",
        "         Current function value: 0.692998\n",
        "         Iterations 3\n",
        "Optimization terminated successfully.\n",
        "         Current function value: 0.693020\n",
        "         Iterations 3\n",
        "Optimization terminated successfully."
       ]
      },
      {
       "output_type": "stream",
       "stream": "stdout",
       "text": [
        "\n",
        "         Current function value: 0.693030\n",
        "         Iterations 3\n",
        "Optimization terminated successfully.\n",
        "         Current function value: 0.693030\n",
        "         Iterations 3\n",
        "Optimization terminated successfully.\n",
        "         Current function value: 0.693016\n",
        "         Iterations 3\n",
        "Optimization terminated successfully."
       ]
      },
      {
       "output_type": "stream",
       "stream": "stdout",
       "text": [
        "\n",
        "         Current function value: 0.693030\n",
        "         Iterations 3\n",
        "Optimization terminated successfully.\n",
        "         Current function value: 0.693030\n",
        "         Iterations 3\n",
        "Optimization terminated successfully.\n",
        "         Current function value: 0.692633\n",
        "         Iterations 4\n",
        "Optimization terminated successfully."
       ]
      },
      {
       "output_type": "stream",
       "stream": "stdout",
       "text": [
        "\n",
        "         Current function value: 0.692970\n",
        "         Iterations 3\n",
        "Optimization terminated successfully.\n",
        "         Current function value: 0.693013\n",
        "         Iterations 4\n",
        "Optimization terminated successfully.\n",
        "         Current function value: 0.693030\n",
        "         Iterations 3\n",
        "Optimization terminated successfully."
       ]
      },
      {
       "output_type": "stream",
       "stream": "stdout",
       "text": [
        "\n",
        "         Current function value: 0.692830\n",
        "         Iterations 5\n",
        "Optimization terminated successfully.\n",
        "         Current function value: 0.692771\n",
        "         Iterations 4\n",
        "Optimization terminated successfully.\n",
        "         Current function value: 0.692982\n",
        "         Iterations 4\n",
        "Optimization terminated successfully."
       ]
      },
      {
       "output_type": "stream",
       "stream": "stdout",
       "text": [
        "\n",
        "         Current function value: 0.693017\n",
        "         Iterations 3\n",
        "Optimization terminated successfully.\n",
        "         Current function value: 0.692890\n",
        "         Iterations 3\n",
        "Optimization terminated successfully.\n",
        "         Current function value: 0.692899\n",
        "         Iterations 3\n",
        "Optimization terminated successfully."
       ]
      },
      {
       "output_type": "stream",
       "stream": "stdout",
       "text": [
        "\n",
        "         Current function value: 0.692759\n",
        "         Iterations 4\n",
        "Optimization terminated successfully.\n",
        "         Current function value: 0.693015\n",
        "         Iterations 3\n",
        "Optimization terminated successfully.\n",
        "         Current function value: 0.693024\n",
        "         Iterations 3\n",
        "Optimization terminated successfully."
       ]
      },
      {
       "output_type": "stream",
       "stream": "stdout",
       "text": [
        "\n",
        "         Current function value: 0.693018\n",
        "         Iterations 3\n",
        "Optimization terminated successfully.\n",
        "         Current function value: 0.692681\n",
        "         Iterations 3\n",
        "Optimization terminated successfully.\n",
        "         Current function value: 0.692936\n",
        "         Iterations 3\n",
        "Optimization terminated successfully.\n",
        "         Current function value: 0.692599\n",
        "         Iterations 3\n",
        "Optimization terminated successfully."
       ]
      },
      {
       "output_type": "stream",
       "stream": "stdout",
       "text": [
        "\n",
        "         Current function value: 0.692779\n",
        "         Iterations 3\n",
        "Optimization terminated successfully."
       ]
      },
      {
       "output_type": "stream",
       "stream": "stdout",
       "text": [
        "\n",
        "         Current function value: 0.692852\n",
        "         Iterations 3\n",
        "Optimization terminated successfully.\n",
        "         Current function value: 0.692753\n",
        "         Iterations 3\n",
        "Optimization terminated successfully.\n",
        "         Current function value: 0.692701\n",
        "         Iterations 3\n",
        "Optimization terminated successfully."
       ]
      },
      {
       "output_type": "stream",
       "stream": "stdout",
       "text": [
        "\n",
        "         Current function value: 0.693011\n",
        "         Iterations 3\n",
        "Optimization terminated successfully.\n",
        "         Current function value: 0.692968\n",
        "         Iterations 3\n",
        "Optimization terminated successfully.\n",
        "         Current function value: 0.692871\n",
        "         Iterations 3\n",
        "Optimization terminated successfully."
       ]
      },
      {
       "output_type": "stream",
       "stream": "stdout",
       "text": [
        "\n",
        "         Current function value: 0.692836\n",
        "         Iterations 3\n",
        "Optimization terminated successfully.\n",
        "         Current function value: 0.692834\n",
        "         Iterations 3\n",
        "Optimization terminated successfully.\n",
        "         Current function value: 0.692727\n",
        "         Iterations 3\n",
        "Optimization terminated successfully."
       ]
      },
      {
       "output_type": "stream",
       "stream": "stdout",
       "text": [
        "\n",
        "         Current function value: 0.693001\n",
        "         Iterations 3\n",
        "Optimization terminated successfully.\n",
        "         Current function value: 0.692996\n",
        "         Iterations 3\n",
        "Optimization terminated successfully.\n",
        "         Current function value: 0.692884\n",
        "         Iterations 3\n",
        "Optimization terminated successfully."
       ]
      },
      {
       "output_type": "stream",
       "stream": "stdout",
       "text": [
        "\n",
        "         Current function value: 0.693011\n",
        "         Iterations 3\n",
        "Optimization terminated successfully.\n",
        "         Current function value: 0.692847\n",
        "         Iterations 3\n",
        "Optimization terminated successfully.\n",
        "         Current function value: 0.692483\n",
        "         Iterations 3\n",
        "Optimization terminated successfully."
       ]
      },
      {
       "output_type": "stream",
       "stream": "stdout",
       "text": [
        "\n",
        "         Current function value: 0.693020\n",
        "         Iterations 3\n",
        "Optimization terminated successfully.\n",
        "         Current function value: 0.692861\n",
        "         Iterations 3\n",
        "Optimization terminated successfully.\n",
        "         Current function value: 0.692538\n",
        "         Iterations 3\n",
        "Optimization terminated successfully."
       ]
      },
      {
       "output_type": "stream",
       "stream": "stdout",
       "text": [
        "\n",
        "         Current function value: 0.693023\n",
        "         Iterations 3\n",
        "Optimization terminated successfully.\n",
        "         Current function value: 0.692911\n",
        "         Iterations 3\n",
        "Optimization terminated successfully.\n",
        "         Current function value: 0.692673\n",
        "         Iterations 3\n",
        "Optimization terminated successfully."
       ]
      },
      {
       "output_type": "stream",
       "stream": "stdout",
       "text": [
        "\n",
        "         Current function value: 0.692829\n",
        "         Iterations 3\n",
        "Optimization terminated successfully.\n",
        "         Current function value: 0.692929\n",
        "         Iterations 3\n",
        "Optimization terminated successfully.\n",
        "         Current function value: 0.692757\n",
        "         Iterations 3\n",
        "Optimization terminated successfully.\n",
        "         Current function value: 0.692921\n",
        "         Iterations 3\n",
        "Optimization terminated successfully."
       ]
      },
      {
       "output_type": "stream",
       "stream": "stdout",
       "text": [
        "\n",
        "         Current function value: 0.692908\n",
        "         Iterations 3\n",
        "Optimization terminated successfully.\n",
        "         Current function value: 0.692956\n",
        "         Iterations 4\n",
        "Optimization terminated successfully.\n",
        "         Current function value: 0.692956\n",
        "         Iterations 4\n",
        "Optimization terminated successfully."
       ]
      },
      {
       "output_type": "stream",
       "stream": "stdout",
       "text": [
        "\n",
        "         Current function value: 0.692956\n",
        "         Iterations 4\n",
        "Optimization terminated successfully.\n",
        "         Current function value: 0.692956\n",
        "         Iterations 4\n",
        "Optimization terminated successfully.\n",
        "         Current function value: 0.692956\n",
        "         Iterations 4\n",
        "Warning: Maximum number of iterations has been exceeded."
       ]
      },
      {
       "output_type": "stream",
       "stream": "stdout",
       "text": [
        "\n",
        "         Current function value: 0.692957\n",
        "         Iterations: 35\n",
        "Optimization terminated successfully.\n",
        "         Current function value: 0.693024\n",
        "         Iterations 4\n",
        "Optimization terminated successfully.\n",
        "         Current function value: 0.693021\n",
        "         Iterations 4\n",
        "Optimization terminated successfully."
       ]
      },
      {
       "output_type": "stream",
       "stream": "stdout",
       "text": [
        "\n",
        "         Current function value: 0.692975\n",
        "         Iterations 4\n",
        "Optimization terminated successfully.\n",
        "         Current function value: 0.693028\n",
        "         Iterations 3\n",
        "Optimization terminated successfully.\n",
        "         Current function value: 0.693025\n",
        "         Iterations 3\n",
        "Optimization terminated successfully."
       ]
      },
      {
       "output_type": "stream",
       "stream": "stdout",
       "text": [
        "\n",
        "         Current function value: 0.692889\n",
        "         Iterations 4\n",
        "Optimization terminated successfully.\n",
        "         Current function value: 0.693018\n",
        "         Iterations 4\n",
        "Optimization terminated successfully.\n",
        "         Current function value: 0.693000\n",
        "         Iterations 4\n",
        "Optimization terminated successfully."
       ]
      },
      {
       "output_type": "stream",
       "stream": "stdout",
       "text": [
        "\n",
        "         Current function value: 0.693021\n",
        "         Iterations 3\n",
        "Optimization terminated successfully.\n",
        "         Current function value: 0.693030\n",
        "         Iterations 3\n",
        "Optimization terminated successfully.\n",
        "         Current function value: 0.692987\n",
        "         Iterations 4\n",
        "Optimization terminated successfully."
       ]
      },
      {
       "output_type": "stream",
       "stream": "stdout",
       "text": [
        "\n",
        "         Current function value: 0.692983\n",
        "         Iterations 4\n",
        "Optimization terminated successfully.\n",
        "         Current function value: 0.693015\n",
        "         Iterations 3\n",
        "Optimization terminated successfully.\n",
        "         Current function value: 0.692900\n",
        "         Iterations 4\n",
        "Optimization terminated successfully.\n",
        "         Current function value: 0.693030\n",
        "         Iterations 3\n",
        "Optimization terminated successfully."
       ]
      },
      {
       "output_type": "stream",
       "stream": "stdout",
       "text": [
        "\n",
        "         Current function value: 0.692898\n",
        "         Iterations 4\n",
        "Optimization terminated successfully.\n",
        "         Current function value: 0.692972\n",
        "         Iterations 4\n",
        "Optimization terminated successfully.\n",
        "         Current function value: 0.693000\n",
        "         Iterations 4\n",
        "Optimization terminated successfully."
       ]
      },
      {
       "output_type": "stream",
       "stream": "stdout",
       "text": [
        "\n",
        "         Current function value: 0.693013\n",
        "         Iterations 4\n",
        "Optimization terminated successfully.\n",
        "         Current function value: 0.693013\n",
        "         Iterations 4\n",
        "Optimization terminated successfully.\n",
        "         Current function value: 0.692916\n",
        "         Iterations 4\n",
        "Optimization terminated successfully."
       ]
      },
      {
       "output_type": "stream",
       "stream": "stdout",
       "text": [
        "\n",
        "         Current function value: 0.692917\n",
        "         Iterations 4\n",
        "Optimization terminated successfully.\n",
        "         Current function value: 0.692904\n",
        "         Iterations 4\n",
        "Optimization terminated successfully.\n",
        "         Current function value: 0.693026\n",
        "         Iterations 3\n",
        "Optimization terminated successfully."
       ]
      },
      {
       "output_type": "stream",
       "stream": "stdout",
       "text": [
        "\n",
        "         Current function value: 0.693022\n",
        "         Iterations 3\n",
        "Optimization terminated successfully.\n",
        "         Current function value: 0.692956\n",
        "         Iterations 4\n",
        "Optimization terminated successfully.\n",
        "         Current function value: 0.693023\n",
        "         Iterations 3\n",
        "Optimization terminated successfully."
       ]
      },
      {
       "output_type": "stream",
       "stream": "stdout",
       "text": [
        "\n",
        "         Current function value: 0.692855\n",
        "         Iterations 4\n",
        "Optimization terminated successfully.\n",
        "         Current function value: 0.692972\n",
        "         Iterations 4\n",
        "Optimization terminated successfully.\n",
        "         Current function value: 0.693000\n",
        "         Iterations 4\n",
        "Optimization terminated successfully."
       ]
      },
      {
       "output_type": "stream",
       "stream": "stdout",
       "text": [
        "\n",
        "         Current function value: 0.693013\n",
        "         Iterations 4\n",
        "Optimization terminated successfully.\n",
        "         Current function value: 0.693013\n",
        "         Iterations 4\n",
        "Optimization terminated successfully.\n",
        "         Current function value: 0.692806\n",
        "         Iterations 4\n",
        "Optimization terminated successfully."
       ]
      },
      {
       "output_type": "stream",
       "stream": "stdout",
       "text": [
        "\n",
        "         Current function value: 0.693030\n",
        "         Iterations 3\n",
        "Optimization terminated successfully.\n",
        "         Current function value: 0.692987\n",
        "         Iterations 4\n",
        "Optimization terminated successfully.\n",
        "         Current function value: 0.692962\n",
        "         Iterations 4\n",
        "Optimization terminated successfully."
       ]
      },
      {
       "output_type": "stream",
       "stream": "stdout",
       "text": [
        "\n",
        "         Current function value: 0.693016\n",
        "         Iterations 3\n",
        "Optimization terminated successfully.\n",
        "         Current function value: 0.692900\n",
        "         Iterations 4\n",
        "Optimization terminated successfully.\n",
        "         Current function value: 0.693030\n",
        "         Iterations 3\n",
        "Optimization terminated successfully."
       ]
      },
      {
       "output_type": "stream",
       "stream": "stdout",
       "text": [
        "\n",
        "         Current function value: 0.692898\n",
        "         Iterations 4\n",
        "Optimization terminated successfully.\n",
        "         Current function value: 0.692972\n",
        "         Iterations 4\n",
        "Optimization terminated successfully.\n",
        "         Current function value: 0.693000\n",
        "         Iterations 4\n",
        "Optimization terminated successfully."
       ]
      },
      {
       "output_type": "stream",
       "stream": "stdout",
       "text": [
        "\n",
        "         Current function value: 0.693013\n",
        "         Iterations 4\n",
        "Optimization terminated successfully.\n",
        "         Current function value: 0.693013\n",
        "         Iterations 4\n",
        "Optimization terminated successfully.\n",
        "         Current function value: 0.692973\n",
        "         Iterations 4\n",
        "Optimization terminated successfully."
       ]
      },
      {
       "output_type": "stream",
       "stream": "stdout",
       "text": [
        "\n",
        "         Current function value: 0.692931\n",
        "         Iterations 4\n",
        "Optimization terminated successfully.\n",
        "         Current function value: 0.692879\n",
        "         Iterations 4\n",
        "Optimization terminated successfully.\n",
        "         Current function value: 0.692983\n",
        "         Iterations 4\n",
        "Optimization terminated successfully."
       ]
      },
      {
       "output_type": "stream",
       "stream": "stdout",
       "text": [
        "\n",
        "         Current function value: 0.693028\n",
        "         Iterations 3\n",
        "Optimization terminated successfully.\n",
        "         Current function value: 0.692904\n",
        "         Iterations 4\n",
        "Optimization terminated successfully.\n",
        "         Current function value: 0.693028\n",
        "         Iterations 3\n",
        "Optimization terminated successfully."
       ]
      },
      {
       "output_type": "stream",
       "stream": "stdout",
       "text": [
        "\n",
        "         Current function value: 0.692898\n",
        "         Iterations 4\n",
        "Optimization terminated successfully.\n",
        "         Current function value: 0.692972\n",
        "         Iterations 4\n",
        "Optimization terminated successfully.\n",
        "         Current function value: 0.693000\n",
        "         Iterations 4\n",
        "Optimization terminated successfully."
       ]
      },
      {
       "output_type": "stream",
       "stream": "stdout",
       "text": [
        "\n",
        "         Current function value: 0.693013\n",
        "         Iterations 4\n",
        "Optimization terminated successfully.\n",
        "         Current function value: 0.693013\n",
        "         Iterations 4\n",
        "Optimization terminated successfully.\n",
        "         Current function value: 0.693008\n",
        "         Iterations 3\n",
        "Optimization terminated successfully."
       ]
      },
      {
       "output_type": "stream",
       "stream": "stdout",
       "text": [
        "\n",
        "         Current function value: 0.693026\n",
        "         Iterations 3\n",
        "Optimization terminated successfully.\n",
        "         Current function value: 0.693030\n",
        "         Iterations 3\n",
        "Optimization terminated successfully.\n",
        "         Current function value: 0.693023\n",
        "         Iterations 3\n",
        "Optimization terminated successfully."
       ]
      },
      {
       "output_type": "stream",
       "stream": "stdout",
       "text": [
        "\n",
        "         Current function value: 0.693030\n",
        "         Iterations 3\n",
        "Optimization terminated successfully.\n",
        "         Current function value: 0.692960\n",
        "         Iterations 3\n",
        "Optimization terminated successfully.\n",
        "         Current function value: 0.693025\n",
        "         Iterations 3\n",
        "Optimization terminated successfully."
       ]
      },
      {
       "output_type": "stream",
       "stream": "stdout",
       "text": [
        "\n",
        "         Current function value: 0.693019\n",
        "         Iterations 3\n",
        "Optimization terminated successfully.\n",
        "         Current function value: 0.693023\n",
        "         Iterations 3\n",
        "Optimization terminated successfully.\n",
        "         Current function value: 0.693002\n",
        "         Iterations 4\n",
        "Optimization terminated successfully."
       ]
      },
      {
       "output_type": "stream",
       "stream": "stdout",
       "text": [
        "\n",
        "         Current function value: 0.692946\n",
        "         Iterations 5\n",
        "Optimization terminated successfully.\n",
        "         Current function value: 0.693021\n",
        "         Iterations 3\n",
        "Optimization terminated successfully.\n",
        "         Current function value: 0.693029\n",
        "         Iterations 3\n",
        "Optimization terminated successfully."
       ]
      },
      {
       "output_type": "stream",
       "stream": "stdout",
       "text": [
        "\n",
        "         Current function value: 0.693030\n",
        "         Iterations 3\n",
        "Optimization terminated successfully.\n",
        "         Current function value: 0.693029\n",
        "         Iterations 3\n",
        "Optimization terminated successfully.\n",
        "         Current function value: 0.693015\n",
        "         Iterations 3\n",
        "Optimization terminated successfully."
       ]
      },
      {
       "output_type": "stream",
       "stream": "stdout",
       "text": [
        "\n",
        "         Current function value: 0.692975\n",
        "         Iterations 3\n",
        "Optimization terminated successfully.\n",
        "         Current function value: 0.693028\n",
        "         Iterations 3\n",
        "Optimization terminated successfully.\n",
        "         Current function value: 0.693019\n",
        "         Iterations 3\n",
        "Optimization terminated successfully."
       ]
      },
      {
       "output_type": "stream",
       "stream": "stdout",
       "text": [
        "\n",
        "         Current function value: 0.693023\n",
        "         Iterations 3\n",
        "Optimization terminated successfully.\n",
        "         Current function value: 0.693002\n",
        "         Iterations 4\n",
        "Optimization terminated successfully.\n",
        "         Current function value: 0.692946\n",
        "         Iterations 5\n",
        "Optimization terminated successfully."
       ]
      },
      {
       "output_type": "stream",
       "stream": "stdout",
       "text": [
        "\n",
        "         Current function value: 0.692998\n",
        "         Iterations 3\n",
        "Optimization terminated successfully.\n",
        "         Current function value: 0.693008\n",
        "         Iterations 3\n",
        "Optimization terminated successfully.\n",
        "         Current function value: 0.693030\n",
        "         Iterations 3\n",
        "Optimization terminated successfully.\n",
        "         Current function value: 0.693027\n",
        "         Iterations 3\n",
        "Optimization terminated successfully."
       ]
      },
      {
       "output_type": "stream",
       "stream": "stdout",
       "text": [
        "\n",
        "         Current function value: 0.693020\n",
        "         Iterations 3\n",
        "Optimization terminated successfully.\n",
        "         Current function value: 0.692975\n",
        "         Iterations 3\n",
        "Optimization terminated successfully.\n",
        "         Current function value: 0.693026\n",
        "         Iterations 3\n",
        "Optimization terminated successfully."
       ]
      },
      {
       "output_type": "stream",
       "stream": "stdout",
       "text": [
        "\n",
        "         Current function value: 0.693015\n",
        "         Iterations 3\n",
        "Optimization terminated successfully.\n",
        "         Current function value: 0.693016\n",
        "         Iterations 4\n",
        "Optimization terminated successfully.\n",
        "         Current function value: 0.693002\n",
        "         Iterations 4\n",
        "Optimization terminated successfully."
       ]
      },
      {
       "output_type": "stream",
       "stream": "stdout",
       "text": [
        "\n",
        "         Current function value: 0.692946\n",
        "         Iterations 5\n",
        "Optimization terminated successfully.\n",
        "         Current function value: 0.692956\n",
        "         Iterations 4\n",
        "Optimization terminated successfully.\n",
        "         Current function value: 0.692956\n",
        "         Iterations 4\n",
        "Optimization terminated successfully."
       ]
      },
      {
       "output_type": "stream",
       "stream": "stdout",
       "text": [
        "\n",
        "         Current function value: 0.692958\n",
        "         Iterations 4\n",
        "Optimization terminated successfully.\n",
        "         Current function value: 0.693012\n",
        "         Iterations 3\n",
        "Optimization terminated successfully.\n",
        "         Current function value: 0.692956\n",
        "         Iterations 4\n",
        "Optimization terminated successfully."
       ]
      },
      {
       "output_type": "stream",
       "stream": "stdout",
       "text": [
        "\n",
        "         Current function value: 0.692938\n",
        "         Iterations 3\n",
        "Optimization terminated successfully.\n",
        "         Current function value: 0.692918\n",
        "         Iterations 3\n",
        "Optimization terminated successfully.\n",
        "         Current function value: 0.692923\n",
        "         Iterations 3\n",
        "Optimization terminated successfully."
       ]
      },
      {
       "output_type": "stream",
       "stream": "stdout",
       "text": [
        "\n",
        "         Current function value: 0.693017\n",
        "         Iterations 3\n",
        "Optimization terminated successfully.\n",
        "         Current function value: 0.693055\n",
        "         Iterations 3\n",
        "Optimization terminated successfully.\n",
        "         Current function value: 0.692796\n",
        "         Iterations 3\n",
        "Optimization terminated successfully."
       ]
      },
      {
       "output_type": "stream",
       "stream": "stdout",
       "text": [
        "\n",
        "         Current function value: 0.693021\n",
        "         Iterations 3\n",
        "Optimization terminated successfully.\n",
        "         Current function value: 0.692997\n",
        "         Iterations 3\n",
        "Optimization terminated successfully.\n",
        "         Current function value: 0.692802\n",
        "         Iterations 3\n",
        "Optimization terminated successfully."
       ]
      },
      {
       "output_type": "stream",
       "stream": "stdout",
       "text": [
        "\n",
        "         Current function value: 0.693013\n",
        "         Iterations 3\n",
        "Optimization terminated successfully.\n",
        "         Current function value: 0.692952\n",
        "         Iterations 3\n",
        "Optimization terminated successfully.\n",
        "         Current function value: 0.692872\n",
        "         Iterations 3\n",
        "Optimization terminated successfully.\n",
        "         Current function value: 0.693018\n",
        "         Iterations 3\n",
        "Optimization terminated successfully."
       ]
      },
      {
       "output_type": "stream",
       "stream": "stdout",
       "text": [
        "\n",
        "         Current function value: 0.693070\n",
        "         Iterations 3\n",
        "Optimization terminated successfully.\n",
        "         Current function value: 0.692726\n",
        "         Iterations 3\n",
        "Optimization terminated successfully."
       ]
      },
      {
       "output_type": "stream",
       "stream": "stdout",
       "text": [
        "\n",
        "         Current function value: 0.692873\n",
        "         Iterations 3\n",
        "Optimization terminated successfully.\n",
        "         Current function value: 0.692933\n",
        "         Iterations 3\n",
        "Optimization terminated successfully.\n",
        "         Current function value: 0.692728\n",
        "         Iterations 3\n",
        "Optimization terminated successfully."
       ]
      },
      {
       "output_type": "stream",
       "stream": "stdout",
       "text": [
        "\n",
        "         Current function value: 0.692775\n",
        "         Iterations 3\n",
        "Optimization terminated successfully.\n",
        "         Current function value: 0.693017\n",
        "         Iterations 4\n",
        "Optimization terminated successfully.\n",
        "         Current function value: 0.692894\n",
        "         Iterations 3\n",
        "Optimization terminated successfully."
       ]
      },
      {
       "output_type": "stream",
       "stream": "stdout",
       "text": [
        "\n",
        "         Current function value: 0.692739\n",
        "         Iterations 4\n",
        "Optimization terminated successfully.\n",
        "         Current function value: 0.692755\n",
        "         Iterations 4\n",
        "Optimization terminated successfully.\n",
        "         Current function value: 0.692855\n",
        "         Iterations 4\n",
        "Optimization terminated successfully."
       ]
      },
      {
       "output_type": "stream",
       "stream": "stdout",
       "text": [
        "\n",
        "         Current function value: 0.692971\n",
        "         Iterations 3\n",
        "Optimization terminated successfully.\n",
        "         Current function value: 0.692788\n",
        "         Iterations 3\n",
        "Optimization terminated successfully.\n",
        "         Current function value: 0.693025\n",
        "         Iterations 3\n",
        "Optimization terminated successfully.\n",
        "         Current function value: 0.693006\n",
        "         Iterations 4\n",
        "Optimization terminated successfully."
       ]
      },
      {
       "output_type": "stream",
       "stream": "stdout",
       "text": [
        "\n",
        "         Current function value: 0.693000\n",
        "         Iterations 4\n",
        "Optimization terminated successfully.\n",
        "         Current function value: 0.693028\n",
        "         Iterations 3\n",
        "Optimization terminated successfully.\n",
        "         Current function value: 0.693026\n",
        "         Iterations 3\n",
        "Optimization terminated successfully.\n",
        "         Current function value: 0.693012\n",
        "         Iterations 3\n",
        "Optimization terminated successfully."
       ]
      },
      {
       "output_type": "stream",
       "stream": "stdout",
       "text": [
        "\n",
        "         Current function value: 0.692995\n",
        "         Iterations 3\n",
        "Optimization terminated successfully.\n",
        "         Current function value: 0.692992\n",
        "         Iterations 4\n",
        "Optimization terminated successfully.\n",
        "         Current function value: 0.693030\n",
        "         Iterations 3\n",
        "Optimization terminated successfully.\n",
        "         Current function value: 0.693026\n",
        "         Iterations 3\n",
        "Optimization terminated successfully."
       ]
      },
      {
       "output_type": "stream",
       "stream": "stdout",
       "text": [
        "\n",
        "         Current function value: 0.693024\n",
        "         Iterations 3\n",
        "Optimization terminated successfully.\n",
        "         Current function value: 0.693013\n",
        "         Iterations 4\n",
        "Warning: Maximum number of iterations has been exceeded."
       ]
      },
      {
       "output_type": "stream",
       "stream": "stdout",
       "text": [
        "\n",
        "         Current function value: 0.692882\n",
        "         Iterations: 35\n",
        "Optimization terminated successfully.\n",
        "         Current function value: 0.692882\n",
        "         Iterations 4\n",
        "Optimization terminated successfully.\n",
        "         Current function value: 0.693022\n",
        "         Iterations 3\n",
        "Optimization terminated successfully.\n",
        "         Current function value: 0.693025\n",
        "         Iterations 3\n",
        "Optimization terminated successfully."
       ]
      },
      {
       "output_type": "stream",
       "stream": "stdout",
       "text": [
        "\n",
        "         Current function value: 0.693030\n",
        "         Iterations 3\n",
        "Optimization terminated successfully.\n",
        "         Current function value: 0.693016\n",
        "         Iterations 3\n",
        "Optimization terminated successfully.\n",
        "         Current function value: 0.693012\n",
        "         Iterations 3\n",
        "Optimization terminated successfully."
       ]
      },
      {
       "output_type": "stream",
       "stream": "stdout",
       "text": [
        "\n",
        "         Current function value: 0.692757\n",
        "         Iterations 4\n",
        "Optimization terminated successfully.\n",
        "         Current function value: 0.692886\n",
        "         Iterations 3\n",
        "Optimization terminated successfully.\n",
        "         Current function value: 0.693009\n",
        "         Iterations 3\n",
        "Optimization terminated successfully."
       ]
      },
      {
       "output_type": "stream",
       "stream": "stdout",
       "text": [
        "\n",
        "         Current function value: 0.692842\n",
        "         Iterations 4\n",
        "Optimization terminated successfully.\n",
        "         Current function value: 0.692821\n",
        "         Iterations 4\n",
        "Optimization terminated successfully.\n",
        "         Current function value: 0.693024\n",
        "         Iterations 3\n",
        "Optimization terminated successfully."
       ]
      },
      {
       "output_type": "stream",
       "stream": "stdout",
       "text": [
        "\n",
        "         Current function value: 0.692711\n",
        "         Iterations 4\n",
        "Optimization terminated successfully.\n",
        "         Current function value: 0.692898\n",
        "         Iterations 4\n",
        "Optimization terminated successfully.\n",
        "         Current function value: 0.692881\n",
        "         Iterations 3\n",
        "Optimization terminated successfully."
       ]
      },
      {
       "output_type": "stream",
       "stream": "stdout",
       "text": [
        "\n",
        "         Current function value: 0.692846\n",
        "         Iterations 3\n",
        "Optimization terminated successfully.\n",
        "         Current function value: 0.692786\n",
        "         Iterations 3\n",
        "Optimization terminated successfully.\n",
        "         Current function value: 0.692716\n",
        "         Iterations 4\n",
        "Optimization terminated successfully."
       ]
      },
      {
       "output_type": "stream",
       "stream": "stdout",
       "text": [
        "\n",
        "         Current function value: 0.692974\n",
        "         Iterations 4\n",
        "Optimization terminated successfully.\n",
        "         Current function value: 0.692783\n",
        "         Iterations 4\n",
        "Optimization terminated successfully.\n",
        "         Current function value: 0.692773\n",
        "         Iterations 4\n",
        "Optimization terminated successfully."
       ]
      },
      {
       "output_type": "stream",
       "stream": "stdout",
       "text": [
        "\n",
        "         Current function value: 0.693027\n",
        "         Iterations 3\n",
        "Optimization terminated successfully.\n",
        "         Current function value: 0.693026\n",
        "         Iterations 3\n",
        "Optimization terminated successfully.\n",
        "         Current function value: 0.693014\n",
        "         Iterations 3\n",
        "Optimization terminated successfully."
       ]
      },
      {
       "output_type": "stream",
       "stream": "stdout",
       "text": [
        "\n",
        "         Current function value: 0.693017\n",
        "         Iterations 3\n",
        "Optimization terminated successfully.\n",
        "         Current function value: 0.692982\n",
        "         Iterations 3\n",
        "Optimization terminated successfully.\n",
        "         Current function value: 0.692952\n",
        "         Iterations 3\n",
        "Optimization terminated successfully.\n",
        "         Current function value: 0.692870\n",
        "         Iterations 3\n",
        "Optimization terminated successfully."
       ]
      },
      {
       "output_type": "stream",
       "stream": "stdout",
       "text": [
        "\n",
        "         Current function value: 0.692958\n",
        "         Iterations 3\n",
        "Optimization terminated successfully.\n",
        "         Current function value: 0.693002\n",
        "         Iterations 3\n",
        "Optimization terminated successfully.\n",
        "         Current function value: 0.692963\n",
        "         Iterations 3\n",
        "Optimization terminated successfully."
       ]
      },
      {
       "output_type": "stream",
       "stream": "stdout",
       "text": [
        "\n",
        "         Current function value: 0.693028\n",
        "         Iterations 3\n",
        "Optimization terminated successfully.\n",
        "         Current function value: 0.692970\n",
        "         Iterations 3\n",
        "Optimization terminated successfully.\n",
        "         Current function value: 0.693002\n",
        "         Iterations 3\n",
        "Optimization terminated successfully.\n",
        "         Current function value: 0.693046\n",
        "         Iterations 3\n",
        "Optimization terminated successfully."
       ]
      },
      {
       "output_type": "stream",
       "stream": "stdout",
       "text": [
        "\n",
        "         Current function value: 0.693004\n",
        "         Iterations 3\n",
        "Optimization terminated successfully.\n",
        "         Current function value: 0.693023\n",
        "         Iterations 3\n",
        "Optimization terminated successfully.\n",
        "         Current function value: 0.693025\n",
        "         Iterations 3\n",
        "Optimization terminated successfully.\n",
        "         Current function value: 0.693029\n",
        "         Iterations 3\n",
        "Optimization terminated successfully."
       ]
      },
      {
       "output_type": "stream",
       "stream": "stdout",
       "text": [
        "\n",
        "         Current function value: 0.692982\n",
        "         Iterations 3\n",
        "Optimization terminated successfully.\n",
        "         Current function value: 0.693030\n",
        "         Iterations 3\n",
        "Optimization terminated successfully.\n",
        "         Current function value: 0.692975\n",
        "         Iterations 3\n",
        "Optimization terminated successfully."
       ]
      },
      {
       "output_type": "stream",
       "stream": "stdout",
       "text": [
        "\n",
        "         Current function value: 0.692298\n",
        "         Iterations 5\n",
        "Warning: Maximum number of iterations has been exceeded.\n",
        "         Current function value: 0.692722\n",
        "         Iterations: 35\n",
        "Optimization terminated successfully."
       ]
      },
      {
       "output_type": "stream",
       "stream": "stdout",
       "text": [
        "\n",
        "         Current function value: 0.693019\n",
        "         Iterations 3\n",
        "Optimization terminated successfully.\n",
        "         Current function value: 0.693017\n",
        "         Iterations 3\n",
        "Optimization terminated successfully.\n",
        "         Current function value: 0.693030\n",
        "         Iterations 3\n",
        "Optimization terminated successfully.\n",
        "         Current function value: 0.692786\n",
        "         Iterations 3\n",
        "Optimization terminated successfully."
       ]
      },
      {
       "output_type": "stream",
       "stream": "stdout",
       "text": [
        "\n",
        "         Current function value: 0.693006\n",
        "         Iterations 3\n",
        "Optimization terminated successfully.\n",
        "         Current function value: 0.692675\n",
        "         Iterations 3\n",
        "Optimization terminated successfully.\n",
        "         Current function value: 0.692960\n",
        "         Iterations 3\n",
        "Optimization terminated successfully."
       ]
      },
      {
       "output_type": "stream",
       "stream": "stdout",
       "text": [
        "\n",
        "         Current function value: 0.692794\n",
        "         Iterations 3\n",
        "Optimization terminated successfully.\n",
        "         Current function value: 0.693029\n",
        "         Iterations 3\n",
        "Optimization terminated successfully.\n",
        "         Current function value: 0.692901\n",
        "         Iterations 3\n",
        "Optimization terminated successfully."
       ]
      },
      {
       "output_type": "stream",
       "stream": "stdout",
       "text": [
        "\n",
        "         Current function value: 0.693038\n",
        "         Iterations 3\n",
        "Optimization terminated successfully.\n",
        "         Current function value: 0.693029\n",
        "         Iterations 3\n",
        "Optimization terminated successfully."
       ]
      },
      {
       "output_type": "stream",
       "stream": "stdout",
       "text": [
        "\n",
        "         Current function value: 0.692888\n",
        "         Iterations 3\n",
        "Optimization terminated successfully.\n",
        "         Current function value: 0.692824\n",
        "         Iterations 3\n",
        "Optimization terminated successfully."
       ]
      },
      {
       "output_type": "stream",
       "stream": "stdout",
       "text": [
        "\n",
        "         Current function value: 0.693020\n",
        "         Iterations 3\n",
        "Optimization terminated successfully.\n",
        "         Current function value: 0.692999\n",
        "         Iterations 3\n",
        "Optimization terminated successfully.\n",
        "         Current function value: 0.692882\n",
        "         Iterations 3\n",
        "Optimization terminated successfully."
       ]
      },
      {
       "output_type": "stream",
       "stream": "stdout",
       "text": [
        "\n",
        "         Current function value: 0.693020\n",
        "         Iterations 3\n",
        "Optimization terminated successfully.\n",
        "         Current function value: 0.692999\n",
        "         Iterations 3\n",
        "Optimization terminated successfully.\n",
        "         Current function value: 0.692882\n",
        "         Iterations 3\n",
        "Optimization terminated successfully."
       ]
      },
      {
       "output_type": "stream",
       "stream": "stdout",
       "text": [
        "\n",
        "         Current function value: 0.693026\n",
        "         Iterations 3\n",
        "Optimization terminated successfully.\n",
        "         Current function value: 0.692896\n",
        "         Iterations 3\n",
        "Optimization terminated successfully.\n",
        "         Current function value: 0.692816\n",
        "         Iterations 3\n",
        "Optimization terminated successfully."
       ]
      },
      {
       "output_type": "stream",
       "stream": "stdout",
       "text": [
        "\n",
        "         Current function value: 0.693022\n",
        "         Iterations 3\n",
        "Optimization terminated successfully.\n",
        "         Current function value: 0.693001\n",
        "         Iterations 4\n",
        "Optimization terminated successfully.\n",
        "         Current function value: 0.692935\n",
        "         Iterations 4\n",
        "Optimization terminated successfully."
       ]
      },
      {
       "output_type": "stream",
       "stream": "stdout",
       "text": [
        "\n",
        "         Current function value: 0.692812\n",
        "         Iterations 4\n",
        "Optimization terminated successfully.\n",
        "         Current function value: 0.693027\n",
        "         Iterations 3\n",
        "Optimization terminated successfully.\n",
        "         Current function value: 0.692896\n",
        "         Iterations 4\n",
        "Optimization terminated successfully."
       ]
      },
      {
       "output_type": "stream",
       "stream": "stdout",
       "text": [
        "\n",
        "         Current function value: 0.692945\n",
        "         Iterations 4\n",
        "Optimization terminated successfully.\n",
        "         Current function value: 0.692921\n",
        "         Iterations 4\n",
        "Optimization terminated successfully.\n",
        "         Current function value: 0.692921\n",
        "         Iterations 4\n",
        "Optimization terminated successfully."
       ]
      },
      {
       "output_type": "stream",
       "stream": "stdout",
       "text": [
        "\n",
        "         Current function value: 0.693030\n",
        "         Iterations 3\n",
        "Optimization terminated successfully.\n",
        "         Current function value: 0.693030\n",
        "         Iterations 3\n",
        "Optimization terminated successfully.\n",
        "         Current function value: 0.693003\n",
        "         Iterations 4\n",
        "Optimization terminated successfully.\n",
        "         Current function value: 0.693019\n",
        "         Iterations 3\n",
        "Optimization terminated successfully."
       ]
      },
      {
       "output_type": "stream",
       "stream": "stdout",
       "text": [
        "\n",
        "         Current function value: 0.693019\n",
        "         Iterations 3\n",
        "Optimization terminated successfully.\n",
        "         Current function value: 0.693019\n",
        "         Iterations 3\n",
        "Optimization terminated successfully.\n",
        "         Current function value: 0.693017\n",
        "         Iterations 3\n",
        "Optimization terminated successfully."
       ]
      },
      {
       "output_type": "stream",
       "stream": "stdout",
       "text": [
        "\n",
        "         Current function value: 0.693030\n",
        "         Iterations 3\n",
        "Optimization terminated successfully.\n",
        "         Current function value: 0.693029\n",
        "         Iterations 3\n",
        "Optimization terminated successfully.\n",
        "         Current function value: 0.693030\n",
        "         Iterations 3\n",
        "Optimization terminated successfully.\n",
        "         Current function value: 0.693030\n",
        "         Iterations 3\n",
        "Optimization terminated successfully."
       ]
      },
      {
       "output_type": "stream",
       "stream": "stdout",
       "text": [
        "\n",
        "         Current function value: 0.693030\n",
        "         Iterations 3\n",
        "Optimization terminated successfully.\n",
        "         Current function value: 0.693018\n",
        "         Iterations 3\n",
        "Optimization terminated successfully.\n",
        "         Current function value: 0.693029\n",
        "         Iterations 3\n",
        "Optimization terminated successfully.\n",
        "         Current function value: 0.693027\n",
        "         Iterations 3\n",
        "Optimization terminated successfully."
       ]
      },
      {
       "output_type": "stream",
       "stream": "stdout",
       "text": [
        "\n",
        "         Current function value: 0.693027\n",
        "         Iterations 3\n",
        "Optimization terminated successfully.\n",
        "         Current function value: 0.693020\n",
        "         Iterations 3\n",
        "Optimization terminated successfully.\n",
        "         Current function value: 0.693020\n",
        "         Iterations 3\n",
        "Optimization terminated successfully.\n",
        "         Current function value: 0.693030\n",
        "         Iterations 3\n",
        "Optimization terminated successfully."
       ]
      },
      {
       "output_type": "stream",
       "stream": "stdout",
       "text": [
        "\n",
        "         Current function value: 0.692975\n",
        "         Iterations 3\n",
        "Optimization terminated successfully.\n",
        "         Current function value: 0.692948\n",
        "         Iterations 4\n",
        "Optimization terminated successfully.\n",
        "         Current function value: 0.693012\n",
        "         Iterations 4\n",
        "Optimization terminated successfully."
       ]
      },
      {
       "output_type": "stream",
       "stream": "stdout",
       "text": [
        "\n",
        "         Current function value: 0.693012\n",
        "         Iterations 4\n",
        "Optimization terminated successfully.\n",
        "         Current function value: 0.692817\n",
        "         Iterations 5\n",
        "Optimization terminated successfully.\n",
        "         Current function value: 0.693029\n",
        "         Iterations 3\n",
        "Optimization terminated successfully."
       ]
      },
      {
       "output_type": "stream",
       "stream": "stdout",
       "text": [
        "\n",
        "         Current function value: 0.692915\n",
        "         Iterations 4\n",
        "Optimization terminated successfully.\n",
        "         Current function value: 0.692863\n",
        "         Iterations 5\n",
        "Optimization terminated successfully.\n",
        "         Current function value: 0.692939\n",
        "         Iterations 4\n",
        "Optimization terminated successfully."
       ]
      },
      {
       "output_type": "stream",
       "stream": "stdout",
       "text": [
        "\n",
        "         Current function value: 0.693002\n",
        "         Iterations 4\n",
        "Optimization terminated successfully.\n",
        "         Current function value: 0.693002\n",
        "         Iterations 4\n",
        "Optimization terminated successfully.\n",
        "         Current function value: 0.692940\n",
        "         Iterations 4\n",
        "Optimization terminated successfully."
       ]
      },
      {
       "output_type": "stream",
       "stream": "stdout",
       "text": [
        "\n",
        "         Current function value: 0.693022\n",
        "         Iterations 3\n",
        "Optimization terminated successfully.\n",
        "         Current function value: 0.692998\n",
        "         Iterations 3\n",
        "Optimization terminated successfully.\n",
        "         Current function value: 0.692888\n",
        "         Iterations 4\n",
        "Optimization terminated successfully.\n",
        "         Current function value: 0.693021\n",
        "         Iterations 3\n",
        "Optimization terminated successfully."
       ]
      },
      {
       "output_type": "stream",
       "stream": "stdout",
       "text": [
        "\n",
        "         Current function value: 0.693002\n",
        "         Iterations 4\n",
        "Optimization terminated successfully.\n",
        "         Current function value: 0.693003\n",
        "         Iterations 4\n",
        "Optimization terminated successfully.\n",
        "         Current function value: 0.692973\n",
        "         Iterations 4\n",
        "Optimization terminated successfully."
       ]
      },
      {
       "output_type": "stream",
       "stream": "stdout",
       "text": [
        "\n",
        "         Current function value: 0.693024\n",
        "         Iterations 3\n",
        "Optimization terminated successfully.\n",
        "         Current function value: 0.693018\n",
        "         Iterations 4\n",
        "Optimization terminated successfully.\n",
        "         Current function value: 0.693022\n",
        "         Iterations 3\n",
        "Optimization terminated successfully."
       ]
      },
      {
       "output_type": "stream",
       "stream": "stdout",
       "text": [
        "\n",
        "         Current function value: 0.692998\n",
        "         Iterations 3\n",
        "Optimization terminated successfully.\n",
        "         Current function value: 0.692888\n",
        "         Iterations 4\n",
        "Optimization terminated successfully.\n",
        "         Current function value: 0.693021\n",
        "         Iterations 3\n",
        "Optimization terminated successfully."
       ]
      },
      {
       "output_type": "stream",
       "stream": "stdout",
       "text": [
        "\n",
        "         Current function value: 0.693002\n",
        "         Iterations 4\n",
        "Optimization terminated successfully.\n",
        "         Current function value: 0.693003\n",
        "         Iterations 4\n",
        "Optimization terminated successfully.\n",
        "         Current function value: 0.692973\n",
        "         Iterations 4\n",
        "Optimization terminated successfully."
       ]
      },
      {
       "output_type": "stream",
       "stream": "stdout",
       "text": [
        "\n",
        "         Current function value: 0.693024\n",
        "         Iterations 3\n",
        "Optimization terminated successfully.\n",
        "         Current function value: 0.693018\n",
        "         Iterations 4\n",
        "Optimization terminated successfully.\n",
        "         Current function value: 0.693001\n",
        "         Iterations 4\n",
        "Optimization terminated successfully."
       ]
      },
      {
       "output_type": "stream",
       "stream": "stdout",
       "text": [
        "\n",
        "         Current function value: 0.693020\n",
        "         Iterations 4\n",
        "Optimization terminated successfully.\n",
        "         Current function value: 0.692962\n",
        "         Iterations 4\n",
        "Optimization terminated successfully.\n",
        "         Current function value: 0.692847\n",
        "         Iterations 5\n",
        "Optimization terminated successfully."
       ]
      },
      {
       "output_type": "stream",
       "stream": "stdout",
       "text": [
        "\n",
        "         Current function value: 0.692953\n",
        "         Iterations 4\n",
        "Optimization terminated successfully.\n",
        "         Current function value: 0.692978\n",
        "         Iterations 4\n",
        "Optimization terminated successfully.\n",
        "         Current function value: 0.692973\n",
        "         Iterations 4\n",
        "Optimization terminated successfully."
       ]
      },
      {
       "output_type": "stream",
       "stream": "stdout",
       "text": [
        "\n",
        "         Current function value: 0.692987\n",
        "         Iterations 4\n",
        "Optimization terminated successfully.\n",
        "         Current function value: 0.693009\n",
        "         Iterations 3\n",
        "Optimization terminated successfully."
       ]
      },
      {
       "output_type": "stream",
       "stream": "stdout",
       "text": [
        "\n",
        "         Current function value: 0.692993\n",
        "         Iterations 4\n",
        "Optimization terminated successfully.\n",
        "         Current function value: 0.693027\n",
        "         Iterations 3\n",
        "Warning: Maximum number of iterations has been exceeded."
       ]
      },
      {
       "output_type": "stream",
       "stream": "stdout",
       "text": [
        "\n",
        "         Current function value: 0.692956\n",
        "         Iterations: 35\n",
        "Optimization terminated successfully.\n",
        "         Current function value: 0.693019\n",
        "         Iterations 3\n",
        "Optimization terminated successfully.\n",
        "         Current function value: 0.692823\n",
        "         Iterations 3\n",
        "Optimization terminated successfully."
       ]
      },
      {
       "output_type": "stream",
       "stream": "stdout",
       "text": [
        "\n",
        "         Current function value: 0.693007\n",
        "         Iterations 3\n",
        "Optimization terminated successfully.\n",
        "         Current function value: 0.693011\n",
        "         Iterations 3\n",
        "Optimization terminated successfully.\n",
        "         Current function value: 0.693001\n",
        "         Iterations 3\n",
        "Optimization terminated successfully.\n",
        "         Current function value: 0.692840\n",
        "         Iterations 4"
       ]
      },
      {
       "output_type": "stream",
       "stream": "stdout",
       "text": [
        "\n",
        "Optimization terminated successfully.\n",
        "         Current function value: 0.692718\n",
        "         Iterations 4\n",
        "Optimization terminated successfully.\n",
        "         Current function value: 0.692504\n",
        "         Iterations 4\n",
        "Optimization terminated successfully."
       ]
      },
      {
       "output_type": "stream",
       "stream": "stdout",
       "text": [
        "\n",
        "         Current function value: 0.692809\n",
        "         Iterations 4\n",
        "Optimization terminated successfully.\n",
        "         Current function value: 0.693028\n",
        "         Iterations 3\n",
        "Optimization terminated successfully.\n",
        "         Current function value: 0.693026\n",
        "         Iterations 4\n",
        "Optimization terminated successfully."
       ]
      },
      {
       "output_type": "stream",
       "stream": "stdout",
       "text": [
        "\n",
        "         Current function value: 0.693005\n",
        "         Iterations 4\n",
        "Optimization terminated successfully.\n",
        "         Current function value: 0.693024\n",
        "         Iterations 4\n",
        "Optimization terminated successfully.\n",
        "         Current function value: 0.693026\n",
        "         Iterations 4\n",
        "Optimization terminated successfully."
       ]
      },
      {
       "output_type": "stream",
       "stream": "stdout",
       "text": [
        "\n",
        "         Current function value: 0.693026\n",
        "         Iterations 4\n",
        "Optimization terminated successfully.\n",
        "         Current function value: 0.693026\n",
        "         Iterations 4\n",
        "Optimization terminated successfully.\n",
        "         Current function value: 0.693026\n",
        "         Iterations 4\n",
        "Optimization terminated successfully."
       ]
      },
      {
       "output_type": "stream",
       "stream": "stdout",
       "text": [
        "\n",
        "         Current function value: 0.693026\n",
        "         Iterations 4\n",
        "Optimization terminated successfully.\n",
        "         Current function value: 0.693026\n",
        "         Iterations 4\n",
        "Optimization terminated successfully.\n",
        "         Current function value: 0.693026\n",
        "         Iterations 4\n",
        "Optimization terminated successfully."
       ]
      },
      {
       "output_type": "stream",
       "stream": "stdout",
       "text": [
        "\n",
        "         Current function value: 0.693026\n",
        "         Iterations 4\n",
        "Optimization terminated successfully.\n",
        "         Current function value: 0.693026\n",
        "         Iterations 4\n",
        "Optimization terminated successfully.\n",
        "         Current function value: 0.692697\n",
        "         Iterations 5\n",
        "Optimization terminated successfully."
       ]
      },
      {
       "output_type": "stream",
       "stream": "stdout",
       "text": [
        "\n",
        "         Current function value: 0.693009\n",
        "         Iterations 3\n",
        "Optimization terminated successfully.\n",
        "         Current function value: 0.693012\n",
        "         Iterations 3\n",
        "Optimization terminated successfully.\n",
        "         Current function value: 0.693006\n",
        "         Iterations 3\n",
        "Optimization terminated successfully.\n",
        "         Current function value: 0.692907\n",
        "         Iterations 3\n",
        "Optimization terminated successfully."
       ]
      },
      {
       "output_type": "stream",
       "stream": "stdout",
       "text": [
        "\n",
        "         Current function value: 0.693028\n",
        "         Iterations 3\n",
        "Optimization terminated successfully.\n",
        "         Current function value: 0.693016\n",
        "         Iterations 4\n",
        "Optimization terminated successfully.\n",
        "         Current function value: 0.693026\n",
        "         Iterations 3\n",
        "Optimization terminated successfully."
       ]
      },
      {
       "output_type": "stream",
       "stream": "stdout",
       "text": [
        "\n",
        "         Current function value: 0.693030\n",
        "         Iterations 3\n",
        "Optimization terminated successfully.\n",
        "         Current function value: 0.692972\n",
        "         Iterations 3\n",
        "Optimization terminated successfully.\n",
        "         Current function value: 0.692948\n",
        "         Iterations 3\n",
        "Optimization terminated successfully.\n",
        "         Current function value: 0.693014\n",
        "         Iterations 3\n",
        "Optimization terminated successfully."
       ]
      },
      {
       "output_type": "stream",
       "stream": "stdout",
       "text": [
        "\n",
        "         Current function value: 0.693030\n",
        "         Iterations 3\n",
        "Optimization terminated successfully.\n",
        "         Current function value: 0.693030\n",
        "         Iterations 3\n",
        "Optimization terminated successfully.\n",
        "         Current function value: 0.692816\n",
        "         Iterations 4\n",
        "Optimization terminated successfully."
       ]
      },
      {
       "output_type": "stream",
       "stream": "stdout",
       "text": [
        "\n",
        "         Current function value: 0.693021\n",
        "         Iterations 3\n",
        "Optimization terminated successfully.\n",
        "         Current function value: 0.693015\n",
        "         Iterations 3\n",
        "Optimization terminated successfully.\n",
        "         Current function value: 0.693000\n",
        "         Iterations 3\n",
        "Optimization terminated successfully."
       ]
      },
      {
       "output_type": "stream",
       "stream": "stdout",
       "text": [
        "\n",
        "         Current function value: 0.693026\n",
        "         Iterations 3\n",
        "Optimization terminated successfully.\n",
        "         Current function value: 0.693019\n",
        "         Iterations 3\n",
        "Optimization terminated successfully.\n",
        "         Current function value: 0.693016\n",
        "         Iterations 3\n",
        "Optimization terminated successfully."
       ]
      },
      {
       "output_type": "stream",
       "stream": "stdout",
       "text": [
        "\n",
        "         Current function value: 0.693016\n",
        "         Iterations 3\n",
        "Optimization terminated successfully.\n",
        "         Current function value: 0.692979\n",
        "         Iterations 3\n"
       ]
      }
     ],
     "prompt_number": 31
    },
    {
     "cell_type": "markdown",
     "metadata": {},
     "source": [
      "Here are the 30 variables that yield the highest pseudo-$R^2$ value."
     ]
    },
    {
     "cell_type": "code",
     "collapsed": false,
     "input": [
      "regression.MiningReport(variables)"
     ],
     "language": "python",
     "metadata": {},
     "outputs": [
      {
       "output_type": "stream",
       "stream": "stdout",
       "text": [
        "totalwgt_lb 0.00804663447664\n",
        "birthwgt_lb 0.00783469107423 BD-3 BIRTHWEIGHT IN POUNDS - 1ST BABY FROM THIS PREGNANCY\n",
        "lbw1 0.00110496535201 LOW BIRTHWEIGHT - BABY 1\n",
        "nplaced 0.00107176328366 # OF R'S BIO CHILDREN SHE PLACED FOR ADOPTION (BASED ON BPA)\n",
        "constat3 0.00107097717817 3RD PRIORITY CODE FOR CURRENT CONTRACEPTIVE STATUS\n",
        "fmarout5 0.00084452858083 FORMAL MARITAL STATUS AT PREGNANCY OUTCOME\n",
        "frsteatd 0.000816585752415 AGE (IN MOS) WHEN 1ST SUPPLEMENTED - 1ST FROM THIS PREG\n",
        "rmarout6 0.000793145080913 INFORMAL MARITAL STATUS AT PREGNANCY OUTCOME - 6 CATEGORIES\n",
        "infever 0.000772731734124 EVER USED INFERTILITY SERVICES OF ANY KIND\n",
        "splstwk1 0.000727710547487 IF-1 H/P DOING WHAT LAST WEEK (EMPLOYMENT STATUS) 1ST MENTION\n",
        "nummult41 0.000703107395067 NUMBER OF METHODS REPORTED IN (MAY 2002)\n",
        "nummult34 0.000688515665856 NUMBER OF METHODS REPORTED IN (OCT 2001)\n",
        "outcom02 0.00067518482234 OUTCOME OF PREGNANCY - 2ND\n",
        "pmarpreg 0.000661046520124 WHETHER PREGNANCY ENDED BEFORE R'S 1ST MARRIAGE (PREMARITALLY)\n",
        "brnout_r 0.000621690333737 IB-8 R BORN OUTSIDE OF US\n",
        "brnout 0.000621690333737 IB-8 R BORN OUTSIDE OF US\n",
        "nummult17 0.000600411677943 NUMBER OF METHODS REPORTED IN (MAY 2000)\n",
        "educmom 0.000587560821584 MOTHER'S (OR MOTHER-FIGURE'S) EDUCATION\n",
        "marout03 0.000573537821728 FORMAL MARITAL STATUS WHEN PREGNANCY ENDED - 3RD\n",
        "numfirsm1 0.00057283427147 TOTAL NUMBER OF RESPONSES IN EB-1 FIRSMETH - PRESCRIPTION METHODS\n",
        "nummult43 0.000569081526666 NUMBER OF METHODS REPORTED IN (JUL 2002)\n",
        "nummult16 0.000568970901225 NUMBER OF METHODS REPORTED IN (APR 2000)\n",
        "nummult39 0.000554509562327 NUMBER OF METHODS REPORTED IN (MAR 2002)\n",
        "agepreg_i 0.000547750841445 AGEPREG IMPUTATION FLAG\n",
        "nummult35 0.000547536020922 NUMBER OF METHODS REPORTED IN (NOV 2001)\n",
        "lbw1_i 0.000540448123631 LBW1 IMPUTATION FLAG\n",
        "coh1dur 0.000535508320214 DURATION (IN MONTHS) OF R'S FIRST COHABITATION\n",
        "births5 0.000517297177993 NUMBER OF LIVE BIRTHS IN LAST 5 YEARS\n",
        "p1yhsage 0.000514263746852 CI-6 PARTNER'S AGE AT 1ST SEX-1ST REPORTED PARTNER IN LAST 12 MOS\n",
        "abort12 0.000505840942107 FA-3B RECEIVED ABORTION LAST 12 MONTHS\n"
       ]
      }
     ],
     "prompt_number": 32
    },
    {
     "cell_type": "markdown",
     "metadata": {},
     "source": [
      "Eliminating variables that are not known during pregnancy and others that are fishy for various reasons, here's the best model I could find:"
     ]
    },
    {
     "cell_type": "code",
     "collapsed": false,
     "input": [
      "formula='boy ~ agepreg + fmarout5==5 + infever==1'\n",
      "model = smf.logit(formula, data=join)\n",
      "results = model.fit()\n",
      "results.summary() "
     ],
     "language": "python",
     "metadata": {},
     "outputs": [
      {
       "output_type": "stream",
       "stream": "stdout",
       "text": [
        "Optimization terminated successfully.\n",
        "         Current function value: 0.691983\n",
        "         Iterations 4\n"
       ]
      },
      {
       "html": [
        "<table class=\"simpletable\">\n",
        "<caption>Logit Regression Results</caption>\n",
        "<tr>\n",
        "  <th>Dep. Variable:</th>        <td>boy</td>       <th>  No. Observations:  </th>  <td>  9148</td>  \n",
        "</tr>\n",
        "<tr>\n",
        "  <th>Model:</th>               <td>Logit</td>      <th>  Df Residuals:      </th>  <td>  9144</td>  \n",
        "</tr>\n",
        "<tr>\n",
        "  <th>Method:</th>               <td>MLE</td>       <th>  Df Model:          </th>  <td>     3</td>  \n",
        "</tr>\n",
        "<tr>\n",
        "  <th>Date:</th>          <td>Thu, 26 Jun 2014</td> <th>  Pseudo R-squ.:     </th> <td>0.001525</td> \n",
        "</tr>\n",
        "<tr>\n",
        "  <th>Time:</th>              <td>16:22:43</td>     <th>  Log-Likelihood:    </th> <td> -6330.3</td> \n",
        "</tr>\n",
        "<tr>\n",
        "  <th>converged:</th>           <td>True</td>       <th>  LL-Null:           </th> <td> -6339.9</td> \n",
        "</tr>\n",
        "<tr>\n",
        "  <th> </th>                      <td> </td>        <th>  LLR p-value:       </th> <td>0.0002326</td>\n",
        "</tr>\n",
        "</table>\n",
        "<table class=\"simpletable\">\n",
        "<tr>\n",
        "            <td></td>               <th>coef</th>     <th>std err</th>      <th>z</th>      <th>P>|z|</th> <th>[95.0% Conf. Int.]</th> \n",
        "</tr>\n",
        "<tr>\n",
        "  <th>Intercept</th>             <td>   -0.1863</td> <td>    0.116</td> <td>   -1.606</td> <td> 0.108</td> <td>   -0.414     0.041</td>\n",
        "</tr>\n",
        "<tr>\n",
        "  <th>fmarout5 == 5[T.True]</th> <td>    0.1493</td> <td>    0.048</td> <td>    3.087</td> <td> 0.002</td> <td>    0.054     0.244</td>\n",
        "</tr>\n",
        "<tr>\n",
        "  <th>infever == 1[T.True]</th>  <td>    0.2096</td> <td>    0.063</td> <td>    3.304</td> <td> 0.001</td> <td>    0.085     0.334</td>\n",
        "</tr>\n",
        "<tr>\n",
        "  <th>agepreg</th>               <td>    0.0053</td> <td>    0.004</td> <td>    1.252</td> <td> 0.211</td> <td>   -0.003     0.014</td>\n",
        "</tr>\n",
        "</table>"
       ],
       "metadata": {},
       "output_type": "pyout",
       "prompt_number": 42,
       "text": [
        "<class 'statsmodels.iolib.summary.Summary'>\n",
        "\"\"\"\n",
        "                           Logit Regression Results                           \n",
        "==============================================================================\n",
        "Dep. Variable:                    boy   No. Observations:                 9148\n",
        "Model:                          Logit   Df Residuals:                     9144\n",
        "Method:                           MLE   Df Model:                            3\n",
        "Date:                Thu, 26 Jun 2014   Pseudo R-squ.:                0.001525\n",
        "Time:                        16:22:43   Log-Likelihood:                -6330.3\n",
        "converged:                       True   LL-Null:                       -6339.9\n",
        "                                        LLR p-value:                 0.0002326\n",
        "=========================================================================================\n",
        "                            coef    std err          z      P>|z|      [95.0% Conf. Int.]\n",
        "-----------------------------------------------------------------------------------------\n",
        "Intercept                -0.1863      0.116     -1.606      0.108        -0.414     0.041\n",
        "fmarout5 == 5[T.True]     0.1493      0.048      3.087      0.002         0.054     0.244\n",
        "infever == 1[T.True]      0.2096      0.063      3.304      0.001         0.085     0.334\n",
        "agepreg                   0.0053      0.004      1.252      0.211        -0.003     0.014\n",
        "=========================================================================================\n",
        "\"\"\""
       ]
      }
     ],
     "prompt_number": 42
    }
   ],
   "metadata": {}
  }
 ]
}